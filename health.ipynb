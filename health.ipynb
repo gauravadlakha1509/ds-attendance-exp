{
 "cells": [
  {
   "cell_type": "code",
   "execution_count": 64,
   "metadata": {},
   "outputs": [],
   "source": [
    "import numpy as np\n",
    "import pandas as pd \n",
    "import matplotlib.pyplot as plt\n",
    "import seaborn as sns\n",
    "import datetime\n",
    "%matplotlib inline"
   ]
  },
  {
   "cell_type": "code",
   "execution_count": 112,
   "metadata": {},
   "outputs": [
    {
     "name": "stdout",
     "output_type": "stream",
     "text": [
      "Shape of df: (64229, 12)\n",
      "\n"
     ]
    },
    {
     "data": {
      "text/html": [
       "<div>\n",
       "<style scoped>\n",
       "    .dataframe tbody tr th:only-of-type {\n",
       "        vertical-align: middle;\n",
       "    }\n",
       "\n",
       "    .dataframe tbody tr th {\n",
       "        vertical-align: top;\n",
       "    }\n",
       "\n",
       "    .dataframe thead th {\n",
       "        text-align: right;\n",
       "    }\n",
       "</style>\n",
       "<table border=\"1\" class=\"dataframe\">\n",
       "  <thead>\n",
       "    <tr style=\"text-align: right;\">\n",
       "      <th></th>\n",
       "      <th>HEALTHOFFICEVISITID</th>\n",
       "      <th>HEALTHMAINSTUDRECID</th>\n",
       "      <th>VISITDATE</th>\n",
       "      <th>VISITTIMEIN</th>\n",
       "      <th>VISITTIMEOUT</th>\n",
       "      <th>ISGUARDIANCONTACTED</th>\n",
       "      <th>VISITREASONDESC</th>\n",
       "      <th>ASSESSMENT</th>\n",
       "      <th>ACTIONS</th>\n",
       "      <th>SCHOOLNUMBER</th>\n",
       "      <th>STUDENTID</th>\n",
       "      <th>DISTRICT_NAME</th>\n",
       "    </tr>\n",
       "  </thead>\n",
       "  <tbody>\n",
       "    <tr>\n",
       "      <th>0</th>\n",
       "      <td>340002</td>\n",
       "      <td>52041</td>\n",
       "      <td>2018-10-19</td>\n",
       "      <td>2018-10-19 10:56:00.000</td>\n",
       "      <td>2018-10-19 11:00:00.000</td>\n",
       "      <td>0</td>\n",
       "      <td>Visit reason goes here...</td>\n",
       "      <td>Assessment goes here...</td>\n",
       "      <td>Action goes here...</td>\n",
       "      <td>1936624</td>\n",
       "      <td>173453</td>\n",
       "      <td>CA</td>\n",
       "    </tr>\n",
       "    <tr>\n",
       "      <th>1</th>\n",
       "      <td>364646</td>\n",
       "      <td>52041</td>\n",
       "      <td>2019-09-09</td>\n",
       "      <td>2019-09-09 10:03:00.000</td>\n",
       "      <td>2019-09-09 10:15:00.000</td>\n",
       "      <td>1</td>\n",
       "      <td>Visit reason goes here...</td>\n",
       "      <td>Assessment goes here...</td>\n",
       "      <td>Action goes here...</td>\n",
       "      <td>1936624</td>\n",
       "      <td>173453</td>\n",
       "      <td>CA</td>\n",
       "    </tr>\n",
       "    <tr>\n",
       "      <th>2</th>\n",
       "      <td>324248</td>\n",
       "      <td>137469</td>\n",
       "      <td>2018-03-14</td>\n",
       "      <td>2018-03-14 12:21:24.067</td>\n",
       "      <td>2018-03-14 12:21:24.067</td>\n",
       "      <td>1</td>\n",
       "      <td>Visit reason goes here...</td>\n",
       "      <td>Assessment goes here...</td>\n",
       "      <td>Action goes here...</td>\n",
       "      <td>1936624</td>\n",
       "      <td>237352</td>\n",
       "      <td>CA</td>\n",
       "    </tr>\n",
       "    <tr>\n",
       "      <th>3</th>\n",
       "      <td>321440</td>\n",
       "      <td>137469</td>\n",
       "      <td>2018-02-15</td>\n",
       "      <td>2018-02-15 11:03:00.000</td>\n",
       "      <td>2018-02-15 11:30:00.000</td>\n",
       "      <td>0</td>\n",
       "      <td>Visit reason goes here...</td>\n",
       "      <td>Assessment goes here...</td>\n",
       "      <td>Action goes here...</td>\n",
       "      <td>1936624</td>\n",
       "      <td>237352</td>\n",
       "      <td>CA</td>\n",
       "    </tr>\n",
       "    <tr>\n",
       "      <th>4</th>\n",
       "      <td>350705</td>\n",
       "      <td>134330</td>\n",
       "      <td>2019-03-05</td>\n",
       "      <td>2019-03-05 09:11:00.000</td>\n",
       "      <td>2019-03-05 09:11:00.000</td>\n",
       "      <td>1</td>\n",
       "      <td>Visit reason goes here...</td>\n",
       "      <td>Assessment goes here...</td>\n",
       "      <td>Action goes here...</td>\n",
       "      <td>1936624</td>\n",
       "      <td>220603</td>\n",
       "      <td>CA</td>\n",
       "    </tr>\n",
       "  </tbody>\n",
       "</table>\n",
       "</div>"
      ],
      "text/plain": [
       "   HEALTHOFFICEVISITID  HEALTHMAINSTUDRECID  VISITDATE  \\\n",
       "0               340002                52041 2018-10-19   \n",
       "1               364646                52041 2019-09-09   \n",
       "2               324248               137469 2018-03-14   \n",
       "3               321440               137469 2018-02-15   \n",
       "4               350705               134330 2019-03-05   \n",
       "\n",
       "               VISITTIMEIN             VISITTIMEOUT  ISGUARDIANCONTACTED  \\\n",
       "0  2018-10-19 10:56:00.000  2018-10-19 11:00:00.000                    0   \n",
       "1  2019-09-09 10:03:00.000  2019-09-09 10:15:00.000                    1   \n",
       "2  2018-03-14 12:21:24.067  2018-03-14 12:21:24.067                    1   \n",
       "3  2018-02-15 11:03:00.000  2018-02-15 11:30:00.000                    0   \n",
       "4  2019-03-05 09:11:00.000  2019-03-05 09:11:00.000                    1   \n",
       "\n",
       "             VISITREASONDESC               ASSESSMENT              ACTIONS  \\\n",
       "0  Visit reason goes here...  Assessment goes here...  Action goes here...   \n",
       "1  Visit reason goes here...  Assessment goes here...  Action goes here...   \n",
       "2  Visit reason goes here...  Assessment goes here...  Action goes here...   \n",
       "3  Visit reason goes here...  Assessment goes here...  Action goes here...   \n",
       "4  Visit reason goes here...  Assessment goes here...  Action goes here...   \n",
       "\n",
       "   SCHOOLNUMBER  STUDENTID DISTRICT_NAME  \n",
       "0       1936624     173453            CA  \n",
       "1       1936624     173453            CA  \n",
       "2       1936624     237352            CA  \n",
       "3       1936624     237352            CA  \n",
       "4       1936624     220603            CA  "
      ]
     },
     "execution_count": 112,
     "metadata": {},
     "output_type": "execute_result"
    }
   ],
   "source": [
    "df = pd.read_csv('../data/health_data_CA.csv', parse_dates=['VISITDATE'])\n",
    "print(f'Shape of df: {df.shape}\\n')\n",
    "df.head()"
   ]
  },
  {
   "cell_type": "code",
   "execution_count": 113,
   "metadata": {},
   "outputs": [
    {
     "name": "stdout",
     "output_type": "stream",
     "text": [
      "<class 'pandas.core.frame.DataFrame'>\n",
      "RangeIndex: 64229 entries, 0 to 64228\n",
      "Data columns (total 12 columns):\n",
      " #   Column               Non-Null Count  Dtype         \n",
      "---  ------               --------------  -----         \n",
      " 0   HEALTHOFFICEVISITID  64229 non-null  int64         \n",
      " 1   HEALTHMAINSTUDRECID  64229 non-null  int64         \n",
      " 2   VISITDATE            64229 non-null  datetime64[ns]\n",
      " 3   VISITTIMEIN          64229 non-null  object        \n",
      " 4   VISITTIMEOUT         35002 non-null  object        \n",
      " 5   ISGUARDIANCONTACTED  64229 non-null  int64         \n",
      " 6   VISITREASONDESC      64172 non-null  object        \n",
      " 7   ASSESSMENT           15388 non-null  object        \n",
      " 8   ACTIONS              25187 non-null  object        \n",
      " 9   SCHOOLNUMBER         64229 non-null  int64         \n",
      " 10  STUDENTID            64229 non-null  int64         \n",
      " 11  DISTRICT_NAME        64229 non-null  object        \n",
      "dtypes: datetime64[ns](1), int64(5), object(6)\n",
      "memory usage: 5.9+ MB\n"
     ]
    }
   ],
   "source": [
    "# Info on dataset\n",
    "df.info()"
   ]
  },
  {
   "cell_type": "code",
   "execution_count": 21,
   "metadata": {},
   "outputs": [
    {
     "data": {
      "text/plain": [
       "HEALTHOFFICEVISITID        0\n",
       "HEALTHMAINSTUDRECID        0\n",
       "VISITDATE                  0\n",
       "VISITTIMEIN                0\n",
       "VISITTIMEOUT           29227\n",
       "ISGUARDIANCONTACTED        0\n",
       "VISITREASONDESC           57\n",
       "ASSESSMENT             48841\n",
       "ACTIONS                39042\n",
       "SCHOOLNUMBER               0\n",
       "STUDENTID                  0\n",
       "DISTRICT_NAME              0\n",
       "dtype: int64"
      ]
     },
     "execution_count": 21,
     "metadata": {},
     "output_type": "execute_result"
    }
   ],
   "source": [
    "# Missing values\n",
    "df.isna().sum()"
   ]
  },
  {
   "cell_type": "markdown",
   "metadata": {},
   "source": [
    "- VISITREASONDESC, ASSESSMENT, ACTIONS are descriptive cols wihich doesn't have much info for our case and these are cols which have NaNs\n",
    "\n",
    "- VISITTIMEOUT: gives the time when student is out from doc, this has almost ~50% NaNs. One thing we may get from this is taking the difference of In and Out time which may give an idea of severeness of the issue and may have an impact on final attendance. This can also be seen wrt 'ISGUARDIANCONTACTED' col.\n",
    "\n",
    "- If the time diff is more and guardian is contacted then the probability of issue being severe is more and inturn have an impact on attendance."
   ]
  },
  {
   "cell_type": "code",
   "execution_count": 22,
   "metadata": {},
   "outputs": [
    {
     "name": "stdout",
     "output_type": "stream",
     "text": [
      "Unique reasons/types of reasons mentioned: ['Visit reason goes here...' nan]\n",
      "\n",
      "Assesment by doc: ['Assessment goes here...' nan]\n",
      "\n",
      "Action taken: ['Action goes here...' nan]\n"
     ]
    }
   ],
   "source": [
    "print(f'Unique reasons/types of reasons mentioned: {df.VISITREASONDESC.unique()}\\n')\n",
    "print(f'Assesment by doc: {df.ASSESSMENT.unique()}\\n')\n",
    "print(f'Action taken: {df.ACTIONS.unique()}')"
   ]
  },
  {
   "cell_type": "code",
   "execution_count": 23,
   "metadata": {},
   "outputs": [
    {
     "name": "stdout",
     "output_type": "stream",
     "text": [
      "<class 'pandas.core.frame.DataFrame'>\n",
      "RangeIndex: 64229 entries, 0 to 64228\n",
      "Data columns (total 12 columns):\n",
      " #   Column               Non-Null Count  Dtype         \n",
      "---  ------               --------------  -----         \n",
      " 0   HEALTHOFFICEVISITID  64229 non-null  int64         \n",
      " 1   HEALTHMAINSTUDRECID  64229 non-null  int64         \n",
      " 2   VISITDATE            64229 non-null  datetime64[ns]\n",
      " 3   VISITTIMEIN          64229 non-null  datetime64[ns]\n",
      " 4   VISITTIMEOUT         35002 non-null  datetime64[ns]\n",
      " 5   ISGUARDIANCONTACTED  64229 non-null  int64         \n",
      " 6   VISITREASONDESC      64172 non-null  object        \n",
      " 7   ASSESSMENT           15388 non-null  object        \n",
      " 8   ACTIONS              25187 non-null  object        \n",
      " 9   SCHOOLNUMBER         64229 non-null  int64         \n",
      " 10  STUDENTID            64229 non-null  int64         \n",
      " 11  DISTRICT_NAME        64229 non-null  object        \n",
      "dtypes: datetime64[ns](3), int64(5), object(4)\n",
      "memory usage: 5.9+ MB\n"
     ]
    }
   ],
   "source": [
    "# convert object to datetime\n",
    "df['VISITDATE'] = df['VISITDATE'].apply(pd.to_datetime)\n",
    "df['VISITTIMEIN'] = df['VISITTIMEIN'].apply(pd.to_datetime)\n",
    "df['VISITTIMEOUT'] = df['VISITTIMEOUT'].apply(pd.to_datetime)\n",
    "\n",
    "df.info()\n"
   ]
  },
  {
   "cell_type": "code",
   "execution_count": 29,
   "metadata": {},
   "outputs": [
    {
     "name": "stdout",
     "output_type": "stream",
     "text": [
      "Shape: (11544, 12)\n",
      "Any missing values: \n",
      "HEALTHOFFICEVISITID    0\n",
      "HEALTHMAINSTUDRECID    0\n",
      "VISITDATE              0\n",
      "VISITTIMEIN            0\n",
      "VISITTIMEOUT           0\n",
      "ISGUARDIANCONTACTED    0\n",
      "VISITREASONDESC        0\n",
      "ASSESSMENT             0\n",
      "ACTIONS                0\n",
      "SCHOOLNUMBER           0\n",
      "STUDENTID              0\n",
      "DISTRICT_NAME          0\n",
      "dtype: int64\n"
     ]
    }
   ],
   "source": [
    "# VISITTIMEOUT contains ~50% NaNs, let's drop them and create a new df for our understanding/exploration\n",
    "df1 = df.dropna()\n",
    "df1 = df1.drop_duplicates() # No duplicates actually\n",
    "print(f'Shape: {df1.shape}\\nAny missing values: \\n{df1.isnull().sum()}')"
   ]
  },
  {
   "cell_type": "code",
   "execution_count": 49,
   "metadata": {},
   "outputs": [
    {
     "data": {
      "text/html": [
       "<div>\n",
       "<style scoped>\n",
       "    .dataframe tbody tr th:only-of-type {\n",
       "        vertical-align: middle;\n",
       "    }\n",
       "\n",
       "    .dataframe tbody tr th {\n",
       "        vertical-align: top;\n",
       "    }\n",
       "\n",
       "    .dataframe thead th {\n",
       "        text-align: right;\n",
       "    }\n",
       "</style>\n",
       "<table border=\"1\" class=\"dataframe\">\n",
       "  <thead>\n",
       "    <tr style=\"text-align: right;\">\n",
       "      <th></th>\n",
       "      <th>HEALTHOFFICEVISITID</th>\n",
       "      <th>HEALTHMAINSTUDRECID</th>\n",
       "      <th>VISITDATE</th>\n",
       "      <th>VISITTIMEIN</th>\n",
       "      <th>VISITTIMEOUT</th>\n",
       "      <th>ISGUARDIANCONTACTED</th>\n",
       "      <th>VISITREASONDESC</th>\n",
       "      <th>ASSESSMENT</th>\n",
       "      <th>ACTIONS</th>\n",
       "      <th>SCHOOLNUMBER</th>\n",
       "      <th>STUDENTID</th>\n",
       "      <th>DISTRICT_NAME</th>\n",
       "      <th>IN_date</th>\n",
       "      <th>IN_time</th>\n",
       "      <th>OUT_date</th>\n",
       "      <th>OUT_time</th>\n",
       "    </tr>\n",
       "  </thead>\n",
       "  <tbody>\n",
       "    <tr>\n",
       "      <th>0</th>\n",
       "      <td>340002</td>\n",
       "      <td>52041</td>\n",
       "      <td>2018-10-19</td>\n",
       "      <td>2018-10-19 10:56:00.000</td>\n",
       "      <td>2018-10-19 11:00:00.000</td>\n",
       "      <td>0</td>\n",
       "      <td>Visit reason goes here...</td>\n",
       "      <td>Assessment goes here...</td>\n",
       "      <td>Action goes here...</td>\n",
       "      <td>1936624</td>\n",
       "      <td>173453</td>\n",
       "      <td>CA</td>\n",
       "      <td>2018-10-19</td>\n",
       "      <td>10:56:00</td>\n",
       "      <td>2018-10-19</td>\n",
       "      <td>11:00:00</td>\n",
       "    </tr>\n",
       "    <tr>\n",
       "      <th>1</th>\n",
       "      <td>364646</td>\n",
       "      <td>52041</td>\n",
       "      <td>2019-09-09</td>\n",
       "      <td>2019-09-09 10:03:00.000</td>\n",
       "      <td>2019-09-09 10:15:00.000</td>\n",
       "      <td>1</td>\n",
       "      <td>Visit reason goes here...</td>\n",
       "      <td>Assessment goes here...</td>\n",
       "      <td>Action goes here...</td>\n",
       "      <td>1936624</td>\n",
       "      <td>173453</td>\n",
       "      <td>CA</td>\n",
       "      <td>2019-09-09</td>\n",
       "      <td>10:03:00</td>\n",
       "      <td>2019-09-09</td>\n",
       "      <td>10:15:00</td>\n",
       "    </tr>\n",
       "    <tr>\n",
       "      <th>2</th>\n",
       "      <td>324248</td>\n",
       "      <td>137469</td>\n",
       "      <td>2018-03-14</td>\n",
       "      <td>2018-03-14 12:21:24.067</td>\n",
       "      <td>2018-03-14 12:21:24.067</td>\n",
       "      <td>1</td>\n",
       "      <td>Visit reason goes here...</td>\n",
       "      <td>Assessment goes here...</td>\n",
       "      <td>Action goes here...</td>\n",
       "      <td>1936624</td>\n",
       "      <td>237352</td>\n",
       "      <td>CA</td>\n",
       "      <td>2018-03-14</td>\n",
       "      <td>12:21:24.067000</td>\n",
       "      <td>2018-03-14</td>\n",
       "      <td>12:21:24.067000</td>\n",
       "    </tr>\n",
       "    <tr>\n",
       "      <th>3</th>\n",
       "      <td>321440</td>\n",
       "      <td>137469</td>\n",
       "      <td>2018-02-15</td>\n",
       "      <td>2018-02-15 11:03:00.000</td>\n",
       "      <td>2018-02-15 11:30:00.000</td>\n",
       "      <td>0</td>\n",
       "      <td>Visit reason goes here...</td>\n",
       "      <td>Assessment goes here...</td>\n",
       "      <td>Action goes here...</td>\n",
       "      <td>1936624</td>\n",
       "      <td>237352</td>\n",
       "      <td>CA</td>\n",
       "      <td>2018-02-15</td>\n",
       "      <td>11:03:00</td>\n",
       "      <td>2018-02-15</td>\n",
       "      <td>11:30:00</td>\n",
       "    </tr>\n",
       "    <tr>\n",
       "      <th>4</th>\n",
       "      <td>350705</td>\n",
       "      <td>134330</td>\n",
       "      <td>2019-03-05</td>\n",
       "      <td>2019-03-05 09:11:00.000</td>\n",
       "      <td>2019-03-05 09:11:00.000</td>\n",
       "      <td>1</td>\n",
       "      <td>Visit reason goes here...</td>\n",
       "      <td>Assessment goes here...</td>\n",
       "      <td>Action goes here...</td>\n",
       "      <td>1936624</td>\n",
       "      <td>220603</td>\n",
       "      <td>CA</td>\n",
       "      <td>2019-03-05</td>\n",
       "      <td>09:11:00</td>\n",
       "      <td>2019-03-05</td>\n",
       "      <td>09:11:00</td>\n",
       "    </tr>\n",
       "  </tbody>\n",
       "</table>\n",
       "</div>"
      ],
      "text/plain": [
       "   HEALTHOFFICEVISITID  HEALTHMAINSTUDRECID  VISITDATE  \\\n",
       "0               340002                52041 2018-10-19   \n",
       "1               364646                52041 2019-09-09   \n",
       "2               324248               137469 2018-03-14   \n",
       "3               321440               137469 2018-02-15   \n",
       "4               350705               134330 2019-03-05   \n",
       "\n",
       "              VISITTIMEIN            VISITTIMEOUT  ISGUARDIANCONTACTED  \\\n",
       "0 2018-10-19 10:56:00.000 2018-10-19 11:00:00.000                    0   \n",
       "1 2019-09-09 10:03:00.000 2019-09-09 10:15:00.000                    1   \n",
       "2 2018-03-14 12:21:24.067 2018-03-14 12:21:24.067                    1   \n",
       "3 2018-02-15 11:03:00.000 2018-02-15 11:30:00.000                    0   \n",
       "4 2019-03-05 09:11:00.000 2019-03-05 09:11:00.000                    1   \n",
       "\n",
       "             VISITREASONDESC               ASSESSMENT              ACTIONS  \\\n",
       "0  Visit reason goes here...  Assessment goes here...  Action goes here...   \n",
       "1  Visit reason goes here...  Assessment goes here...  Action goes here...   \n",
       "2  Visit reason goes here...  Assessment goes here...  Action goes here...   \n",
       "3  Visit reason goes here...  Assessment goes here...  Action goes here...   \n",
       "4  Visit reason goes here...  Assessment goes here...  Action goes here...   \n",
       "\n",
       "   SCHOOLNUMBER  STUDENTID DISTRICT_NAME     IN_date          IN_time  \\\n",
       "0       1936624     173453            CA  2018-10-19         10:56:00   \n",
       "1       1936624     173453            CA  2019-09-09         10:03:00   \n",
       "2       1936624     237352            CA  2018-03-14  12:21:24.067000   \n",
       "3       1936624     237352            CA  2018-02-15         11:03:00   \n",
       "4       1936624     220603            CA  2019-03-05         09:11:00   \n",
       "\n",
       "     OUT_date         OUT_time  \n",
       "0  2018-10-19         11:00:00  \n",
       "1  2019-09-09         10:15:00  \n",
       "2  2018-03-14  12:21:24.067000  \n",
       "3  2018-02-15         11:30:00  \n",
       "4  2019-03-05         09:11:00  "
      ]
     },
     "execution_count": 49,
     "metadata": {},
     "output_type": "execute_result"
    }
   ],
   "source": [
    "# extract time from VISITTIMEIN and VISITTIMEOUT cols\n",
    "df1['IN_date'] = pd.to_datetime(df1['VISITTIMEIN']).dt.date\n",
    "df1['IN_time'] = pd.to_datetime(df1['VISITTIMEIN']).dt.time\n",
    "df1['OUT_date'] = pd.to_datetime(df1['VISITTIMEOUT']).dt.date\n",
    "df1['OUT_time'] = pd.to_datetime(df1['VISITTIMEOUT']).dt.time\n",
    "df1.head()"
   ]
  },
  {
   "cell_type": "code",
   "execution_count": 76,
   "metadata": {},
   "outputs": [
    {
     "data": {
      "text/plain": [
       "0       -1 days +23:56:00\n",
       "1       -1 days +23:48:00\n",
       "2         0 days 00:00:00\n",
       "3       -1 days +23:33:00\n",
       "4         0 days 00:00:00\n",
       "               ...       \n",
       "64171   -1 days +23:48:00\n",
       "64172     0 days 00:00:00\n",
       "64173   -1 days +11:57:00\n",
       "64180   -1 days +23:52:00\n",
       "64181     0 days 00:00:00\n",
       "Length: 11544, dtype: timedelta64[ns]"
      ]
     },
     "execution_count": 76,
     "metadata": {},
     "output_type": "execute_result"
    }
   ],
   "source": [
    "df1['VISITTIMEIN'] - df1['VISITTIMEOUT']"
   ]
  },
  {
   "cell_type": "code",
   "execution_count": 50,
   "metadata": {},
   "outputs": [
    {
     "name": "stdout",
     "output_type": "stream",
     "text": [
      "All Good\n"
     ]
    }
   ],
   "source": [
    "# sample check for diff btw In and Out date, by some wrong entry\n",
    "if np.subtract((pd.DatetimeIndex(df1['IN_date']).day), (pd.DatetimeIndex(df1['OUT_date']).day)).all() == 0:\n",
    "    print('All Good')\n",
    "else:\n",
    "    print('Check idx', np.where(np.subtract((pd.DatetimeIndex(df1['IN_date']).day), (pd.DatetimeIndex(df1['OUT_date']).day)))).all()"
   ]
  },
  {
   "cell_type": "markdown",
   "metadata": {},
   "source": [
    "So we can eliminate the day col, and look for difference in time in and out."
   ]
  },
  {
   "cell_type": "code",
   "execution_count": 51,
   "metadata": {},
   "outputs": [
    {
     "data": {
      "text/plain": [
       "Index(['HEALTHOFFICEVISITID', 'HEALTHMAINSTUDRECID', 'VISITDATE',\n",
       "       'VISITTIMEIN', 'VISITTIMEOUT', 'ISGUARDIANCONTACTED', 'VISITREASONDESC',\n",
       "       'ASSESSMENT', 'ACTIONS', 'SCHOOLNUMBER', 'STUDENTID', 'DISTRICT_NAME',\n",
       "       'IN_date', 'IN_time', 'OUT_date', 'OUT_time'],\n",
       "      dtype='object')"
      ]
     },
     "execution_count": 51,
     "metadata": {},
     "output_type": "execute_result"
    }
   ],
   "source": [
    "df1.columns"
   ]
  },
  {
   "cell_type": "code",
   "execution_count": 52,
   "metadata": {},
   "outputs": [
    {
     "name": "stdout",
     "output_type": "stream",
     "text": [
      "Shape: (11544, 8)\n",
      ", Any NaNs: \n",
      "HEALTHOFFICEVISITID    0\n",
      "HEALTHMAINSTUDRECID    0\n",
      "VISITDATE              0\n",
      "ISGUARDIANCONTACTED    0\n",
      "SCHOOLNUMBER           0\n",
      "STUDENTID              0\n",
      "IN_time                0\n",
      "OUT_time               0\n",
      "dtype: int64\n"
     ]
    },
    {
     "data": {
      "text/html": [
       "<div>\n",
       "<style scoped>\n",
       "    .dataframe tbody tr th:only-of-type {\n",
       "        vertical-align: middle;\n",
       "    }\n",
       "\n",
       "    .dataframe tbody tr th {\n",
       "        vertical-align: top;\n",
       "    }\n",
       "\n",
       "    .dataframe thead th {\n",
       "        text-align: right;\n",
       "    }\n",
       "</style>\n",
       "<table border=\"1\" class=\"dataframe\">\n",
       "  <thead>\n",
       "    <tr style=\"text-align: right;\">\n",
       "      <th></th>\n",
       "      <th>HEALTHOFFICEVISITID</th>\n",
       "      <th>HEALTHMAINSTUDRECID</th>\n",
       "      <th>VISITDATE</th>\n",
       "      <th>ISGUARDIANCONTACTED</th>\n",
       "      <th>SCHOOLNUMBER</th>\n",
       "      <th>STUDENTID</th>\n",
       "      <th>IN_time</th>\n",
       "      <th>OUT_time</th>\n",
       "    </tr>\n",
       "  </thead>\n",
       "  <tbody>\n",
       "    <tr>\n",
       "      <th>0</th>\n",
       "      <td>340002</td>\n",
       "      <td>52041</td>\n",
       "      <td>2018-10-19</td>\n",
       "      <td>0</td>\n",
       "      <td>1936624</td>\n",
       "      <td>173453</td>\n",
       "      <td>10:56:00</td>\n",
       "      <td>11:00:00</td>\n",
       "    </tr>\n",
       "    <tr>\n",
       "      <th>1</th>\n",
       "      <td>364646</td>\n",
       "      <td>52041</td>\n",
       "      <td>2019-09-09</td>\n",
       "      <td>1</td>\n",
       "      <td>1936624</td>\n",
       "      <td>173453</td>\n",
       "      <td>10:03:00</td>\n",
       "      <td>10:15:00</td>\n",
       "    </tr>\n",
       "    <tr>\n",
       "      <th>2</th>\n",
       "      <td>324248</td>\n",
       "      <td>137469</td>\n",
       "      <td>2018-03-14</td>\n",
       "      <td>1</td>\n",
       "      <td>1936624</td>\n",
       "      <td>237352</td>\n",
       "      <td>12:21:24.067000</td>\n",
       "      <td>12:21:24.067000</td>\n",
       "    </tr>\n",
       "    <tr>\n",
       "      <th>3</th>\n",
       "      <td>321440</td>\n",
       "      <td>137469</td>\n",
       "      <td>2018-02-15</td>\n",
       "      <td>0</td>\n",
       "      <td>1936624</td>\n",
       "      <td>237352</td>\n",
       "      <td>11:03:00</td>\n",
       "      <td>11:30:00</td>\n",
       "    </tr>\n",
       "    <tr>\n",
       "      <th>4</th>\n",
       "      <td>350705</td>\n",
       "      <td>134330</td>\n",
       "      <td>2019-03-05</td>\n",
       "      <td>1</td>\n",
       "      <td>1936624</td>\n",
       "      <td>220603</td>\n",
       "      <td>09:11:00</td>\n",
       "      <td>09:11:00</td>\n",
       "    </tr>\n",
       "  </tbody>\n",
       "</table>\n",
       "</div>"
      ],
      "text/plain": [
       "   HEALTHOFFICEVISITID  HEALTHMAINSTUDRECID  VISITDATE  ISGUARDIANCONTACTED  \\\n",
       "0               340002                52041 2018-10-19                    0   \n",
       "1               364646                52041 2019-09-09                    1   \n",
       "2               324248               137469 2018-03-14                    1   \n",
       "3               321440               137469 2018-02-15                    0   \n",
       "4               350705               134330 2019-03-05                    1   \n",
       "\n",
       "   SCHOOLNUMBER  STUDENTID          IN_time         OUT_time  \n",
       "0       1936624     173453         10:56:00         11:00:00  \n",
       "1       1936624     173453         10:03:00         10:15:00  \n",
       "2       1936624     237352  12:21:24.067000  12:21:24.067000  \n",
       "3       1936624     237352         11:03:00         11:30:00  \n",
       "4       1936624     220603         09:11:00         09:11:00  "
      ]
     },
     "execution_count": 52,
     "metadata": {},
     "output_type": "execute_result"
    }
   ],
   "source": [
    "# drop the cols which aren't required for our ease\n",
    "df2 = df1.drop([\n",
    "    'VISITTIMEIN', 'VISITTIMEOUT', 'VISITREASONDESC', 'ASSESSMENT', 'ACTIONS', 'DISTRICT_NAME', 'IN_date', 'OUT_date'\n",
    "    ], axis=1)\n",
    "print(f'Shape: {df2.shape}\\n, Any NaNs: \\n{df2.isna().sum()}')\n",
    "df2.head()"
   ]
  },
  {
   "cell_type": "code",
   "execution_count": 85,
   "metadata": {},
   "outputs": [
    {
     "data": {
      "text/plain": [
       "True     9897\n",
       "False    1647\n",
       "dtype: int64"
      ]
     },
     "execution_count": 85,
     "metadata": {},
     "output_type": "execute_result"
    }
   ],
   "source": [
    "(df2.IN_time != df2.OUT_time).value_counts()"
   ]
  },
  {
   "cell_type": "markdown",
   "metadata": {},
   "source": [
    "- There are 1647 values where ther is time difference, lets see if these have guardian contacted = 1"
   ]
  },
  {
   "cell_type": "code",
   "execution_count": 96,
   "metadata": {},
   "outputs": [
    {
     "name": "stdout",
     "output_type": "stream",
     "text": [
      "Shape: (6095, 8)\n"
     ]
    },
    {
     "data": {
      "text/html": [
       "<div>\n",
       "<style scoped>\n",
       "    .dataframe tbody tr th:only-of-type {\n",
       "        vertical-align: middle;\n",
       "    }\n",
       "\n",
       "    .dataframe tbody tr th {\n",
       "        vertical-align: top;\n",
       "    }\n",
       "\n",
       "    .dataframe thead th {\n",
       "        text-align: right;\n",
       "    }\n",
       "</style>\n",
       "<table border=\"1\" class=\"dataframe\">\n",
       "  <thead>\n",
       "    <tr style=\"text-align: right;\">\n",
       "      <th></th>\n",
       "      <th>HEALTHOFFICEVISITID</th>\n",
       "      <th>HEALTHMAINSTUDRECID</th>\n",
       "      <th>VISITDATE</th>\n",
       "      <th>ISGUARDIANCONTACTED</th>\n",
       "      <th>SCHOOLNUMBER</th>\n",
       "      <th>STUDENTID</th>\n",
       "      <th>IN_time</th>\n",
       "      <th>OUT_time</th>\n",
       "    </tr>\n",
       "  </thead>\n",
       "  <tbody>\n",
       "    <tr>\n",
       "      <th>1</th>\n",
       "      <td>364646</td>\n",
       "      <td>52041</td>\n",
       "      <td>2019-09-09</td>\n",
       "      <td>1</td>\n",
       "      <td>1936624</td>\n",
       "      <td>173453</td>\n",
       "      <td>10:03:00</td>\n",
       "      <td>10:15:00</td>\n",
       "    </tr>\n",
       "    <tr>\n",
       "      <th>22</th>\n",
       "      <td>366760</td>\n",
       "      <td>147219</td>\n",
       "      <td>2019-09-23</td>\n",
       "      <td>1</td>\n",
       "      <td>1995844</td>\n",
       "      <td>296810</td>\n",
       "      <td>11:50:00</td>\n",
       "      <td>12:05:00</td>\n",
       "    </tr>\n",
       "    <tr>\n",
       "      <th>67</th>\n",
       "      <td>361654</td>\n",
       "      <td>143700</td>\n",
       "      <td>2019-08-16</td>\n",
       "      <td>1</td>\n",
       "      <td>1995844</td>\n",
       "      <td>301625</td>\n",
       "      <td>10:10:00</td>\n",
       "      <td>10:13:00</td>\n",
       "    </tr>\n",
       "    <tr>\n",
       "      <th>72</th>\n",
       "      <td>353943</td>\n",
       "      <td>143879</td>\n",
       "      <td>2019-04-12</td>\n",
       "      <td>1</td>\n",
       "      <td>1936624</td>\n",
       "      <td>306697</td>\n",
       "      <td>08:26:00</td>\n",
       "      <td>08:28:00</td>\n",
       "    </tr>\n",
       "    <tr>\n",
       "      <th>90</th>\n",
       "      <td>365823</td>\n",
       "      <td>146986</td>\n",
       "      <td>2019-09-17</td>\n",
       "      <td>1</td>\n",
       "      <td>1995406</td>\n",
       "      <td>300675</td>\n",
       "      <td>09:21:00</td>\n",
       "      <td>09:39:00</td>\n",
       "    </tr>\n",
       "  </tbody>\n",
       "</table>\n",
       "</div>"
      ],
      "text/plain": [
       "    HEALTHOFFICEVISITID  HEALTHMAINSTUDRECID  VISITDATE  ISGUARDIANCONTACTED  \\\n",
       "1                364646                52041 2019-09-09                    1   \n",
       "22               366760               147219 2019-09-23                    1   \n",
       "67               361654               143700 2019-08-16                    1   \n",
       "72               353943               143879 2019-04-12                    1   \n",
       "90               365823               146986 2019-09-17                    1   \n",
       "\n",
       "    SCHOOLNUMBER  STUDENTID   IN_time  OUT_time  \n",
       "1        1936624     173453  10:03:00  10:15:00  \n",
       "22       1995844     296810  11:50:00  12:05:00  \n",
       "67       1995844     301625  10:10:00  10:13:00  \n",
       "72       1936624     306697  08:26:00  08:28:00  \n",
       "90       1995406     300675  09:21:00  09:39:00  "
      ]
     },
     "execution_count": 96,
     "metadata": {},
     "output_type": "execute_result"
    }
   ],
   "source": [
    "df3 = df2[(df2.IN_time != df2.OUT_time) & (df2.ISGUARDIANCONTACTED == 1)]\n",
    "print('Shape:', df3.shape)\n",
    "df3.head()"
   ]
  },
  {
   "cell_type": "markdown",
   "metadata": {},
   "source": [
    "- This df3 may contribute to attendance: As there is diff in In and Out time and reported to guardian"
   ]
  },
  {
   "cell_type": "code",
   "execution_count": 101,
   "metadata": {},
   "outputs": [
    {
     "data": {
      "text/plain": [
       "2019    3174\n",
       "2018    2037\n",
       "2020     884\n",
       "Name: VISITDATE, dtype: int64"
      ]
     },
     "execution_count": 101,
     "metadata": {},
     "output_type": "execute_result"
    }
   ],
   "source": [
    "(pd.DatetimeIndex(df3['VISITDATE']).year).value_counts()"
   ]
  },
  {
   "cell_type": "code",
   "execution_count": null,
   "metadata": {},
   "outputs": [],
   "source": []
  }
 ],
 "metadata": {
  "kernelspec": {
   "display_name": "Python 3.9.7 ('base')",
   "language": "python",
   "name": "python3"
  },
  "language_info": {
   "codemirror_mode": {
    "name": "ipython",
    "version": 3
   },
   "file_extension": ".py",
   "mimetype": "text/x-python",
   "name": "python",
   "nbconvert_exporter": "python",
   "pygments_lexer": "ipython3",
   "version": "3.9.7"
  },
  "orig_nbformat": 4,
  "vscode": {
   "interpreter": {
    "hash": "10c4d5e3e59449d76f72563cbdc1a70e5b77851502e7893fcbb9649d12950c06"
   }
  }
 },
 "nbformat": 4,
 "nbformat_minor": 2
}
