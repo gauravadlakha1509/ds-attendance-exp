{
 "cells": [
  {
   "cell_type": "code",
   "execution_count": 79,
   "id": "cda34302",
   "metadata": {},
   "outputs": [
    {
     "name": "stdout",
     "output_type": "stream",
     "text": [
      "The nb_black extension is already loaded. To reload it, use:\n",
      "  %reload_ext nb_black\n"
     ]
    },
    {
     "data": {
      "application/javascript": [
       "\n",
       "            setTimeout(function() {\n",
       "                var nbb_cell_id = 79;\n",
       "                var nbb_unformatted_code = \"%load_ext nb_black\";\n",
       "                var nbb_formatted_code = \"%load_ext nb_black\";\n",
       "                var nbb_cells = Jupyter.notebook.get_cells();\n",
       "                for (var i = 0; i < nbb_cells.length; ++i) {\n",
       "                    if (nbb_cells[i].input_prompt_number == nbb_cell_id) {\n",
       "                        if (nbb_cells[i].get_text() == nbb_unformatted_code) {\n",
       "                             nbb_cells[i].set_text(nbb_formatted_code);\n",
       "                        }\n",
       "                        break;\n",
       "                    }\n",
       "                }\n",
       "            }, 500);\n",
       "            "
      ],
      "text/plain": [
       "<IPython.core.display.Javascript object>"
      ]
     },
     "metadata": {},
     "output_type": "display_data"
    }
   ],
   "source": [
    "%load_ext nb_black"
   ]
  },
  {
   "cell_type": "code",
   "execution_count": 80,
   "id": "3cb676ee",
   "metadata": {},
   "outputs": [
    {
     "data": {
      "application/javascript": [
       "\n",
       "            setTimeout(function() {\n",
       "                var nbb_cell_id = 80;\n",
       "                var nbb_unformatted_code = \"import pandas as pd\\nimport numpy as np\\nfrom fastai.tabular.core import *\\nfrom fastai.data.transforms import *\\nfrom fastcore.all import *\\nimport seaborn as sns\\nimport matplotlib.pyplot as plt\";\n",
       "                var nbb_formatted_code = \"import pandas as pd\\nimport numpy as np\\nfrom fastai.tabular.core import *\\nfrom fastai.data.transforms import *\\nfrom fastcore.all import *\\nimport seaborn as sns\\nimport matplotlib.pyplot as plt\";\n",
       "                var nbb_cells = Jupyter.notebook.get_cells();\n",
       "                for (var i = 0; i < nbb_cells.length; ++i) {\n",
       "                    if (nbb_cells[i].input_prompt_number == nbb_cell_id) {\n",
       "                        if (nbb_cells[i].get_text() == nbb_unformatted_code) {\n",
       "                             nbb_cells[i].set_text(nbb_formatted_code);\n",
       "                        }\n",
       "                        break;\n",
       "                    }\n",
       "                }\n",
       "            }, 500);\n",
       "            "
      ],
      "text/plain": [
       "<IPython.core.display.Javascript object>"
      ]
     },
     "metadata": {},
     "output_type": "display_data"
    }
   ],
   "source": [
    "import pandas as pd\n",
    "import numpy as np\n",
    "from fastai.tabular.core import *\n",
    "from fastai.data.transforms import *\n",
    "from fastcore.all import *\n",
    "import seaborn as sns\n",
    "import matplotlib.pyplot as plt"
   ]
  },
  {
   "cell_type": "code",
   "execution_count": 81,
   "id": "d30036ae",
   "metadata": {},
   "outputs": [
    {
     "data": {
      "text/html": [
       "        <script type=\"text/javascript\">\n",
       "        window.PlotlyConfig = {MathJaxConfig: 'local'};\n",
       "        if (window.MathJax && window.MathJax.Hub && window.MathJax.Hub.Config) {window.MathJax.Hub.Config({SVG: {font: \"STIX-Web\"}});}\n",
       "        if (typeof require !== 'undefined') {\n",
       "        require.undef(\"plotly\");\n",
       "        requirejs.config({\n",
       "            paths: {\n",
       "                'plotly': ['https://cdn.plot.ly/plotly-2.12.1.min']\n",
       "            }\n",
       "        });\n",
       "        require(['plotly'], function(Plotly) {\n",
       "            window._Plotly = Plotly;\n",
       "        });\n",
       "        }\n",
       "        </script>\n",
       "        "
      ]
     },
     "metadata": {},
     "output_type": "display_data"
    },
    {
     "data": {
      "application/javascript": [
       "\n",
       "            setTimeout(function() {\n",
       "                var nbb_cell_id = 81;\n",
       "                var nbb_unformatted_code = \"%matplotlib inline\\nimport plotly as py\\nimport plotly.tools as tls\\nimport matplotlib.pyplot as plt\\n\\npy.offline.init_notebook_mode(connected=True)\\nfrom plotly.offline import iplot\\n\\npd.options.plotting.backend = \\\"plotly\\\"\\n\\nimport seaborn as sns\\nimport matplotlib.pyplot as plt\\n\\n## initial viz settings ##\\nsns.set(font_scale=1.2)\\ncol = \\\"#3B1C8C\\\"\\ncm = \\\"viridis\\\"\\nimport plotly.graph_objects as go\";\n",
       "                var nbb_formatted_code = \"%matplotlib inline\\nimport plotly as py\\nimport plotly.tools as tls\\nimport matplotlib.pyplot as plt\\n\\npy.offline.init_notebook_mode(connected=True)\\nfrom plotly.offline import iplot\\n\\npd.options.plotting.backend = \\\"plotly\\\"\\n\\nimport seaborn as sns\\nimport matplotlib.pyplot as plt\\n\\n## initial viz settings ##\\nsns.set(font_scale=1.2)\\ncol = \\\"#3B1C8C\\\"\\ncm = \\\"viridis\\\"\\nimport plotly.graph_objects as go\";\n",
       "                var nbb_cells = Jupyter.notebook.get_cells();\n",
       "                for (var i = 0; i < nbb_cells.length; ++i) {\n",
       "                    if (nbb_cells[i].input_prompt_number == nbb_cell_id) {\n",
       "                        if (nbb_cells[i].get_text() == nbb_unformatted_code) {\n",
       "                             nbb_cells[i].set_text(nbb_formatted_code);\n",
       "                        }\n",
       "                        break;\n",
       "                    }\n",
       "                }\n",
       "            }, 500);\n",
       "            "
      ],
      "text/plain": [
       "<IPython.core.display.Javascript object>"
      ]
     },
     "metadata": {},
     "output_type": "display_data"
    }
   ],
   "source": [
    "%matplotlib inline\n",
    "import plotly as py\n",
    "import plotly.tools as tls\n",
    "import matplotlib.pyplot as plt\n",
    "\n",
    "py.offline.init_notebook_mode(connected=True)\n",
    "from plotly.offline import iplot\n",
    "\n",
    "pd.options.plotting.backend = \"plotly\"\n",
    "\n",
    "import seaborn as sns\n",
    "import matplotlib.pyplot as plt\n",
    "\n",
    "## initial viz settings ##\n",
    "sns.set(font_scale=1.2)\n",
    "col = \"#3B1C8C\"\n",
    "cm = \"viridis\"\n",
    "import plotly.graph_objects as go\n"
   ]
  },
  {
   "cell_type": "code",
   "execution_count": 82,
   "id": "ef022a65",
   "metadata": {},
   "outputs": [
    {
     "data": {
      "application/javascript": [
       "\n",
       "            setTimeout(function() {\n",
       "                var nbb_cell_id = 82;\n",
       "                var nbb_unformatted_code = \"path = Path(\\n    \\\"/Users/gaurav.adlakha/Documents/attendance_s3_date/meetingattendance/attendance_meeting_append_data.csv\\\"\\n)\";\n",
       "                var nbb_formatted_code = \"path = Path(\\n    \\\"/Users/gaurav.adlakha/Documents/attendance_s3_date/meetingattendance/attendance_meeting_append_data.csv\\\"\\n)\";\n",
       "                var nbb_cells = Jupyter.notebook.get_cells();\n",
       "                for (var i = 0; i < nbb_cells.length; ++i) {\n",
       "                    if (nbb_cells[i].input_prompt_number == nbb_cell_id) {\n",
       "                        if (nbb_cells[i].get_text() == nbb_unformatted_code) {\n",
       "                             nbb_cells[i].set_text(nbb_formatted_code);\n",
       "                        }\n",
       "                        break;\n",
       "                    }\n",
       "                }\n",
       "            }, 500);\n",
       "            "
      ],
      "text/plain": [
       "<IPython.core.display.Javascript object>"
      ]
     },
     "metadata": {},
     "output_type": "display_data"
    }
   ],
   "source": [
    "path = Path(\n",
    "    \"/Users/gaurav.adlakha/Documents/attendance_s3_date/meetingattendance/attendance_meeting_append_data.csv\"\n",
    ")"
   ]
  },
  {
   "cell_type": "code",
   "execution_count": 83,
   "id": "859e4620",
   "metadata": {},
   "outputs": [
    {
     "name": "stderr",
     "output_type": "stream",
     "text": [
      "<timed exec>:1: DtypeWarning:\n",
      "\n",
      "Columns (13) have mixed types. Specify dtype option on import or set low_memory=False.\n",
      "\n"
     ]
    },
    {
     "name": "stdout",
     "output_type": "stream",
     "text": [
      "CPU times: user 51.4 s, sys: 22.6 s, total: 1min 13s\n",
      "Wall time: 1min 17s\n"
     ]
    },
    {
     "data": {
      "application/javascript": [
       "\n",
       "            setTimeout(function() {\n",
       "                var nbb_cell_id = 83;\n",
       "                var nbb_unformatted_code = \"%%time\\ndf = pd.read_csv(path)\";\n",
       "                var nbb_formatted_code = \"%%time\\ndf = pd.read_csv(path)\";\n",
       "                var nbb_cells = Jupyter.notebook.get_cells();\n",
       "                for (var i = 0; i < nbb_cells.length; ++i) {\n",
       "                    if (nbb_cells[i].input_prompt_number == nbb_cell_id) {\n",
       "                        if (nbb_cells[i].get_text() == nbb_unformatted_code) {\n",
       "                             nbb_cells[i].set_text(nbb_formatted_code);\n",
       "                        }\n",
       "                        break;\n",
       "                    }\n",
       "                }\n",
       "            }, 500);\n",
       "            "
      ],
      "text/plain": [
       "<IPython.core.display.Javascript object>"
      ]
     },
     "metadata": {},
     "output_type": "display_data"
    }
   ],
   "source": [
    "%%time\n",
    "df = pd.read_csv(path)"
   ]
  },
  {
   "cell_type": "code",
   "execution_count": 84,
   "id": "3c860fde",
   "metadata": {},
   "outputs": [
    {
     "data": {
      "text/plain": [
       "23035206"
      ]
     },
     "execution_count": 84,
     "metadata": {},
     "output_type": "execute_result"
    },
    {
     "data": {
      "application/javascript": [
       "\n",
       "            setTimeout(function() {\n",
       "                var nbb_cell_id = 84;\n",
       "                var nbb_unformatted_code = \"len(df)\";\n",
       "                var nbb_formatted_code = \"len(df)\";\n",
       "                var nbb_cells = Jupyter.notebook.get_cells();\n",
       "                for (var i = 0; i < nbb_cells.length; ++i) {\n",
       "                    if (nbb_cells[i].input_prompt_number == nbb_cell_id) {\n",
       "                        if (nbb_cells[i].get_text() == nbb_unformatted_code) {\n",
       "                             nbb_cells[i].set_text(nbb_formatted_code);\n",
       "                        }\n",
       "                        break;\n",
       "                    }\n",
       "                }\n",
       "            }, 500);\n",
       "            "
      ],
      "text/plain": [
       "<IPython.core.display.Javascript object>"
      ]
     },
     "metadata": {},
     "output_type": "display_data"
    }
   ],
   "source": [
    "len(df)"
   ]
  },
  {
   "cell_type": "code",
   "execution_count": 85,
   "id": "076b1c99",
   "metadata": {},
   "outputs": [
    {
     "name": "stdout",
     "output_type": "stream",
     "text": [
      "CPU times: user 20.3 s, sys: 13.2 s, total: 33.5 s\n",
      "Wall time: 34.5 s\n"
     ]
    },
    {
     "data": {
      "text/html": [
       "<div>\n",
       "<style scoped>\n",
       "    .dataframe tbody tr th:only-of-type {\n",
       "        vertical-align: middle;\n",
       "    }\n",
       "\n",
       "    .dataframe tbody tr th {\n",
       "        vertical-align: top;\n",
       "    }\n",
       "\n",
       "    .dataframe thead th {\n",
       "        text-align: right;\n",
       "    }\n",
       "</style>\n",
       "<table border=\"1\" class=\"dataframe\">\n",
       "  <thead>\n",
       "    <tr style=\"text-align: right;\">\n",
       "      <th></th>\n",
       "      <th>Unnamed: 0</th>\n",
       "      <th>SCHOOLYEAR</th>\n",
       "      <th>PRESENCE_STATUS_CD</th>\n",
       "      <th>GRADE_LEVEL</th>\n",
       "      <th>COURSE_NAME</th>\n",
       "      <th>SCHOOLDCID</th>\n",
       "      <th>STUDENTID</th>\n",
       "      <th>LASTFIRST</th>\n",
       "      <th>SCHOOLID</th>\n",
       "      <th>STUDENTDCID</th>\n",
       "      <th>...</th>\n",
       "      <th>ATTENDANCEDATEDay</th>\n",
       "      <th>ATTENDANCEDATEDayofweek</th>\n",
       "      <th>ATTENDANCEDATEDayofyear</th>\n",
       "      <th>ATTENDANCEDATEIs_month_end</th>\n",
       "      <th>ATTENDANCEDATEIs_month_start</th>\n",
       "      <th>ATTENDANCEDATEIs_quarter_end</th>\n",
       "      <th>ATTENDANCEDATEIs_quarter_start</th>\n",
       "      <th>ATTENDANCEDATEIs_year_end</th>\n",
       "      <th>ATTENDANCEDATEIs_year_start</th>\n",
       "      <th>ATTENDANCEDATEElapsed</th>\n",
       "    </tr>\n",
       "  </thead>\n",
       "  <tbody>\n",
       "    <tr>\n",
       "      <th>0</th>\n",
       "      <td>0</td>\n",
       "      <td>2017</td>\n",
       "      <td>Absent</td>\n",
       "      <td>11</td>\n",
       "      <td>CR American History II</td>\n",
       "      <td>4710</td>\n",
       "      <td>73254</td>\n",
       "      <td>Haddock, Dominyk Haylei</td>\n",
       "      <td>260408</td>\n",
       "      <td>73254</td>\n",
       "      <td>...</td>\n",
       "      <td>14</td>\n",
       "      <td>0</td>\n",
       "      <td>134</td>\n",
       "      <td>False</td>\n",
       "      <td>False</td>\n",
       "      <td>False</td>\n",
       "      <td>False</td>\n",
       "      <td>False</td>\n",
       "      <td>False</td>\n",
       "      <td>1.526256e+09</td>\n",
       "    </tr>\n",
       "    <tr>\n",
       "      <th>1</th>\n",
       "      <td>1</td>\n",
       "      <td>2017</td>\n",
       "      <td>Absent</td>\n",
       "      <td>11</td>\n",
       "      <td>Library/Media Assist</td>\n",
       "      <td>4710</td>\n",
       "      <td>87498</td>\n",
       "      <td>Burden Rozier, Tyanna Chrissy</td>\n",
       "      <td>260408</td>\n",
       "      <td>87498</td>\n",
       "      <td>...</td>\n",
       "      <td>17</td>\n",
       "      <td>3</td>\n",
       "      <td>137</td>\n",
       "      <td>False</td>\n",
       "      <td>False</td>\n",
       "      <td>False</td>\n",
       "      <td>False</td>\n",
       "      <td>False</td>\n",
       "      <td>False</td>\n",
       "      <td>1.526515e+09</td>\n",
       "    </tr>\n",
       "    <tr>\n",
       "      <th>2</th>\n",
       "      <td>2</td>\n",
       "      <td>2017</td>\n",
       "      <td>Absent</td>\n",
       "      <td>9</td>\n",
       "      <td>Principles of Business &amp; Finance</td>\n",
       "      <td>4710</td>\n",
       "      <td>94998</td>\n",
       "      <td>Royall, Kyson Catrina</td>\n",
       "      <td>260408</td>\n",
       "      <td>94998</td>\n",
       "      <td>...</td>\n",
       "      <td>22</td>\n",
       "      <td>1</td>\n",
       "      <td>142</td>\n",
       "      <td>False</td>\n",
       "      <td>False</td>\n",
       "      <td>False</td>\n",
       "      <td>False</td>\n",
       "      <td>False</td>\n",
       "      <td>False</td>\n",
       "      <td>1.526947e+09</td>\n",
       "    </tr>\n",
       "    <tr>\n",
       "      <th>3</th>\n",
       "      <td>3</td>\n",
       "      <td>2017</td>\n",
       "      <td>Absent</td>\n",
       "      <td>9</td>\n",
       "      <td>Visual Arts (Beginning)</td>\n",
       "      <td>4710</td>\n",
       "      <td>141790</td>\n",
       "      <td>Heyse, Gordon Kamaury</td>\n",
       "      <td>260408</td>\n",
       "      <td>660949</td>\n",
       "      <td>...</td>\n",
       "      <td>15</td>\n",
       "      <td>1</td>\n",
       "      <td>135</td>\n",
       "      <td>False</td>\n",
       "      <td>False</td>\n",
       "      <td>False</td>\n",
       "      <td>False</td>\n",
       "      <td>False</td>\n",
       "      <td>False</td>\n",
       "      <td>1.526342e+09</td>\n",
       "    </tr>\n",
       "    <tr>\n",
       "      <th>4</th>\n",
       "      <td>4</td>\n",
       "      <td>2017</td>\n",
       "      <td>Present</td>\n",
       "      <td>12</td>\n",
       "      <td>Visual Arts (Intermediate)</td>\n",
       "      <td>4710</td>\n",
       "      <td>114606</td>\n",
       "      <td>Okeke, Nakya Janya</td>\n",
       "      <td>260408</td>\n",
       "      <td>639214</td>\n",
       "      <td>...</td>\n",
       "      <td>15</td>\n",
       "      <td>1</td>\n",
       "      <td>135</td>\n",
       "      <td>False</td>\n",
       "      <td>False</td>\n",
       "      <td>False</td>\n",
       "      <td>False</td>\n",
       "      <td>False</td>\n",
       "      <td>False</td>\n",
       "      <td>1.526342e+09</td>\n",
       "    </tr>\n",
       "    <tr>\n",
       "      <th>...</th>\n",
       "      <td>...</td>\n",
       "      <td>...</td>\n",
       "      <td>...</td>\n",
       "      <td>...</td>\n",
       "      <td>...</td>\n",
       "      <td>...</td>\n",
       "      <td>...</td>\n",
       "      <td>...</td>\n",
       "      <td>...</td>\n",
       "      <td>...</td>\n",
       "      <td>...</td>\n",
       "      <td>...</td>\n",
       "      <td>...</td>\n",
       "      <td>...</td>\n",
       "      <td>...</td>\n",
       "      <td>...</td>\n",
       "      <td>...</td>\n",
       "      <td>...</td>\n",
       "      <td>...</td>\n",
       "      <td>...</td>\n",
       "      <td>...</td>\n",
       "    </tr>\n",
       "    <tr>\n",
       "      <th>23035201</th>\n",
       "      <td>78295</td>\n",
       "      <td>2020</td>\n",
       "      <td>Present</td>\n",
       "      <td>9</td>\n",
       "      <td>Microsoft Word and PowerPoint</td>\n",
       "      <td>4710</td>\n",
       "      <td>131119</td>\n",
       "      <td>Couch, Dennys Keirsten</td>\n",
       "      <td>260408</td>\n",
       "      <td>651545</td>\n",
       "      <td>...</td>\n",
       "      <td>19</td>\n",
       "      <td>0</td>\n",
       "      <td>293</td>\n",
       "      <td>False</td>\n",
       "      <td>False</td>\n",
       "      <td>False</td>\n",
       "      <td>False</td>\n",
       "      <td>False</td>\n",
       "      <td>False</td>\n",
       "      <td>1.603066e+09</td>\n",
       "    </tr>\n",
       "    <tr>\n",
       "      <th>23035202</th>\n",
       "      <td>78296</td>\n",
       "      <td>2020</td>\n",
       "      <td>Present</td>\n",
       "      <td>9</td>\n",
       "      <td>Microsoft Word and PowerPoint</td>\n",
       "      <td>4710</td>\n",
       "      <td>241483</td>\n",
       "      <td>Huston, Isreal Allie</td>\n",
       "      <td>260408</td>\n",
       "      <td>749972</td>\n",
       "      <td>...</td>\n",
       "      <td>19</td>\n",
       "      <td>0</td>\n",
       "      <td>293</td>\n",
       "      <td>False</td>\n",
       "      <td>False</td>\n",
       "      <td>False</td>\n",
       "      <td>False</td>\n",
       "      <td>False</td>\n",
       "      <td>False</td>\n",
       "      <td>1.603066e+09</td>\n",
       "    </tr>\n",
       "    <tr>\n",
       "      <th>23035203</th>\n",
       "      <td>78297</td>\n",
       "      <td>2020</td>\n",
       "      <td>Present</td>\n",
       "      <td>10</td>\n",
       "      <td>Microsoft Word and PowerPoint</td>\n",
       "      <td>4710</td>\n",
       "      <td>164733</td>\n",
       "      <td>Weisner, Ellyana Yadrian</td>\n",
       "      <td>260408</td>\n",
       "      <td>680476</td>\n",
       "      <td>...</td>\n",
       "      <td>19</td>\n",
       "      <td>0</td>\n",
       "      <td>293</td>\n",
       "      <td>False</td>\n",
       "      <td>False</td>\n",
       "      <td>False</td>\n",
       "      <td>False</td>\n",
       "      <td>False</td>\n",
       "      <td>False</td>\n",
       "      <td>1.603066e+09</td>\n",
       "    </tr>\n",
       "    <tr>\n",
       "      <th>23035204</th>\n",
       "      <td>78298</td>\n",
       "      <td>2020</td>\n",
       "      <td>Present</td>\n",
       "      <td>10</td>\n",
       "      <td>Microsoft Word and PowerPoint</td>\n",
       "      <td>4710</td>\n",
       "      <td>79595</td>\n",
       "      <td>Moellmer, Duron Sheyla</td>\n",
       "      <td>260408</td>\n",
       "      <td>79595</td>\n",
       "      <td>...</td>\n",
       "      <td>19</td>\n",
       "      <td>0</td>\n",
       "      <td>293</td>\n",
       "      <td>False</td>\n",
       "      <td>False</td>\n",
       "      <td>False</td>\n",
       "      <td>False</td>\n",
       "      <td>False</td>\n",
       "      <td>False</td>\n",
       "      <td>1.603066e+09</td>\n",
       "    </tr>\n",
       "    <tr>\n",
       "      <th>23035205</th>\n",
       "      <td>78299</td>\n",
       "      <td>2020</td>\n",
       "      <td>Absent</td>\n",
       "      <td>9</td>\n",
       "      <td>Band (Intermediate) Fall</td>\n",
       "      <td>4710</td>\n",
       "      <td>108000</td>\n",
       "      <td>Zoquier, I'Mani Alonso</td>\n",
       "      <td>260408</td>\n",
       "      <td>108000</td>\n",
       "      <td>...</td>\n",
       "      <td>20</td>\n",
       "      <td>1</td>\n",
       "      <td>294</td>\n",
       "      <td>False</td>\n",
       "      <td>False</td>\n",
       "      <td>False</td>\n",
       "      <td>False</td>\n",
       "      <td>False</td>\n",
       "      <td>False</td>\n",
       "      <td>1.603152e+09</td>\n",
       "    </tr>\n",
       "  </tbody>\n",
       "</table>\n",
       "<p>23035206 rows × 39 columns</p>\n",
       "</div>"
      ],
      "text/plain": [
       "          Unnamed: 0  SCHOOLYEAR PRESENCE_STATUS_CD  GRADE_LEVEL  \\\n",
       "0                  0        2017             Absent           11   \n",
       "1                  1        2017             Absent           11   \n",
       "2                  2        2017             Absent            9   \n",
       "3                  3        2017             Absent            9   \n",
       "4                  4        2017            Present           12   \n",
       "...              ...         ...                ...          ...   \n",
       "23035201       78295        2020            Present            9   \n",
       "23035202       78296        2020            Present            9   \n",
       "23035203       78297        2020            Present           10   \n",
       "23035204       78298        2020            Present           10   \n",
       "23035205       78299        2020             Absent            9   \n",
       "\n",
       "                               COURSE_NAME  SCHOOLDCID  STUDENTID  \\\n",
       "0                   CR American History II        4710      73254   \n",
       "1                     Library/Media Assist        4710      87498   \n",
       "2         Principles of Business & Finance        4710      94998   \n",
       "3                  Visual Arts (Beginning)        4710     141790   \n",
       "4               Visual Arts (Intermediate)        4710     114606   \n",
       "...                                    ...         ...        ...   \n",
       "23035201    Microsoft Word and PowerPoint         4710     131119   \n",
       "23035202    Microsoft Word and PowerPoint         4710     241483   \n",
       "23035203    Microsoft Word and PowerPoint         4710     164733   \n",
       "23035204     Microsoft Word and PowerPoint        4710      79595   \n",
       "23035205          Band (Intermediate) Fall        4710     108000   \n",
       "\n",
       "                              LASTFIRST  SCHOOLID  STUDENTDCID  ...  \\\n",
       "0               Haddock, Dominyk Haylei    260408        73254  ...   \n",
       "1         Burden Rozier, Tyanna Chrissy    260408        87498  ...   \n",
       "2                 Royall, Kyson Catrina    260408        94998  ...   \n",
       "3                 Heyse, Gordon Kamaury    260408       660949  ...   \n",
       "4                    Okeke, Nakya Janya    260408       639214  ...   \n",
       "...                                 ...       ...          ...  ...   \n",
       "23035201         Couch, Dennys Keirsten    260408       651545  ...   \n",
       "23035202           Huston, Isreal Allie    260408       749972  ...   \n",
       "23035203       Weisner, Ellyana Yadrian    260408       680476  ...   \n",
       "23035204         Moellmer, Duron Sheyla    260408        79595  ...   \n",
       "23035205         Zoquier, I'Mani Alonso    260408       108000  ...   \n",
       "\n",
       "          ATTENDANCEDATEDay  ATTENDANCEDATEDayofweek  ATTENDANCEDATEDayofyear  \\\n",
       "0                        14                        0                      134   \n",
       "1                        17                        3                      137   \n",
       "2                        22                        1                      142   \n",
       "3                        15                        1                      135   \n",
       "4                        15                        1                      135   \n",
       "...                     ...                      ...                      ...   \n",
       "23035201                 19                        0                      293   \n",
       "23035202                 19                        0                      293   \n",
       "23035203                 19                        0                      293   \n",
       "23035204                 19                        0                      293   \n",
       "23035205                 20                        1                      294   \n",
       "\n",
       "         ATTENDANCEDATEIs_month_end  ATTENDANCEDATEIs_month_start  \\\n",
       "0                             False                         False   \n",
       "1                             False                         False   \n",
       "2                             False                         False   \n",
       "3                             False                         False   \n",
       "4                             False                         False   \n",
       "...                             ...                           ...   \n",
       "23035201                      False                         False   \n",
       "23035202                      False                         False   \n",
       "23035203                      False                         False   \n",
       "23035204                      False                         False   \n",
       "23035205                      False                         False   \n",
       "\n",
       "          ATTENDANCEDATEIs_quarter_end ATTENDANCEDATEIs_quarter_start  \\\n",
       "0                                False                          False   \n",
       "1                                False                          False   \n",
       "2                                False                          False   \n",
       "3                                False                          False   \n",
       "4                                False                          False   \n",
       "...                                ...                            ...   \n",
       "23035201                         False                          False   \n",
       "23035202                         False                          False   \n",
       "23035203                         False                          False   \n",
       "23035204                         False                          False   \n",
       "23035205                         False                          False   \n",
       "\n",
       "          ATTENDANCEDATEIs_year_end ATTENDANCEDATEIs_year_start  \\\n",
       "0                             False                       False   \n",
       "1                             False                       False   \n",
       "2                             False                       False   \n",
       "3                             False                       False   \n",
       "4                             False                       False   \n",
       "...                             ...                         ...   \n",
       "23035201                      False                       False   \n",
       "23035202                      False                       False   \n",
       "23035203                      False                       False   \n",
       "23035204                      False                       False   \n",
       "23035205                      False                       False   \n",
       "\n",
       "         ATTENDANCEDATEElapsed  \n",
       "0                 1.526256e+09  \n",
       "1                 1.526515e+09  \n",
       "2                 1.526947e+09  \n",
       "3                 1.526342e+09  \n",
       "4                 1.526342e+09  \n",
       "...                        ...  \n",
       "23035201          1.603066e+09  \n",
       "23035202          1.603066e+09  \n",
       "23035203          1.603066e+09  \n",
       "23035204          1.603066e+09  \n",
       "23035205          1.603152e+09  \n",
       "\n",
       "[23035206 rows x 39 columns]"
      ]
     },
     "execution_count": 85,
     "metadata": {},
     "output_type": "execute_result"
    },
    {
     "data": {
      "application/javascript": [
       "\n",
       "            setTimeout(function() {\n",
       "                var nbb_cell_id = 85;\n",
       "                var nbb_unformatted_code = \"%%time\\n# df = pd.read_csv(path)\\nmake_date(df, \\\"ATTENDANCEDATE\\\")\\nadd_datepart(df, \\\"ATTENDANCEDATE\\\")\";\n",
       "                var nbb_formatted_code = \"%%time\\n# df = pd.read_csv(path)\\nmake_date(df, \\\"ATTENDANCEDATE\\\")\\nadd_datepart(df, \\\"ATTENDANCEDATE\\\")\";\n",
       "                var nbb_cells = Jupyter.notebook.get_cells();\n",
       "                for (var i = 0; i < nbb_cells.length; ++i) {\n",
       "                    if (nbb_cells[i].input_prompt_number == nbb_cell_id) {\n",
       "                        if (nbb_cells[i].get_text() == nbb_unformatted_code) {\n",
       "                             nbb_cells[i].set_text(nbb_formatted_code);\n",
       "                        }\n",
       "                        break;\n",
       "                    }\n",
       "                }\n",
       "            }, 500);\n",
       "            "
      ],
      "text/plain": [
       "<IPython.core.display.Javascript object>"
      ]
     },
     "metadata": {},
     "output_type": "display_data"
    }
   ],
   "source": [
    "%%time\n",
    "# df = pd.read_csv(path)\n",
    "make_date(df, \"ATTENDANCEDATE\")\n",
    "add_datepart(df, \"ATTENDANCEDATE\")"
   ]
  },
  {
   "cell_type": "code",
   "execution_count": 86,
   "id": "9c0a74e9",
   "metadata": {},
   "outputs": [
    {
     "data": {
      "application/javascript": [
       "\n",
       "            setTimeout(function() {\n",
       "                var nbb_cell_id = 86;\n",
       "                var nbb_unformatted_code = \"df.set_index(\\\"ATTENDANCEDATEYear\\\", inplace=True)\";\n",
       "                var nbb_formatted_code = \"df.set_index(\\\"ATTENDANCEDATEYear\\\", inplace=True)\";\n",
       "                var nbb_cells = Jupyter.notebook.get_cells();\n",
       "                for (var i = 0; i < nbb_cells.length; ++i) {\n",
       "                    if (nbb_cells[i].input_prompt_number == nbb_cell_id) {\n",
       "                        if (nbb_cells[i].get_text() == nbb_unformatted_code) {\n",
       "                             nbb_cells[i].set_text(nbb_formatted_code);\n",
       "                        }\n",
       "                        break;\n",
       "                    }\n",
       "                }\n",
       "            }, 500);\n",
       "            "
      ],
      "text/plain": [
       "<IPython.core.display.Javascript object>"
      ]
     },
     "metadata": {},
     "output_type": "display_data"
    }
   ],
   "source": [
    "df.set_index(\"ATTENDANCEDATEYear\", inplace=True)"
   ]
  },
  {
   "cell_type": "code",
   "execution_count": 87,
   "id": "6a52cc0b",
   "metadata": {},
   "outputs": [
    {
     "data": {
      "application/javascript": [
       "\n",
       "            setTimeout(function() {\n",
       "                var nbb_cell_id = 87;\n",
       "                var nbb_unformatted_code = \"df_2019 = df.loc[2019]\";\n",
       "                var nbb_formatted_code = \"df_2019 = df.loc[2019]\";\n",
       "                var nbb_cells = Jupyter.notebook.get_cells();\n",
       "                for (var i = 0; i < nbb_cells.length; ++i) {\n",
       "                    if (nbb_cells[i].input_prompt_number == nbb_cell_id) {\n",
       "                        if (nbb_cells[i].get_text() == nbb_unformatted_code) {\n",
       "                             nbb_cells[i].set_text(nbb_formatted_code);\n",
       "                        }\n",
       "                        break;\n",
       "                    }\n",
       "                }\n",
       "            }, 500);\n",
       "            "
      ],
      "text/plain": [
       "<IPython.core.display.Javascript object>"
      ]
     },
     "metadata": {},
     "output_type": "display_data"
    }
   ],
   "source": [
    "df_2019 = df.loc[2019]"
   ]
  },
  {
   "cell_type": "code",
   "execution_count": 88,
   "id": "53a2c0c0",
   "metadata": {},
   "outputs": [
    {
     "data": {
      "application/javascript": [
       "\n",
       "            setTimeout(function() {\n",
       "                var nbb_cell_id = 88;\n",
       "                var nbb_unformatted_code = \"df_2019_12 = df_2019[df_2019.GRADE_LEVEL == 12]\";\n",
       "                var nbb_formatted_code = \"df_2019_12 = df_2019[df_2019.GRADE_LEVEL == 12]\";\n",
       "                var nbb_cells = Jupyter.notebook.get_cells();\n",
       "                for (var i = 0; i < nbb_cells.length; ++i) {\n",
       "                    if (nbb_cells[i].input_prompt_number == nbb_cell_id) {\n",
       "                        if (nbb_cells[i].get_text() == nbb_unformatted_code) {\n",
       "                             nbb_cells[i].set_text(nbb_formatted_code);\n",
       "                        }\n",
       "                        break;\n",
       "                    }\n",
       "                }\n",
       "            }, 500);\n",
       "            "
      ],
      "text/plain": [
       "<IPython.core.display.Javascript object>"
      ]
     },
     "metadata": {},
     "output_type": "display_data"
    }
   ],
   "source": [
    "df_2019_12 = df_2019[df_2019.GRADE_LEVEL == 12]"
   ]
  },
  {
   "cell_type": "code",
   "execution_count": 89,
   "id": "18ac89ca",
   "metadata": {},
   "outputs": [
    {
     "data": {
      "application/javascript": [
       "\n",
       "            setTimeout(function() {\n",
       "                var nbb_cell_id = 89;\n",
       "                var nbb_unformatted_code = \"df_2019_12_absent = df_2019_12[df_2019_12.PRESENCE_STATUS_CD == \\\"Absent\\\"]\";\n",
       "                var nbb_formatted_code = \"df_2019_12_absent = df_2019_12[df_2019_12.PRESENCE_STATUS_CD == \\\"Absent\\\"]\";\n",
       "                var nbb_cells = Jupyter.notebook.get_cells();\n",
       "                for (var i = 0; i < nbb_cells.length; ++i) {\n",
       "                    if (nbb_cells[i].input_prompt_number == nbb_cell_id) {\n",
       "                        if (nbb_cells[i].get_text() == nbb_unformatted_code) {\n",
       "                             nbb_cells[i].set_text(nbb_formatted_code);\n",
       "                        }\n",
       "                        break;\n",
       "                    }\n",
       "                }\n",
       "            }, 500);\n",
       "            "
      ],
      "text/plain": [
       "<IPython.core.display.Javascript object>"
      ]
     },
     "metadata": {},
     "output_type": "display_data"
    }
   ],
   "source": [
    "df_2019_12_absent = df_2019_12[df_2019_12.PRESENCE_STATUS_CD == \"Absent\"]"
   ]
  },
  {
   "cell_type": "code",
   "execution_count": 90,
   "id": "1fb15a04",
   "metadata": {},
   "outputs": [
    {
     "data": {
      "text/plain": [
       "Amer History: Founding Prin, Civics&Econ    16196\n",
       "English IV                                  15981\n",
       "Adv Functions & Modeling                    12339\n",
       "Spanish II                                   5890\n",
       "Physical Education: Grades 9-12              5458\n",
       "Amer History:Foun Prin,Civi,&Econ Honors     5072\n",
       "English IV Honors                            4635\n",
       "NC Math 3                                    4560\n",
       "American History II                          4426\n",
       "Actvty Period/Homeroom                       4196\n",
       "Name: COURSE_NAME, dtype: int64"
      ]
     },
     "execution_count": 90,
     "metadata": {},
     "output_type": "execute_result"
    },
    {
     "data": {
      "application/javascript": [
       "\n",
       "            setTimeout(function() {\n",
       "                var nbb_cell_id = 90;\n",
       "                var nbb_unformatted_code = \"df_2019_12_absent.COURSE_NAME.value_counts()[0:10]\";\n",
       "                var nbb_formatted_code = \"df_2019_12_absent.COURSE_NAME.value_counts()[0:10]\";\n",
       "                var nbb_cells = Jupyter.notebook.get_cells();\n",
       "                for (var i = 0; i < nbb_cells.length; ++i) {\n",
       "                    if (nbb_cells[i].input_prompt_number == nbb_cell_id) {\n",
       "                        if (nbb_cells[i].get_text() == nbb_unformatted_code) {\n",
       "                             nbb_cells[i].set_text(nbb_formatted_code);\n",
       "                        }\n",
       "                        break;\n",
       "                    }\n",
       "                }\n",
       "            }, 500);\n",
       "            "
      ],
      "text/plain": [
       "<IPython.core.display.Javascript object>"
      ]
     },
     "metadata": {},
     "output_type": "display_data"
    }
   ],
   "source": [
    "df_2019_12_absent.COURSE_NAME.value_counts()[0:10]"
   ]
  },
  {
   "cell_type": "code",
   "execution_count": 22,
   "id": "6f68c72a",
   "metadata": {},
   "outputs": [
    {
     "data": {
      "text/plain": [
       "1     36467\n",
       "2     32773\n",
       "3     27368\n",
       "4     22830\n",
       "1     14154\n",
       "2     12796\n",
       "3     11218\n",
       "4      9379\n",
       "99     3789\n",
       "99      407\n",
       "5       114\n",
       "5        35\n",
       "7         5\n",
       "7         3\n",
       "Name: PERIODNAME, dtype: int64"
      ]
     },
     "execution_count": 22,
     "metadata": {},
     "output_type": "execute_result"
    },
    {
     "data": {
      "application/javascript": [
       "\n",
       "            setTimeout(function() {\n",
       "                var nbb_cell_id = 22;\n",
       "                var nbb_unformatted_code = \"df_2019_12_absent.PERIODNAME.value_counts()\";\n",
       "                var nbb_formatted_code = \"df_2019_12_absent.PERIODNAME.value_counts()\";\n",
       "                var nbb_cells = Jupyter.notebook.get_cells();\n",
       "                for (var i = 0; i < nbb_cells.length; ++i) {\n",
       "                    if (nbb_cells[i].input_prompt_number == nbb_cell_id) {\n",
       "                        if (nbb_cells[i].get_text() == nbb_unformatted_code) {\n",
       "                             nbb_cells[i].set_text(nbb_formatted_code);\n",
       "                        }\n",
       "                        break;\n",
       "                    }\n",
       "                }\n",
       "            }, 500);\n",
       "            "
      ],
      "text/plain": [
       "<IPython.core.display.Javascript object>"
      ]
     },
     "metadata": {},
     "output_type": "display_data"
    }
   ],
   "source": [
    "df_2019_12_absent.PERIODNAME.value_counts()"
   ]
  },
  {
   "cell_type": "code",
   "execution_count": 91,
   "id": "b0f8996f",
   "metadata": {},
   "outputs": [
    {
     "data": {
      "text/plain": [
       "5     22310\n",
       "3     22070\n",
       "4     19517\n",
       "2     19130\n",
       "10    19059\n",
       "12    18297\n",
       "11    18167\n",
       "1     17826\n",
       "9     13103\n",
       "8      1859\n",
       "Name: ATTENDANCEDATEMonth, dtype: int64"
      ]
     },
     "execution_count": 91,
     "metadata": {},
     "output_type": "execute_result"
    },
    {
     "data": {
      "application/javascript": [
       "\n",
       "            setTimeout(function() {\n",
       "                var nbb_cell_id = 91;\n",
       "                var nbb_unformatted_code = \"df_2019_12_absent.ATTENDANCEDATEMonth.value_counts().sort_values()[::-1]\";\n",
       "                var nbb_formatted_code = \"df_2019_12_absent.ATTENDANCEDATEMonth.value_counts().sort_values()[::-1]\";\n",
       "                var nbb_cells = Jupyter.notebook.get_cells();\n",
       "                for (var i = 0; i < nbb_cells.length; ++i) {\n",
       "                    if (nbb_cells[i].input_prompt_number == nbb_cell_id) {\n",
       "                        if (nbb_cells[i].get_text() == nbb_unformatted_code) {\n",
       "                             nbb_cells[i].set_text(nbb_formatted_code);\n",
       "                        }\n",
       "                        break;\n",
       "                    }\n",
       "                }\n",
       "            }, 500);\n",
       "            "
      ],
      "text/plain": [
       "<IPython.core.display.Javascript object>"
      ]
     },
     "metadata": {},
     "output_type": "display_data"
    }
   ],
   "source": [
    "df_2019_12_absent.ATTENDANCEDATEMonth.value_counts().sort_values()[::-1]"
   ]
  },
  {
   "cell_type": "code",
   "execution_count": 92,
   "id": "9af626da",
   "metadata": {},
   "outputs": [
    {
     "data": {
      "application/javascript": [
       "\n",
       "            setTimeout(function() {\n",
       "                var nbb_cell_id = 92;\n",
       "                var nbb_unformatted_code = \"df_2019_12_absent_month_5 = df_2019_12_absent[\\n    df_2019_12_absent.ATTENDANCEDATEMonth == 5\\n]\";\n",
       "                var nbb_formatted_code = \"df_2019_12_absent_month_5 = df_2019_12_absent[\\n    df_2019_12_absent.ATTENDANCEDATEMonth == 5\\n]\";\n",
       "                var nbb_cells = Jupyter.notebook.get_cells();\n",
       "                for (var i = 0; i < nbb_cells.length; ++i) {\n",
       "                    if (nbb_cells[i].input_prompt_number == nbb_cell_id) {\n",
       "                        if (nbb_cells[i].get_text() == nbb_unformatted_code) {\n",
       "                             nbb_cells[i].set_text(nbb_formatted_code);\n",
       "                        }\n",
       "                        break;\n",
       "                    }\n",
       "                }\n",
       "            }, 500);\n",
       "            "
      ],
      "text/plain": [
       "<IPython.core.display.Javascript object>"
      ]
     },
     "metadata": {},
     "output_type": "display_data"
    }
   ],
   "source": [
    "df_2019_12_absent_month_5 = df_2019_12_absent[\n",
    "    df_2019_12_absent.ATTENDANCEDATEMonth == 5\n",
    "]"
   ]
  },
  {
   "cell_type": "code",
   "execution_count": 107,
   "id": "160e55fe",
   "metadata": {},
   "outputs": [
    {
     "data": {
      "text/plain": [
       "1115.5"
      ]
     },
     "execution_count": 107,
     "metadata": {},
     "output_type": "execute_result"
    },
    {
     "data": {
      "application/javascript": [
       "\n",
       "            setTimeout(function() {\n",
       "                var nbb_cell_id = 107;\n",
       "                var nbb_unformatted_code = \"len(df_2019_12_absent_month_5) * 0.05\";\n",
       "                var nbb_formatted_code = \"len(df_2019_12_absent_month_5) * 0.05\";\n",
       "                var nbb_cells = Jupyter.notebook.get_cells();\n",
       "                for (var i = 0; i < nbb_cells.length; ++i) {\n",
       "                    if (nbb_cells[i].input_prompt_number == nbb_cell_id) {\n",
       "                        if (nbb_cells[i].get_text() == nbb_unformatted_code) {\n",
       "                             nbb_cells[i].set_text(nbb_formatted_code);\n",
       "                        }\n",
       "                        break;\n",
       "                    }\n",
       "                }\n",
       "            }, 500);\n",
       "            "
      ],
      "text/plain": [
       "<IPython.core.display.Javascript object>"
      ]
     },
     "metadata": {},
     "output_type": "display_data"
    }
   ],
   "source": [
    "len(df_2019_12_absent_month_5) * 0.05"
   ]
  },
  {
   "cell_type": "code",
   "execution_count": null,
   "id": "6fb43331",
   "metadata": {},
   "outputs": [],
   "source": []
  },
  {
   "cell_type": "code",
   "execution_count": 108,
   "id": "89f40a3b",
   "metadata": {},
   "outputs": [
    {
     "data": {
      "application/javascript": [
       "\n",
       "            setTimeout(function() {\n",
       "                var nbb_cell_id = 108;\n",
       "                var nbb_unformatted_code = \"df_2019_12_absent_month_5_sample = df_2019_12_absent_month_5.sample(1115)\";\n",
       "                var nbb_formatted_code = \"df_2019_12_absent_month_5_sample = df_2019_12_absent_month_5.sample(1115)\";\n",
       "                var nbb_cells = Jupyter.notebook.get_cells();\n",
       "                for (var i = 0; i < nbb_cells.length; ++i) {\n",
       "                    if (nbb_cells[i].input_prompt_number == nbb_cell_id) {\n",
       "                        if (nbb_cells[i].get_text() == nbb_unformatted_code) {\n",
       "                             nbb_cells[i].set_text(nbb_formatted_code);\n",
       "                        }\n",
       "                        break;\n",
       "                    }\n",
       "                }\n",
       "            }, 500);\n",
       "            "
      ],
      "text/plain": [
       "<IPython.core.display.Javascript object>"
      ]
     },
     "metadata": {},
     "output_type": "display_data"
    }
   ],
   "source": [
    "df_2019_12_absent_month_5_sample = df_2019_12_absent_month_5.sample(1115)"
   ]
  },
  {
   "cell_type": "code",
   "execution_count": 110,
   "id": "033c60de",
   "metadata": {},
   "outputs": [
    {
     "data": {
      "text/plain": [
       "1115"
      ]
     },
     "execution_count": 110,
     "metadata": {},
     "output_type": "execute_result"
    },
    {
     "data": {
      "application/javascript": [
       "\n",
       "            setTimeout(function() {\n",
       "                var nbb_cell_id = 110;\n",
       "                var nbb_unformatted_code = \"len(df_2019_12_absent_month_5_sample)\";\n",
       "                var nbb_formatted_code = \"len(df_2019_12_absent_month_5_sample)\";\n",
       "                var nbb_cells = Jupyter.notebook.get_cells();\n",
       "                for (var i = 0; i < nbb_cells.length; ++i) {\n",
       "                    if (nbb_cells[i].input_prompt_number == nbb_cell_id) {\n",
       "                        if (nbb_cells[i].get_text() == nbb_unformatted_code) {\n",
       "                             nbb_cells[i].set_text(nbb_formatted_code);\n",
       "                        }\n",
       "                        break;\n",
       "                    }\n",
       "                }\n",
       "            }, 500);\n",
       "            "
      ],
      "text/plain": [
       "<IPython.core.display.Javascript object>"
      ]
     },
     "metadata": {},
     "output_type": "display_data"
    }
   ],
   "source": [
    "len(df_2019_12_absent_month_5_sample)"
   ]
  },
  {
   "cell_type": "code",
   "execution_count": 111,
   "id": "943fb69a",
   "metadata": {},
   "outputs": [
    {
     "data": {
      "application/javascript": [
       "\n",
       "            setTimeout(function() {\n",
       "                var nbb_cell_id = 111;\n",
       "                var nbb_unformatted_code = \"df_1 = (\\n    df_2019_12_absent_month_5_sample.groupby([\\\"PERIODNAME\\\", \\\"COURSE_NAME\\\"])[\\n        \\\"PRESENCE_STATUS_CD\\\"\\n    ]\\n    .count()\\n    .reset_index()\\n)\";\n",
       "                var nbb_formatted_code = \"df_1 = (\\n    df_2019_12_absent_month_5_sample.groupby([\\\"PERIODNAME\\\", \\\"COURSE_NAME\\\"])[\\n        \\\"PRESENCE_STATUS_CD\\\"\\n    ]\\n    .count()\\n    .reset_index()\\n)\";\n",
       "                var nbb_cells = Jupyter.notebook.get_cells();\n",
       "                for (var i = 0; i < nbb_cells.length; ++i) {\n",
       "                    if (nbb_cells[i].input_prompt_number == nbb_cell_id) {\n",
       "                        if (nbb_cells[i].get_text() == nbb_unformatted_code) {\n",
       "                             nbb_cells[i].set_text(nbb_formatted_code);\n",
       "                        }\n",
       "                        break;\n",
       "                    }\n",
       "                }\n",
       "            }, 500);\n",
       "            "
      ],
      "text/plain": [
       "<IPython.core.display.Javascript object>"
      ]
     },
     "metadata": {},
     "output_type": "display_data"
    }
   ],
   "source": [
    "df_1 = (\n",
    "    df_2019_12_absent_month_5_sample.groupby([\"PERIODNAME\", \"COURSE_NAME\"])[\n",
    "        \"PRESENCE_STATUS_CD\"\n",
    "    ]\n",
    "    .count()\n",
    "    .reset_index()\n",
    ")"
   ]
  },
  {
   "cell_type": "code",
   "execution_count": 112,
   "id": "60961e89",
   "metadata": {},
   "outputs": [
    {
     "data": {
      "application/javascript": [
       "\n",
       "            setTimeout(function() {\n",
       "                var nbb_cell_id = 112;\n",
       "                var nbb_unformatted_code = \"df_1.columns = [\\\"source\\\", \\\"target\\\", \\\"value\\\"]\";\n",
       "                var nbb_formatted_code = \"df_1.columns = [\\\"source\\\", \\\"target\\\", \\\"value\\\"]\";\n",
       "                var nbb_cells = Jupyter.notebook.get_cells();\n",
       "                for (var i = 0; i < nbb_cells.length; ++i) {\n",
       "                    if (nbb_cells[i].input_prompt_number == nbb_cell_id) {\n",
       "                        if (nbb_cells[i].get_text() == nbb_unformatted_code) {\n",
       "                             nbb_cells[i].set_text(nbb_formatted_code);\n",
       "                        }\n",
       "                        break;\n",
       "                    }\n",
       "                }\n",
       "            }, 500);\n",
       "            "
      ],
      "text/plain": [
       "<IPython.core.display.Javascript object>"
      ]
     },
     "metadata": {},
     "output_type": "display_data"
    }
   ],
   "source": [
    "df_1.columns = [\"source\", \"target\", \"value\"]"
   ]
  },
  {
   "cell_type": "code",
   "execution_count": 124,
   "id": "25d20543",
   "metadata": {},
   "outputs": [
    {
     "data": {
      "text/html": [
       "<div>\n",
       "<style scoped>\n",
       "    .dataframe tbody tr th:only-of-type {\n",
       "        vertical-align: middle;\n",
       "    }\n",
       "\n",
       "    .dataframe tbody tr th {\n",
       "        vertical-align: top;\n",
       "    }\n",
       "\n",
       "    .dataframe thead th {\n",
       "        text-align: right;\n",
       "    }\n",
       "</style>\n",
       "<table border=\"1\" class=\"dataframe\">\n",
       "  <thead>\n",
       "    <tr style=\"text-align: right;\">\n",
       "      <th></th>\n",
       "      <th>source</th>\n",
       "      <th>target</th>\n",
       "      <th>value</th>\n",
       "    </tr>\n",
       "  </thead>\n",
       "  <tbody>\n",
       "    <tr>\n",
       "      <th>0</th>\n",
       "      <td>0</td>\n",
       "      <td>9</td>\n",
       "      <td>1</td>\n",
       "    </tr>\n",
       "    <tr>\n",
       "      <th>1</th>\n",
       "      <td>0</td>\n",
       "      <td>10</td>\n",
       "      <td>3</td>\n",
       "    </tr>\n",
       "    <tr>\n",
       "      <th>2</th>\n",
       "      <td>0</td>\n",
       "      <td>11</td>\n",
       "      <td>1</td>\n",
       "    </tr>\n",
       "    <tr>\n",
       "      <th>3</th>\n",
       "      <td>0</td>\n",
       "      <td>12</td>\n",
       "      <td>1</td>\n",
       "    </tr>\n",
       "    <tr>\n",
       "      <th>4</th>\n",
       "      <td>0</td>\n",
       "      <td>13</td>\n",
       "      <td>1</td>\n",
       "    </tr>\n",
       "    <tr>\n",
       "      <th>...</th>\n",
       "      <td>...</td>\n",
       "      <td>...</td>\n",
       "      <td>...</td>\n",
       "    </tr>\n",
       "    <tr>\n",
       "      <th>378</th>\n",
       "      <td>7</td>\n",
       "      <td>117</td>\n",
       "      <td>1</td>\n",
       "    </tr>\n",
       "    <tr>\n",
       "      <th>379</th>\n",
       "      <td>7</td>\n",
       "      <td>180</td>\n",
       "      <td>1</td>\n",
       "    </tr>\n",
       "    <tr>\n",
       "      <th>380</th>\n",
       "      <td>7</td>\n",
       "      <td>93</td>\n",
       "      <td>1</td>\n",
       "    </tr>\n",
       "    <tr>\n",
       "      <th>381</th>\n",
       "      <td>7</td>\n",
       "      <td>95</td>\n",
       "      <td>1</td>\n",
       "    </tr>\n",
       "    <tr>\n",
       "      <th>382</th>\n",
       "      <td>8</td>\n",
       "      <td>181</td>\n",
       "      <td>14</td>\n",
       "    </tr>\n",
       "  </tbody>\n",
       "</table>\n",
       "<p>383 rows × 3 columns</p>\n",
       "</div>"
      ],
      "text/plain": [
       "     source  target  value\n",
       "0         0       9      1\n",
       "1         0      10      3\n",
       "2         0      11      1\n",
       "3         0      12      1\n",
       "4         0      13      1\n",
       "..      ...     ...    ...\n",
       "378       7     117      1\n",
       "379       7     180      1\n",
       "380       7      93      1\n",
       "381       7      95      1\n",
       "382       8     181     14\n",
       "\n",
       "[383 rows x 3 columns]"
      ]
     },
     "execution_count": 124,
     "metadata": {},
     "output_type": "execute_result"
    },
    {
     "data": {
      "application/javascript": [
       "\n",
       "            setTimeout(function() {\n",
       "                var nbb_cell_id = 124;\n",
       "                var nbb_unformatted_code = \"df_1\";\n",
       "                var nbb_formatted_code = \"df_1\";\n",
       "                var nbb_cells = Jupyter.notebook.get_cells();\n",
       "                for (var i = 0; i < nbb_cells.length; ++i) {\n",
       "                    if (nbb_cells[i].input_prompt_number == nbb_cell_id) {\n",
       "                        if (nbb_cells[i].get_text() == nbb_unformatted_code) {\n",
       "                             nbb_cells[i].set_text(nbb_formatted_code);\n",
       "                        }\n",
       "                        break;\n",
       "                    }\n",
       "                }\n",
       "            }, 500);\n",
       "            "
      ],
      "text/plain": [
       "<IPython.core.display.Javascript object>"
      ]
     },
     "metadata": {},
     "output_type": "display_data"
    }
   ],
   "source": [
    "df_1"
   ]
  },
  {
   "cell_type": "code",
   "execution_count": 114,
   "id": "925d2511",
   "metadata": {},
   "outputs": [
    {
     "data": {
      "application/javascript": [
       "\n",
       "            setTimeout(function() {\n",
       "                var nbb_cell_id = 114;\n",
       "                var nbb_unformatted_code = \"unique_source_target = list(pd.unique(df_1[[\\\"source\\\", \\\"target\\\"]].values.ravel(\\\"K\\\")))\";\n",
       "                var nbb_formatted_code = \"unique_source_target = list(pd.unique(df_1[[\\\"source\\\", \\\"target\\\"]].values.ravel(\\\"K\\\")))\";\n",
       "                var nbb_cells = Jupyter.notebook.get_cells();\n",
       "                for (var i = 0; i < nbb_cells.length; ++i) {\n",
       "                    if (nbb_cells[i].input_prompt_number == nbb_cell_id) {\n",
       "                        if (nbb_cells[i].get_text() == nbb_unformatted_code) {\n",
       "                             nbb_cells[i].set_text(nbb_formatted_code);\n",
       "                        }\n",
       "                        break;\n",
       "                    }\n",
       "                }\n",
       "            }, 500);\n",
       "            "
      ],
      "text/plain": [
       "<IPython.core.display.Javascript object>"
      ]
     },
     "metadata": {},
     "output_type": "display_data"
    }
   ],
   "source": [
    "unique_source_target = list(pd.unique(df_1[[\"source\", \"target\"]].values.ravel(\"K\")))"
   ]
  },
  {
   "cell_type": "code",
   "execution_count": 115,
   "id": "a6773823",
   "metadata": {},
   "outputs": [
    {
     "data": {
      "application/javascript": [
       "\n",
       "            setTimeout(function() {\n",
       "                var nbb_cell_id = 115;\n",
       "                var nbb_unformatted_code = \"mapping_dict = {k: v for v, k in enumerate(unique_source_target)}\";\n",
       "                var nbb_formatted_code = \"mapping_dict = {k: v for v, k in enumerate(unique_source_target)}\";\n",
       "                var nbb_cells = Jupyter.notebook.get_cells();\n",
       "                for (var i = 0; i < nbb_cells.length; ++i) {\n",
       "                    if (nbb_cells[i].input_prompt_number == nbb_cell_id) {\n",
       "                        if (nbb_cells[i].get_text() == nbb_unformatted_code) {\n",
       "                             nbb_cells[i].set_text(nbb_formatted_code);\n",
       "                        }\n",
       "                        break;\n",
       "                    }\n",
       "                }\n",
       "            }, 500);\n",
       "            "
      ],
      "text/plain": [
       "<IPython.core.display.Javascript object>"
      ]
     },
     "metadata": {},
     "output_type": "display_data"
    }
   ],
   "source": [
    "mapping_dict = {k: v for v, k in enumerate(unique_source_target)}"
   ]
  },
  {
   "cell_type": "code",
   "execution_count": 116,
   "id": "12f6bfe0",
   "metadata": {},
   "outputs": [
    {
     "data": {
      "application/javascript": [
       "\n",
       "            setTimeout(function() {\n",
       "                var nbb_cell_id = 116;\n",
       "                var nbb_unformatted_code = \"df_1[\\\"source\\\"] = df_1[\\\"source\\\"].map(mapping_dict)\\ndf_1[\\\"target\\\"] = df_1[\\\"target\\\"].map(mapping_dict)\";\n",
       "                var nbb_formatted_code = \"df_1[\\\"source\\\"] = df_1[\\\"source\\\"].map(mapping_dict)\\ndf_1[\\\"target\\\"] = df_1[\\\"target\\\"].map(mapping_dict)\";\n",
       "                var nbb_cells = Jupyter.notebook.get_cells();\n",
       "                for (var i = 0; i < nbb_cells.length; ++i) {\n",
       "                    if (nbb_cells[i].input_prompt_number == nbb_cell_id) {\n",
       "                        if (nbb_cells[i].get_text() == nbb_unformatted_code) {\n",
       "                             nbb_cells[i].set_text(nbb_formatted_code);\n",
       "                        }\n",
       "                        break;\n",
       "                    }\n",
       "                }\n",
       "            }, 500);\n",
       "            "
      ],
      "text/plain": [
       "<IPython.core.display.Javascript object>"
      ]
     },
     "metadata": {},
     "output_type": "display_data"
    }
   ],
   "source": [
    "df_1[\"source\"] = df_1[\"source\"].map(mapping_dict)\n",
    "df_1[\"target\"] = df_1[\"target\"].map(mapping_dict)"
   ]
  },
  {
   "cell_type": "code",
   "execution_count": 117,
   "id": "9aa6818c",
   "metadata": {},
   "outputs": [
    {
     "data": {
      "application/javascript": [
       "\n",
       "            setTimeout(function() {\n",
       "                var nbb_cell_id = 117;\n",
       "                var nbb_unformatted_code = \"links = df_1\";\n",
       "                var nbb_formatted_code = \"links = df_1\";\n",
       "                var nbb_cells = Jupyter.notebook.get_cells();\n",
       "                for (var i = 0; i < nbb_cells.length; ++i) {\n",
       "                    if (nbb_cells[i].input_prompt_number == nbb_cell_id) {\n",
       "                        if (nbb_cells[i].get_text() == nbb_unformatted_code) {\n",
       "                             nbb_cells[i].set_text(nbb_formatted_code);\n",
       "                        }\n",
       "                        break;\n",
       "                    }\n",
       "                }\n",
       "            }, 500);\n",
       "            "
      ],
      "text/plain": [
       "<IPython.core.display.Javascript object>"
      ]
     },
     "metadata": {},
     "output_type": "display_data"
    }
   ],
   "source": [
    "links = df_1"
   ]
  },
  {
   "cell_type": "code",
   "execution_count": 118,
   "id": "2ad86f1f",
   "metadata": {},
   "outputs": [
    {
     "data": {
      "application/javascript": [
       "\n",
       "            setTimeout(function() {\n",
       "                var nbb_cell_id = 118;\n",
       "                var nbb_unformatted_code = \"links_dict = links.to_dict(orient=\\\"list\\\")\";\n",
       "                var nbb_formatted_code = \"links_dict = links.to_dict(orient=\\\"list\\\")\";\n",
       "                var nbb_cells = Jupyter.notebook.get_cells();\n",
       "                for (var i = 0; i < nbb_cells.length; ++i) {\n",
       "                    if (nbb_cells[i].input_prompt_number == nbb_cell_id) {\n",
       "                        if (nbb_cells[i].get_text() == nbb_unformatted_code) {\n",
       "                             nbb_cells[i].set_text(nbb_formatted_code);\n",
       "                        }\n",
       "                        break;\n",
       "                    }\n",
       "                }\n",
       "            }, 500);\n",
       "            "
      ],
      "text/plain": [
       "<IPython.core.display.Javascript object>"
      ]
     },
     "metadata": {},
     "output_type": "display_data"
    }
   ],
   "source": [
    "links_dict = links.to_dict(orient=\"list\")"
   ]
  },
  {
   "cell_type": "code",
   "execution_count": 123,
   "id": "2409728a",
   "metadata": {},
   "outputs": [
    {
     "data": {
      "application/vnd.plotly.v1+json": {
       "config": {
        "plotlyServerURL": "https://plot.ly"
       },
       "data": [
        {
         "link": {
          "source": [
           0,
           0,
           0,
           0,
           0,
           0,
           0,
           0,
           0,
           0,
           0,
           0,
           0,
           0,
           0,
           0,
           0,
           0,
           0,
           0,
           0,
           0,
           0,
           0,
           0,
           0,
           0,
           0,
           0,
           0,
           0,
           0,
           0,
           0,
           0,
           0,
           0,
           0,
           0,
           0,
           0,
           0,
           0,
           0,
           0,
           0,
           0,
           0,
           0,
           0,
           0,
           0,
           0,
           0,
           0,
           0,
           0,
           0,
           0,
           0,
           0,
           0,
           0,
           0,
           0,
           0,
           0,
           0,
           0,
           0,
           0,
           0,
           0,
           0,
           0,
           0,
           0,
           0,
           0,
           0,
           0,
           0,
           0,
           0,
           0,
           0,
           0,
           0,
           0,
           0,
           0,
           0,
           1,
           1,
           1,
           1,
           1,
           1,
           1,
           1,
           1,
           1,
           1,
           1,
           1,
           1,
           1,
           1,
           1,
           1,
           1,
           1,
           1,
           1,
           1,
           1,
           1,
           1,
           1,
           1,
           1,
           1,
           1,
           1,
           1,
           1,
           1,
           1,
           1,
           1,
           1,
           1,
           1,
           1,
           1,
           1,
           1,
           1,
           1,
           1,
           1,
           1,
           1,
           1,
           1,
           1,
           1,
           1,
           1,
           1,
           1,
           1,
           1,
           1,
           1,
           1,
           1,
           1,
           1,
           1,
           1,
           1,
           1,
           1,
           1,
           1,
           1,
           1,
           1,
           1,
           2,
           2,
           2,
           2,
           2,
           2,
           2,
           2,
           2,
           2,
           2,
           2,
           2,
           2,
           2,
           2,
           2,
           2,
           2,
           2,
           2,
           2,
           2,
           2,
           2,
           2,
           2,
           2,
           2,
           2,
           2,
           2,
           2,
           2,
           2,
           2,
           2,
           2,
           2,
           2,
           2,
           2,
           2,
           2,
           2,
           2,
           2,
           2,
           2,
           2,
           2,
           2,
           2,
           2,
           2,
           2,
           2,
           2,
           2,
           2,
           2,
           2,
           2,
           2,
           2,
           2,
           2,
           2,
           2,
           2,
           2,
           2,
           2,
           2,
           2,
           3,
           3,
           3,
           3,
           3,
           3,
           3,
           3,
           3,
           3,
           3,
           3,
           3,
           3,
           3,
           3,
           3,
           3,
           3,
           3,
           3,
           3,
           3,
           3,
           3,
           3,
           3,
           3,
           3,
           3,
           3,
           3,
           3,
           3,
           3,
           3,
           3,
           3,
           3,
           3,
           3,
           3,
           3,
           3,
           3,
           3,
           3,
           3,
           3,
           3,
           3,
           3,
           3,
           3,
           3,
           3,
           3,
           3,
           3,
           3,
           4,
           4,
           4,
           4,
           4,
           4,
           4,
           4,
           4,
           4,
           4,
           4,
           4,
           4,
           4,
           4,
           4,
           4,
           4,
           4,
           4,
           4,
           4,
           4,
           5,
           5,
           5,
           5,
           5,
           5,
           5,
           5,
           5,
           5,
           5,
           5,
           5,
           5,
           5,
           5,
           5,
           5,
           5,
           5,
           5,
           5,
           5,
           5,
           5,
           5,
           5,
           6,
           6,
           6,
           6,
           6,
           6,
           6,
           6,
           6,
           6,
           6,
           6,
           6,
           6,
           6,
           6,
           6,
           6,
           6,
           7,
           7,
           7,
           7,
           7,
           7,
           7,
           8
          ],
          "target": [
           9,
           10,
           11,
           12,
           13,
           14,
           15,
           16,
           17,
           18,
           19,
           20,
           21,
           22,
           23,
           24,
           25,
           26,
           27,
           28,
           29,
           30,
           31,
           32,
           33,
           34,
           35,
           36,
           37,
           38,
           39,
           40,
           41,
           42,
           43,
           44,
           45,
           46,
           47,
           48,
           49,
           50,
           51,
           52,
           53,
           54,
           55,
           56,
           57,
           58,
           59,
           60,
           61,
           62,
           63,
           64,
           65,
           66,
           67,
           68,
           69,
           70,
           71,
           72,
           73,
           74,
           75,
           76,
           77,
           78,
           79,
           80,
           81,
           82,
           83,
           84,
           85,
           86,
           87,
           88,
           89,
           90,
           91,
           92,
           93,
           94,
           95,
           96,
           97,
           98,
           99,
           100,
           9,
           101,
           10,
           102,
           103,
           15,
           104,
           17,
           18,
           19,
           20,
           21,
           105,
           106,
           107,
           108,
           109,
           110,
           111,
           32,
           112,
           113,
           42,
           114,
           45,
           46,
           47,
           115,
           116,
           50,
           51,
           117,
           118,
           119,
           120,
           121,
           122,
           57,
           58,
           59,
           123,
           60,
           124,
           62,
           125,
           64,
           65,
           68,
           69,
           70,
           71,
           72,
           73,
           74,
           77,
           78,
           126,
           80,
           81,
           127,
           84,
           128,
           86,
           87,
           89,
           90,
           129,
           92,
           93,
           130,
           94,
           131,
           132,
           133,
           95,
           96,
           97,
           134,
           9,
           10,
           102,
           104,
           17,
           135,
           18,
           19,
           21,
           136,
           26,
           108,
           137,
           138,
           111,
           32,
           139,
           112,
           36,
           39,
           140,
           141,
           46,
           47,
           142,
           116,
           50,
           51,
           143,
           54,
           55,
           144,
           57,
           145,
           58,
           60,
           146,
           147,
           148,
           62,
           63,
           149,
           150,
           151,
           64,
           68,
           69,
           70,
           72,
           73,
           74,
           76,
           78,
           152,
           80,
           84,
           153,
           87,
           89,
           154,
           155,
           91,
           129,
           92,
           93,
           130,
           132,
           133,
           95,
           96,
           97,
           98,
           99,
           156,
           157,
           104,
           158,
           17,
           18,
           19,
           21,
           22,
           27,
           159,
           29,
           160,
           161,
           35,
           112,
           140,
           45,
           162,
           46,
           47,
           142,
           163,
           50,
           51,
           118,
           54,
           164,
           57,
           165,
           58,
           166,
           167,
           61,
           62,
           64,
           168,
           169,
           68,
           69,
           71,
           72,
           73,
           74,
           78,
           79,
           170,
           80,
           84,
           128,
           86,
           171,
           89,
           91,
           92,
           94,
           131,
           132,
           133,
           95,
           96,
           98,
           10,
           17,
           172,
           18,
           21,
           106,
           173,
           33,
           34,
           37,
           174,
           46,
           50,
           145,
           64,
           65,
           175,
           70,
           176,
           80,
           87,
           89,
           96,
           97,
           9,
           17,
           18,
           19,
           22,
           109,
           36,
           113,
           42,
           46,
           47,
           48,
           59,
           62,
           64,
           69,
           73,
           176,
           74,
           80,
           127,
           128,
           87,
           89,
           130,
           95,
           97,
           177,
           17,
           18,
           19,
           25,
           26,
           30,
           39,
           46,
           47,
           178,
           58,
           69,
           72,
           152,
           89,
           95,
           99,
           156,
           17,
           18,
           179,
           117,
           180,
           93,
           95,
           181
          ],
          "value": [
           1,
           3,
           1,
           1,
           1,
           2,
           3,
           2,
           13,
           22,
           9,
           1,
           6,
           1,
           1,
           3,
           1,
           3,
           1,
           3,
           5,
           2,
           2,
           4,
           3,
           2,
           3,
           2,
           2,
           1,
           1,
           2,
           3,
           3,
           1,
           2,
           1,
           29,
           8,
           2,
           1,
           5,
           2,
           1,
           3,
           5,
           5,
           2,
           2,
           3,
           3,
           5,
           1,
           2,
           1,
           1,
           5,
           1,
           1,
           6,
           7,
           12,
           2,
           2,
           20,
           2,
           2,
           2,
           2,
           2,
           1,
           5,
           2,
           1,
           1,
           3,
           1,
           1,
           2,
           2,
           6,
           3,
           1,
           1,
           1,
           1,
           1,
           4,
           1,
           1,
           1,
           1,
           2,
           1,
           3,
           3,
           1,
           2,
           1,
           20,
           25,
           16,
           1,
           4,
           3,
           1,
           1,
           1,
           1,
           1,
           1,
           6,
           2,
           1,
           2,
           1,
           1,
           24,
           10,
           2,
           5,
           2,
           3,
           2,
           1,
           1,
           1,
           2,
           1,
           2,
           2,
           2,
           1,
           1,
           1,
           2,
           1,
           1,
           2,
           8,
           1,
           6,
           2,
           6,
           13,
           4,
           2,
           4,
           1,
           8,
           1,
           1,
           1,
           1,
           1,
           1,
           17,
           1,
           2,
           5,
           2,
           1,
           3,
           1,
           1,
           1,
           5,
           1,
           1,
           1,
           1,
           8,
           2,
           1,
           14,
           1,
           30,
           10,
           3,
           1,
           1,
           2,
           1,
           2,
           1,
           3,
           2,
           1,
           2,
           5,
           2,
           1,
           20,
           5,
           2,
           1,
           1,
           6,
           1,
           2,
           3,
           1,
           1,
           2,
           1,
           2,
           1,
           1,
           3,
           1,
           1,
           3,
           1,
           1,
           2,
           4,
           4,
           5,
           7,
           6,
           5,
           2,
           2,
           1,
           9,
           5,
           1,
           1,
           13,
           1,
           1,
           1,
           1,
           2,
           3,
           1,
           2,
           1,
           3,
           1,
           1,
           1,
           2,
           1,
           2,
           1,
           1,
           14,
           21,
           9,
           4,
           2,
           1,
           1,
           1,
           1,
           2,
           1,
           1,
           1,
           1,
           1,
           10,
           1,
           1,
           1,
           5,
           2,
           1,
           2,
           3,
           1,
           1,
           1,
           1,
           1,
           1,
           2,
           3,
           1,
           1,
           2,
           2,
           3,
           4,
           1,
           9,
           2,
           9,
           1,
           4,
           1,
           1,
           1,
           1,
           7,
           2,
           1,
           3,
           3,
           1,
           2,
           2,
           1,
           3,
           1,
           1,
           3,
           2,
           1,
           2,
           1,
           1,
           1,
           1,
           1,
           8,
           1,
           1,
           1,
           1,
           1,
           2,
           1,
           1,
           1,
           2,
           1,
           1,
           2,
           2,
           3,
           2,
           1,
           1,
           1,
           1,
           1,
           2,
           1,
           1,
           1,
           2,
           2,
           1,
           1,
           1,
           1,
           1,
           1,
           1,
           1,
           5,
           1,
           1,
           1,
           1,
           1,
           4,
           2,
           1,
           2,
           1,
           1,
           1,
           1,
           1,
           1,
           1,
           1,
           1,
           2,
           1,
           1,
           1,
           1,
           3,
           1,
           1,
           1,
           1,
           1,
           14
          ]
         },
         "node": {
          "color": "blue",
          "label": [
           1,
           2,
           3,
           4,
           "1",
           "2",
           "3",
           "4",
           "99",
           "AP Calculus AB",
           "AP English Literature and Composition",
           "AP European History",
           "AP Latin",
           "AP Physics 1: Algebra-Based",
           "AP Psychology",
           "AP Statistics",
           "Accounting II Honors",
           "Adv Functions & Modeling",
           "Amer History: Founding Prin, Civics&Econ",
           "Amer History:Foun Prin,Civi,&Econ Honors",
           "American History I",
           "American History II",
           "Anatomy & Physiology Honors",
           "Animal Science II Small Ani",
           "Band (Intermediate) Spring",
           "Band (Proficient) Honors",
           "Band (Proficient) Honors Spring",
           "Biology B",
           "Biomedical Technology II",
           "Business Law",
           "CR NC Math 2",
           "CR NC Math 3",
           "Career Management",
           "Carpentry II",
           "Chemistry",
           "Chemistry Honors",
           "Chinese II",
           "Criminal Justice I",
           "Culinary Arts & Hospitality I",
           "Culinary Arts &amp; Hospitality II",
           "Dance (Advanced) Honors",
           "Dance (Beginning)",
           "Dance (Intermediate)",
           "Drafting-Architr II",
           "Drafting-Engnrng III Honors",
           "Earth/Environmental Science",
           "English IV",
           "English IV Honors",
           "Essentals for College Math (SREB)",
           "Financial Management II",
           "Foods and Nutrition I",
           "Foods and Nutrition II",
           "French IV Honors",
           "Health Science I",
           "Horticulture II",
           "Humanities Honors",
           "IB Language A (English)-Literature HL",
           "Interior Design I",
           "Law and Justice I",
           "Law and Justice II",
           "Library/Media Assist",
           "Microsoft Word and PowerPoint",
           "Microsoft Word and PowerPoint ",
           "Multimedia and Webpage Design",
           "NC Math 3",
           "Nursing Fundamentals Honors",
           "Orchestra (Intermediate) Spring",
           "Peer Group Connections",
           "Peer Helping",
           "Personal Finance",
           "Physical Education II  Grades 9-12",
           "Physical Education III Grades 9-12",
           "Physical Education IV Grades 9-12",
           "Physical Education: Grades 9-12",
           "Physical Science",
           "Physics Honors",
           "Practical Education Training I",
           "Practical Education Training II",
           "Pre-Calculus Honors",
           "Prep Lab",
           "Principles of Business & Finance",
           "Progr and Broadcast I",
           "Psychology",
           "Psychology Honors",
           "Public Safety I",
           "ROTC III",
           "ROTC IV",
           "ROTC IV Honors",
           "Sociology",
           "Spanish II",
           "Spanish III Honors",
           "Sports and Entertainment Marketing I",
           "Student Assistant",
           "Study Skills I",
           "Theatre Arts (Beginning)",
           "Visual Arts (Beginning)",
           "Visual Arts (Intermediate)",
           "Visual Arts (Proficient) Honors",
           "Vocal Music (Advanced) Honors",
           "Vocal Music (Proficient) Honors",
           "World History",
           "AP Calculus BC",
           "AP Environmental Science",
           "AP Human Geography",
           "AP Studio Art: Drawing",
           "Annual Staff",
           "Automotive Service I",
           "Band (Advanced) Honors Spring",
           "Biology",
           "Business Law Honors",
           "CR American History II",
           "CR English IV",
           "Child Development",
           "Criminal Justice II",
           "Drafting I",
           "Equine Science I",
           "Fash Merchandising",
           "French II",
           "Fundamentals of Athletic Training",
           "Health and Physical Education:Gr 9-12",
           "Health/Daily Living",
           "IB Theory of Knowledge",
           "IB Twentieth Century World Topics HL",
           "Leisure & Transition Skills",
           "Microsoft Excel ",
           "NC Math 1",
           "Preparation IV",
           "Project Management I",
           "ROTC II",
           "Sports and Entertainment Mktg II",
           "Theatre Arts (Advanced) Honors",
           "Theatre Arts (Intermediate)",
           "Theatre Arts (Proficient) Honors",
           "Visual Arts (Advanced) Honors",
           "Vocal Music (Beginning)",
           "Agriscience Applications",
           "American History II Honors",
           "COS222 Manicure/Nail Technology II",
           "CR Biology",
           "Carpentry I",
           "Dance (Proficient) Honors",
           "Early Childhood Education II",
           "Entrepreneurship I",
           "Horticulture I",
           "IB Personal and Professional Skills",
           "Latin II",
           "Life Science",
           "MKT120 Principles of Marketing",
           "Marketing",
           "Music Special. (Proficient) Honors",
           "NAS102 Nurse Assistant II",
           "NC Math 2",
           "Principles Of Tech I",
           "ROTC III Honors",
           "Spanish IV Honors",
           "Special Topics in Lang & Vocabulary I",
           "Vocational Training",
           "Woodworking II",
           "AP United States History",
           "Biomedical Technology I",
           "CR Earth/Environ Science",
           "CTE Advanced Studies",
           "English As A Secd Lang",
           "Entrepreneurship I Honors",
           "IB Mathematical Studies SL",
           "Journalism II Honors",
           "Logistics Warehousing",
           "MED120 Survey of Medical Terminology",
           "Orchestra (Advanced) Honors Spring",
           "Orchestra (Proficient) Honors",
           "Preparation III",
           "Skills in Independent Living",
           "Agr Mech II",
           "Biology II (2nd Yr) Honors",
           "Current Affairs and Issues",
           "Orchestra (Proficient) Honors Spring",
           "Physical Fitness II  Grades 9-12",
           "AP Chemistry",
           "Horticulture II Landscaping Honors",
           "Foundations of Health Science",
           "Leadership Development II Honors",
           "Actvty Period/Homeroom"
          ],
          "line": {
           "color": "black",
           "width": 0.01
          },
          "pad": 20,
          "thickness": 200
         },
         "type": "sankey"
        }
       ],
       "layout": {
        "font": {
         "size": 10
        },
        "template": {
         "data": {
          "bar": [
           {
            "error_x": {
             "color": "#2a3f5f"
            },
            "error_y": {
             "color": "#2a3f5f"
            },
            "marker": {
             "line": {
              "color": "#E5ECF6",
              "width": 0.5
             },
             "pattern": {
              "fillmode": "overlay",
              "size": 10,
              "solidity": 0.2
             }
            },
            "type": "bar"
           }
          ],
          "barpolar": [
           {
            "marker": {
             "line": {
              "color": "#E5ECF6",
              "width": 0.5
             },
             "pattern": {
              "fillmode": "overlay",
              "size": 10,
              "solidity": 0.2
             }
            },
            "type": "barpolar"
           }
          ],
          "carpet": [
           {
            "aaxis": {
             "endlinecolor": "#2a3f5f",
             "gridcolor": "white",
             "linecolor": "white",
             "minorgridcolor": "white",
             "startlinecolor": "#2a3f5f"
            },
            "baxis": {
             "endlinecolor": "#2a3f5f",
             "gridcolor": "white",
             "linecolor": "white",
             "minorgridcolor": "white",
             "startlinecolor": "#2a3f5f"
            },
            "type": "carpet"
           }
          ],
          "choropleth": [
           {
            "colorbar": {
             "outlinewidth": 0,
             "ticks": ""
            },
            "type": "choropleth"
           }
          ],
          "contour": [
           {
            "colorbar": {
             "outlinewidth": 0,
             "ticks": ""
            },
            "colorscale": [
             [
              0,
              "#0d0887"
             ],
             [
              0.1111111111111111,
              "#46039f"
             ],
             [
              0.2222222222222222,
              "#7201a8"
             ],
             [
              0.3333333333333333,
              "#9c179e"
             ],
             [
              0.4444444444444444,
              "#bd3786"
             ],
             [
              0.5555555555555556,
              "#d8576b"
             ],
             [
              0.6666666666666666,
              "#ed7953"
             ],
             [
              0.7777777777777778,
              "#fb9f3a"
             ],
             [
              0.8888888888888888,
              "#fdca26"
             ],
             [
              1,
              "#f0f921"
             ]
            ],
            "type": "contour"
           }
          ],
          "contourcarpet": [
           {
            "colorbar": {
             "outlinewidth": 0,
             "ticks": ""
            },
            "type": "contourcarpet"
           }
          ],
          "heatmap": [
           {
            "colorbar": {
             "outlinewidth": 0,
             "ticks": ""
            },
            "colorscale": [
             [
              0,
              "#0d0887"
             ],
             [
              0.1111111111111111,
              "#46039f"
             ],
             [
              0.2222222222222222,
              "#7201a8"
             ],
             [
              0.3333333333333333,
              "#9c179e"
             ],
             [
              0.4444444444444444,
              "#bd3786"
             ],
             [
              0.5555555555555556,
              "#d8576b"
             ],
             [
              0.6666666666666666,
              "#ed7953"
             ],
             [
              0.7777777777777778,
              "#fb9f3a"
             ],
             [
              0.8888888888888888,
              "#fdca26"
             ],
             [
              1,
              "#f0f921"
             ]
            ],
            "type": "heatmap"
           }
          ],
          "heatmapgl": [
           {
            "colorbar": {
             "outlinewidth": 0,
             "ticks": ""
            },
            "colorscale": [
             [
              0,
              "#0d0887"
             ],
             [
              0.1111111111111111,
              "#46039f"
             ],
             [
              0.2222222222222222,
              "#7201a8"
             ],
             [
              0.3333333333333333,
              "#9c179e"
             ],
             [
              0.4444444444444444,
              "#bd3786"
             ],
             [
              0.5555555555555556,
              "#d8576b"
             ],
             [
              0.6666666666666666,
              "#ed7953"
             ],
             [
              0.7777777777777778,
              "#fb9f3a"
             ],
             [
              0.8888888888888888,
              "#fdca26"
             ],
             [
              1,
              "#f0f921"
             ]
            ],
            "type": "heatmapgl"
           }
          ],
          "histogram": [
           {
            "marker": {
             "pattern": {
              "fillmode": "overlay",
              "size": 10,
              "solidity": 0.2
             }
            },
            "type": "histogram"
           }
          ],
          "histogram2d": [
           {
            "colorbar": {
             "outlinewidth": 0,
             "ticks": ""
            },
            "colorscale": [
             [
              0,
              "#0d0887"
             ],
             [
              0.1111111111111111,
              "#46039f"
             ],
             [
              0.2222222222222222,
              "#7201a8"
             ],
             [
              0.3333333333333333,
              "#9c179e"
             ],
             [
              0.4444444444444444,
              "#bd3786"
             ],
             [
              0.5555555555555556,
              "#d8576b"
             ],
             [
              0.6666666666666666,
              "#ed7953"
             ],
             [
              0.7777777777777778,
              "#fb9f3a"
             ],
             [
              0.8888888888888888,
              "#fdca26"
             ],
             [
              1,
              "#f0f921"
             ]
            ],
            "type": "histogram2d"
           }
          ],
          "histogram2dcontour": [
           {
            "colorbar": {
             "outlinewidth": 0,
             "ticks": ""
            },
            "colorscale": [
             [
              0,
              "#0d0887"
             ],
             [
              0.1111111111111111,
              "#46039f"
             ],
             [
              0.2222222222222222,
              "#7201a8"
             ],
             [
              0.3333333333333333,
              "#9c179e"
             ],
             [
              0.4444444444444444,
              "#bd3786"
             ],
             [
              0.5555555555555556,
              "#d8576b"
             ],
             [
              0.6666666666666666,
              "#ed7953"
             ],
             [
              0.7777777777777778,
              "#fb9f3a"
             ],
             [
              0.8888888888888888,
              "#fdca26"
             ],
             [
              1,
              "#f0f921"
             ]
            ],
            "type": "histogram2dcontour"
           }
          ],
          "mesh3d": [
           {
            "colorbar": {
             "outlinewidth": 0,
             "ticks": ""
            },
            "type": "mesh3d"
           }
          ],
          "parcoords": [
           {
            "line": {
             "colorbar": {
              "outlinewidth": 0,
              "ticks": ""
             }
            },
            "type": "parcoords"
           }
          ],
          "pie": [
           {
            "automargin": true,
            "type": "pie"
           }
          ],
          "scatter": [
           {
            "fillpattern": {
             "fillmode": "overlay",
             "size": 10,
             "solidity": 0.2
            },
            "type": "scatter"
           }
          ],
          "scatter3d": [
           {
            "line": {
             "colorbar": {
              "outlinewidth": 0,
              "ticks": ""
             }
            },
            "marker": {
             "colorbar": {
              "outlinewidth": 0,
              "ticks": ""
             }
            },
            "type": "scatter3d"
           }
          ],
          "scattercarpet": [
           {
            "marker": {
             "colorbar": {
              "outlinewidth": 0,
              "ticks": ""
             }
            },
            "type": "scattercarpet"
           }
          ],
          "scattergeo": [
           {
            "marker": {
             "colorbar": {
              "outlinewidth": 0,
              "ticks": ""
             }
            },
            "type": "scattergeo"
           }
          ],
          "scattergl": [
           {
            "marker": {
             "colorbar": {
              "outlinewidth": 0,
              "ticks": ""
             }
            },
            "type": "scattergl"
           }
          ],
          "scattermapbox": [
           {
            "marker": {
             "colorbar": {
              "outlinewidth": 0,
              "ticks": ""
             }
            },
            "type": "scattermapbox"
           }
          ],
          "scatterpolar": [
           {
            "marker": {
             "colorbar": {
              "outlinewidth": 0,
              "ticks": ""
             }
            },
            "type": "scatterpolar"
           }
          ],
          "scatterpolargl": [
           {
            "marker": {
             "colorbar": {
              "outlinewidth": 0,
              "ticks": ""
             }
            },
            "type": "scatterpolargl"
           }
          ],
          "scatterternary": [
           {
            "marker": {
             "colorbar": {
              "outlinewidth": 0,
              "ticks": ""
             }
            },
            "type": "scatterternary"
           }
          ],
          "surface": [
           {
            "colorbar": {
             "outlinewidth": 0,
             "ticks": ""
            },
            "colorscale": [
             [
              0,
              "#0d0887"
             ],
             [
              0.1111111111111111,
              "#46039f"
             ],
             [
              0.2222222222222222,
              "#7201a8"
             ],
             [
              0.3333333333333333,
              "#9c179e"
             ],
             [
              0.4444444444444444,
              "#bd3786"
             ],
             [
              0.5555555555555556,
              "#d8576b"
             ],
             [
              0.6666666666666666,
              "#ed7953"
             ],
             [
              0.7777777777777778,
              "#fb9f3a"
             ],
             [
              0.8888888888888888,
              "#fdca26"
             ],
             [
              1,
              "#f0f921"
             ]
            ],
            "type": "surface"
           }
          ],
          "table": [
           {
            "cells": {
             "fill": {
              "color": "#EBF0F8"
             },
             "line": {
              "color": "white"
             }
            },
            "header": {
             "fill": {
              "color": "#C8D4E3"
             },
             "line": {
              "color": "white"
             }
            },
            "type": "table"
           }
          ]
         },
         "layout": {
          "annotationdefaults": {
           "arrowcolor": "#2a3f5f",
           "arrowhead": 0,
           "arrowwidth": 1
          },
          "autotypenumbers": "strict",
          "coloraxis": {
           "colorbar": {
            "outlinewidth": 0,
            "ticks": ""
           }
          },
          "colorscale": {
           "diverging": [
            [
             0,
             "#8e0152"
            ],
            [
             0.1,
             "#c51b7d"
            ],
            [
             0.2,
             "#de77ae"
            ],
            [
             0.3,
             "#f1b6da"
            ],
            [
             0.4,
             "#fde0ef"
            ],
            [
             0.5,
             "#f7f7f7"
            ],
            [
             0.6,
             "#e6f5d0"
            ],
            [
             0.7,
             "#b8e186"
            ],
            [
             0.8,
             "#7fbc41"
            ],
            [
             0.9,
             "#4d9221"
            ],
            [
             1,
             "#276419"
            ]
           ],
           "sequential": [
            [
             0,
             "#0d0887"
            ],
            [
             0.1111111111111111,
             "#46039f"
            ],
            [
             0.2222222222222222,
             "#7201a8"
            ],
            [
             0.3333333333333333,
             "#9c179e"
            ],
            [
             0.4444444444444444,
             "#bd3786"
            ],
            [
             0.5555555555555556,
             "#d8576b"
            ],
            [
             0.6666666666666666,
             "#ed7953"
            ],
            [
             0.7777777777777778,
             "#fb9f3a"
            ],
            [
             0.8888888888888888,
             "#fdca26"
            ],
            [
             1,
             "#f0f921"
            ]
           ],
           "sequentialminus": [
            [
             0,
             "#0d0887"
            ],
            [
             0.1111111111111111,
             "#46039f"
            ],
            [
             0.2222222222222222,
             "#7201a8"
            ],
            [
             0.3333333333333333,
             "#9c179e"
            ],
            [
             0.4444444444444444,
             "#bd3786"
            ],
            [
             0.5555555555555556,
             "#d8576b"
            ],
            [
             0.6666666666666666,
             "#ed7953"
            ],
            [
             0.7777777777777778,
             "#fb9f3a"
            ],
            [
             0.8888888888888888,
             "#fdca26"
            ],
            [
             1,
             "#f0f921"
            ]
           ]
          },
          "colorway": [
           "#636efa",
           "#EF553B",
           "#00cc96",
           "#ab63fa",
           "#FFA15A",
           "#19d3f3",
           "#FF6692",
           "#B6E880",
           "#FF97FF",
           "#FECB52"
          ],
          "font": {
           "color": "#2a3f5f"
          },
          "geo": {
           "bgcolor": "white",
           "lakecolor": "white",
           "landcolor": "#E5ECF6",
           "showlakes": true,
           "showland": true,
           "subunitcolor": "white"
          },
          "hoverlabel": {
           "align": "left"
          },
          "hovermode": "closest",
          "mapbox": {
           "style": "light"
          },
          "paper_bgcolor": "white",
          "plot_bgcolor": "#E5ECF6",
          "polar": {
           "angularaxis": {
            "gridcolor": "white",
            "linecolor": "white",
            "ticks": ""
           },
           "bgcolor": "#E5ECF6",
           "radialaxis": {
            "gridcolor": "white",
            "linecolor": "white",
            "ticks": ""
           }
          },
          "scene": {
           "xaxis": {
            "backgroundcolor": "#E5ECF6",
            "gridcolor": "white",
            "gridwidth": 2,
            "linecolor": "white",
            "showbackground": true,
            "ticks": "",
            "zerolinecolor": "white"
           },
           "yaxis": {
            "backgroundcolor": "#E5ECF6",
            "gridcolor": "white",
            "gridwidth": 2,
            "linecolor": "white",
            "showbackground": true,
            "ticks": "",
            "zerolinecolor": "white"
           },
           "zaxis": {
            "backgroundcolor": "#E5ECF6",
            "gridcolor": "white",
            "gridwidth": 2,
            "linecolor": "white",
            "showbackground": true,
            "ticks": "",
            "zerolinecolor": "white"
           }
          },
          "shapedefaults": {
           "line": {
            "color": "#2a3f5f"
           }
          },
          "ternary": {
           "aaxis": {
            "gridcolor": "white",
            "linecolor": "white",
            "ticks": ""
           },
           "baxis": {
            "gridcolor": "white",
            "linecolor": "white",
            "ticks": ""
           },
           "bgcolor": "#E5ECF6",
           "caxis": {
            "gridcolor": "white",
            "linecolor": "white",
            "ticks": ""
           }
          },
          "title": {
           "x": 0.05
          },
          "xaxis": {
           "automargin": true,
           "gridcolor": "white",
           "linecolor": "white",
           "ticks": "",
           "title": {
            "standoff": 15
           },
           "zerolinecolor": "white",
           "zerolinewidth": 2
          },
          "yaxis": {
           "automargin": true,
           "gridcolor": "white",
           "linecolor": "white",
           "ticks": "",
           "title": {
            "standoff": 15
           },
           "zerolinecolor": "white",
           "zerolinewidth": 2
          }
         }
        },
        "title": {
         "text": "Sankey Diagram"
        }
       }
      },
      "text/html": [
       "<div>                            <div id=\"9459f5bf-57b7-4e84-ab12-d17a9db6999b\" class=\"plotly-graph-div\" style=\"height:525px; width:100%;\"></div>            <script type=\"text/javascript\">                require([\"plotly\"], function(Plotly) {                    window.PLOTLYENV=window.PLOTLYENV || {};                                    if (document.getElementById(\"9459f5bf-57b7-4e84-ab12-d17a9db6999b\")) {                    Plotly.newPlot(                        \"9459f5bf-57b7-4e84-ab12-d17a9db6999b\",                        [{\"link\":{\"source\":[0,0,0,0,0,0,0,0,0,0,0,0,0,0,0,0,0,0,0,0,0,0,0,0,0,0,0,0,0,0,0,0,0,0,0,0,0,0,0,0,0,0,0,0,0,0,0,0,0,0,0,0,0,0,0,0,0,0,0,0,0,0,0,0,0,0,0,0,0,0,0,0,0,0,0,0,0,0,0,0,0,0,0,0,0,0,0,0,0,0,0,0,1,1,1,1,1,1,1,1,1,1,1,1,1,1,1,1,1,1,1,1,1,1,1,1,1,1,1,1,1,1,1,1,1,1,1,1,1,1,1,1,1,1,1,1,1,1,1,1,1,1,1,1,1,1,1,1,1,1,1,1,1,1,1,1,1,1,1,1,1,1,1,1,1,1,1,1,1,1,2,2,2,2,2,2,2,2,2,2,2,2,2,2,2,2,2,2,2,2,2,2,2,2,2,2,2,2,2,2,2,2,2,2,2,2,2,2,2,2,2,2,2,2,2,2,2,2,2,2,2,2,2,2,2,2,2,2,2,2,2,2,2,2,2,2,2,2,2,2,2,2,2,2,2,3,3,3,3,3,3,3,3,3,3,3,3,3,3,3,3,3,3,3,3,3,3,3,3,3,3,3,3,3,3,3,3,3,3,3,3,3,3,3,3,3,3,3,3,3,3,3,3,3,3,3,3,3,3,3,3,3,3,3,3,4,4,4,4,4,4,4,4,4,4,4,4,4,4,4,4,4,4,4,4,4,4,4,4,5,5,5,5,5,5,5,5,5,5,5,5,5,5,5,5,5,5,5,5,5,5,5,5,5,5,5,6,6,6,6,6,6,6,6,6,6,6,6,6,6,6,6,6,6,6,7,7,7,7,7,7,7,8],\"target\":[9,10,11,12,13,14,15,16,17,18,19,20,21,22,23,24,25,26,27,28,29,30,31,32,33,34,35,36,37,38,39,40,41,42,43,44,45,46,47,48,49,50,51,52,53,54,55,56,57,58,59,60,61,62,63,64,65,66,67,68,69,70,71,72,73,74,75,76,77,78,79,80,81,82,83,84,85,86,87,88,89,90,91,92,93,94,95,96,97,98,99,100,9,101,10,102,103,15,104,17,18,19,20,21,105,106,107,108,109,110,111,32,112,113,42,114,45,46,47,115,116,50,51,117,118,119,120,121,122,57,58,59,123,60,124,62,125,64,65,68,69,70,71,72,73,74,77,78,126,80,81,127,84,128,86,87,89,90,129,92,93,130,94,131,132,133,95,96,97,134,9,10,102,104,17,135,18,19,21,136,26,108,137,138,111,32,139,112,36,39,140,141,46,47,142,116,50,51,143,54,55,144,57,145,58,60,146,147,148,62,63,149,150,151,64,68,69,70,72,73,74,76,78,152,80,84,153,87,89,154,155,91,129,92,93,130,132,133,95,96,97,98,99,156,157,104,158,17,18,19,21,22,27,159,29,160,161,35,112,140,45,162,46,47,142,163,50,51,118,54,164,57,165,58,166,167,61,62,64,168,169,68,69,71,72,73,74,78,79,170,80,84,128,86,171,89,91,92,94,131,132,133,95,96,98,10,17,172,18,21,106,173,33,34,37,174,46,50,145,64,65,175,70,176,80,87,89,96,97,9,17,18,19,22,109,36,113,42,46,47,48,59,62,64,69,73,176,74,80,127,128,87,89,130,95,97,177,17,18,19,25,26,30,39,46,47,178,58,69,72,152,89,95,99,156,17,18,179,117,180,93,95,181],\"value\":[1,3,1,1,1,2,3,2,13,22,9,1,6,1,1,3,1,3,1,3,5,2,2,4,3,2,3,2,2,1,1,2,3,3,1,2,1,29,8,2,1,5,2,1,3,5,5,2,2,3,3,5,1,2,1,1,5,1,1,6,7,12,2,2,20,2,2,2,2,2,1,5,2,1,1,3,1,1,2,2,6,3,1,1,1,1,1,4,1,1,1,1,2,1,3,3,1,2,1,20,25,16,1,4,3,1,1,1,1,1,1,6,2,1,2,1,1,24,10,2,5,2,3,2,1,1,1,2,1,2,2,2,1,1,1,2,1,1,2,8,1,6,2,6,13,4,2,4,1,8,1,1,1,1,1,1,17,1,2,5,2,1,3,1,1,1,5,1,1,1,1,8,2,1,14,1,30,10,3,1,1,2,1,2,1,3,2,1,2,5,2,1,20,5,2,1,1,6,1,2,3,1,1,2,1,2,1,1,3,1,1,3,1,1,2,4,4,5,7,6,5,2,2,1,9,5,1,1,13,1,1,1,1,2,3,1,2,1,3,1,1,1,2,1,2,1,1,14,21,9,4,2,1,1,1,1,2,1,1,1,1,1,10,1,1,1,5,2,1,2,3,1,1,1,1,1,1,2,3,1,1,2,2,3,4,1,9,2,9,1,4,1,1,1,1,7,2,1,3,3,1,2,2,1,3,1,1,3,2,1,2,1,1,1,1,1,8,1,1,1,1,1,2,1,1,1,2,1,1,2,2,3,2,1,1,1,1,1,2,1,1,1,2,2,1,1,1,1,1,1,1,1,5,1,1,1,1,1,4,2,1,2,1,1,1,1,1,1,1,1,1,2,1,1,1,1,3,1,1,1,1,1,14]},\"node\":{\"color\":\"blue\",\"label\":[1,2,3,4,\"1\",\"2\",\"3\",\"4\",\"99\",\"AP Calculus AB\",\"AP English Literature and Composition\",\"AP European History\",\"AP Latin\",\"AP Physics 1: Algebra-Based\",\"AP Psychology\",\"AP Statistics\",\"Accounting II Honors\",\"Adv Functions & Modeling\",\"Amer History: Founding Prin, Civics&Econ\",\"Amer History:Foun Prin,Civi,&Econ Honors\",\"American History I\",\"American History II\",\"Anatomy & Physiology Honors\",\"Animal Science II Small Ani\",\"Band (Intermediate) Spring\",\"Band (Proficient) Honors\",\"Band (Proficient) Honors Spring\",\"Biology B\",\"Biomedical Technology II\",\"Business Law\",\"CR NC Math 2\",\"CR NC Math 3\",\"Career Management\",\"Carpentry II\",\"Chemistry\",\"Chemistry Honors\",\"Chinese II\",\"Criminal Justice I\",\"Culinary Arts & Hospitality I\",\"Culinary Arts &amp; Hospitality II\",\"Dance (Advanced) Honors\",\"Dance (Beginning)\",\"Dance (Intermediate)\",\"Drafting-Architr II\",\"Drafting-Engnrng III Honors\",\"Earth/Environmental Science\",\"English IV\",\"English IV Honors\",\"Essentals for College Math (SREB)\",\"Financial Management II\",\"Foods and Nutrition I\",\"Foods and Nutrition II\",\"French IV Honors\",\"Health Science I\",\"Horticulture II\",\"Humanities Honors\",\"IB Language A (English)-Literature HL\",\"Interior Design I\",\"Law and Justice I\",\"Law and Justice II\",\"Library/Media Assist\",\"Microsoft Word and PowerPoint\",\"Microsoft Word and PowerPoint \",\"Multimedia and Webpage Design\",\"NC Math 3\",\"Nursing Fundamentals Honors\",\"Orchestra (Intermediate) Spring\",\"Peer Group Connections\",\"Peer Helping\",\"Personal Finance\",\"Physical Education II  Grades 9-12\",\"Physical Education III Grades 9-12\",\"Physical Education IV Grades 9-12\",\"Physical Education: Grades 9-12\",\"Physical Science\",\"Physics Honors\",\"Practical Education Training I\",\"Practical Education Training II\",\"Pre-Calculus Honors\",\"Prep Lab\",\"Principles of Business & Finance\",\"Progr and Broadcast I\",\"Psychology\",\"Psychology Honors\",\"Public Safety I\",\"ROTC III\",\"ROTC IV\",\"ROTC IV Honors\",\"Sociology\",\"Spanish II\",\"Spanish III Honors\",\"Sports and Entertainment Marketing I\",\"Student Assistant\",\"Study Skills I\",\"Theatre Arts (Beginning)\",\"Visual Arts (Beginning)\",\"Visual Arts (Intermediate)\",\"Visual Arts (Proficient) Honors\",\"Vocal Music (Advanced) Honors\",\"Vocal Music (Proficient) Honors\",\"World History\",\"AP Calculus BC\",\"AP Environmental Science\",\"AP Human Geography\",\"AP Studio Art: Drawing\",\"Annual Staff\",\"Automotive Service I\",\"Band (Advanced) Honors Spring\",\"Biology\",\"Business Law Honors\",\"CR American History II\",\"CR English IV\",\"Child Development\",\"Criminal Justice II\",\"Drafting I\",\"Equine Science I\",\"Fash Merchandising\",\"French II\",\"Fundamentals of Athletic Training\",\"Health and Physical Education:Gr 9-12\",\"Health/Daily Living\",\"IB Theory of Knowledge\",\"IB Twentieth Century World Topics HL\",\"Leisure & Transition Skills\",\"Microsoft Excel \",\"NC Math 1\",\"Preparation IV\",\"Project Management I\",\"ROTC II\",\"Sports and Entertainment Mktg II\",\"Theatre Arts (Advanced) Honors\",\"Theatre Arts (Intermediate)\",\"Theatre Arts (Proficient) Honors\",\"Visual Arts (Advanced) Honors\",\"Vocal Music (Beginning)\",\"Agriscience Applications\",\"American History II Honors\",\"COS222 Manicure/Nail Technology II\",\"CR Biology\",\"Carpentry I\",\"Dance (Proficient) Honors\",\"Early Childhood Education II\",\"Entrepreneurship I\",\"Horticulture I\",\"IB Personal and Professional Skills\",\"Latin II\",\"Life Science\",\"MKT120 Principles of Marketing\",\"Marketing\",\"Music Special. (Proficient) Honors\",\"NAS102 Nurse Assistant II\",\"NC Math 2\",\"Principles Of Tech I\",\"ROTC III Honors\",\"Spanish IV Honors\",\"Special Topics in Lang & Vocabulary I\",\"Vocational Training\",\"Woodworking II\",\"AP United States History\",\"Biomedical Technology I\",\"CR Earth/Environ Science\",\"CTE Advanced Studies\",\"English As A Secd Lang\",\"Entrepreneurship I Honors\",\"IB Mathematical Studies SL\",\"Journalism II Honors\",\"Logistics Warehousing\",\"MED120 Survey of Medical Terminology\",\"Orchestra (Advanced) Honors Spring\",\"Orchestra (Proficient) Honors\",\"Preparation III\",\"Skills in Independent Living\",\"Agr Mech II\",\"Biology II (2nd Yr) Honors\",\"Current Affairs and Issues\",\"Orchestra (Proficient) Honors Spring\",\"Physical Fitness II  Grades 9-12\",\"AP Chemistry\",\"Horticulture II Landscaping Honors\",\"Foundations of Health Science\",\"Leadership Development II Honors\",\"Actvty Period/Homeroom\"],\"line\":{\"color\":\"black\",\"width\":0.01},\"pad\":20,\"thickness\":200},\"type\":\"sankey\"}],                        {\"template\":{\"data\":{\"histogram2dcontour\":[{\"type\":\"histogram2dcontour\",\"colorbar\":{\"outlinewidth\":0,\"ticks\":\"\"},\"colorscale\":[[0.0,\"#0d0887\"],[0.1111111111111111,\"#46039f\"],[0.2222222222222222,\"#7201a8\"],[0.3333333333333333,\"#9c179e\"],[0.4444444444444444,\"#bd3786\"],[0.5555555555555556,\"#d8576b\"],[0.6666666666666666,\"#ed7953\"],[0.7777777777777778,\"#fb9f3a\"],[0.8888888888888888,\"#fdca26\"],[1.0,\"#f0f921\"]]}],\"choropleth\":[{\"type\":\"choropleth\",\"colorbar\":{\"outlinewidth\":0,\"ticks\":\"\"}}],\"histogram2d\":[{\"type\":\"histogram2d\",\"colorbar\":{\"outlinewidth\":0,\"ticks\":\"\"},\"colorscale\":[[0.0,\"#0d0887\"],[0.1111111111111111,\"#46039f\"],[0.2222222222222222,\"#7201a8\"],[0.3333333333333333,\"#9c179e\"],[0.4444444444444444,\"#bd3786\"],[0.5555555555555556,\"#d8576b\"],[0.6666666666666666,\"#ed7953\"],[0.7777777777777778,\"#fb9f3a\"],[0.8888888888888888,\"#fdca26\"],[1.0,\"#f0f921\"]]}],\"heatmap\":[{\"type\":\"heatmap\",\"colorbar\":{\"outlinewidth\":0,\"ticks\":\"\"},\"colorscale\":[[0.0,\"#0d0887\"],[0.1111111111111111,\"#46039f\"],[0.2222222222222222,\"#7201a8\"],[0.3333333333333333,\"#9c179e\"],[0.4444444444444444,\"#bd3786\"],[0.5555555555555556,\"#d8576b\"],[0.6666666666666666,\"#ed7953\"],[0.7777777777777778,\"#fb9f3a\"],[0.8888888888888888,\"#fdca26\"],[1.0,\"#f0f921\"]]}],\"heatmapgl\":[{\"type\":\"heatmapgl\",\"colorbar\":{\"outlinewidth\":0,\"ticks\":\"\"},\"colorscale\":[[0.0,\"#0d0887\"],[0.1111111111111111,\"#46039f\"],[0.2222222222222222,\"#7201a8\"],[0.3333333333333333,\"#9c179e\"],[0.4444444444444444,\"#bd3786\"],[0.5555555555555556,\"#d8576b\"],[0.6666666666666666,\"#ed7953\"],[0.7777777777777778,\"#fb9f3a\"],[0.8888888888888888,\"#fdca26\"],[1.0,\"#f0f921\"]]}],\"contourcarpet\":[{\"type\":\"contourcarpet\",\"colorbar\":{\"outlinewidth\":0,\"ticks\":\"\"}}],\"contour\":[{\"type\":\"contour\",\"colorbar\":{\"outlinewidth\":0,\"ticks\":\"\"},\"colorscale\":[[0.0,\"#0d0887\"],[0.1111111111111111,\"#46039f\"],[0.2222222222222222,\"#7201a8\"],[0.3333333333333333,\"#9c179e\"],[0.4444444444444444,\"#bd3786\"],[0.5555555555555556,\"#d8576b\"],[0.6666666666666666,\"#ed7953\"],[0.7777777777777778,\"#fb9f3a\"],[0.8888888888888888,\"#fdca26\"],[1.0,\"#f0f921\"]]}],\"surface\":[{\"type\":\"surface\",\"colorbar\":{\"outlinewidth\":0,\"ticks\":\"\"},\"colorscale\":[[0.0,\"#0d0887\"],[0.1111111111111111,\"#46039f\"],[0.2222222222222222,\"#7201a8\"],[0.3333333333333333,\"#9c179e\"],[0.4444444444444444,\"#bd3786\"],[0.5555555555555556,\"#d8576b\"],[0.6666666666666666,\"#ed7953\"],[0.7777777777777778,\"#fb9f3a\"],[0.8888888888888888,\"#fdca26\"],[1.0,\"#f0f921\"]]}],\"mesh3d\":[{\"type\":\"mesh3d\",\"colorbar\":{\"outlinewidth\":0,\"ticks\":\"\"}}],\"scatter\":[{\"fillpattern\":{\"fillmode\":\"overlay\",\"size\":10,\"solidity\":0.2},\"type\":\"scatter\"}],\"parcoords\":[{\"type\":\"parcoords\",\"line\":{\"colorbar\":{\"outlinewidth\":0,\"ticks\":\"\"}}}],\"scatterpolargl\":[{\"type\":\"scatterpolargl\",\"marker\":{\"colorbar\":{\"outlinewidth\":0,\"ticks\":\"\"}}}],\"bar\":[{\"error_x\":{\"color\":\"#2a3f5f\"},\"error_y\":{\"color\":\"#2a3f5f\"},\"marker\":{\"line\":{\"color\":\"#E5ECF6\",\"width\":0.5},\"pattern\":{\"fillmode\":\"overlay\",\"size\":10,\"solidity\":0.2}},\"type\":\"bar\"}],\"scattergeo\":[{\"type\":\"scattergeo\",\"marker\":{\"colorbar\":{\"outlinewidth\":0,\"ticks\":\"\"}}}],\"scatterpolar\":[{\"type\":\"scatterpolar\",\"marker\":{\"colorbar\":{\"outlinewidth\":0,\"ticks\":\"\"}}}],\"histogram\":[{\"marker\":{\"pattern\":{\"fillmode\":\"overlay\",\"size\":10,\"solidity\":0.2}},\"type\":\"histogram\"}],\"scattergl\":[{\"type\":\"scattergl\",\"marker\":{\"colorbar\":{\"outlinewidth\":0,\"ticks\":\"\"}}}],\"scatter3d\":[{\"type\":\"scatter3d\",\"line\":{\"colorbar\":{\"outlinewidth\":0,\"ticks\":\"\"}},\"marker\":{\"colorbar\":{\"outlinewidth\":0,\"ticks\":\"\"}}}],\"scattermapbox\":[{\"type\":\"scattermapbox\",\"marker\":{\"colorbar\":{\"outlinewidth\":0,\"ticks\":\"\"}}}],\"scatterternary\":[{\"type\":\"scatterternary\",\"marker\":{\"colorbar\":{\"outlinewidth\":0,\"ticks\":\"\"}}}],\"scattercarpet\":[{\"type\":\"scattercarpet\",\"marker\":{\"colorbar\":{\"outlinewidth\":0,\"ticks\":\"\"}}}],\"carpet\":[{\"aaxis\":{\"endlinecolor\":\"#2a3f5f\",\"gridcolor\":\"white\",\"linecolor\":\"white\",\"minorgridcolor\":\"white\",\"startlinecolor\":\"#2a3f5f\"},\"baxis\":{\"endlinecolor\":\"#2a3f5f\",\"gridcolor\":\"white\",\"linecolor\":\"white\",\"minorgridcolor\":\"white\",\"startlinecolor\":\"#2a3f5f\"},\"type\":\"carpet\"}],\"table\":[{\"cells\":{\"fill\":{\"color\":\"#EBF0F8\"},\"line\":{\"color\":\"white\"}},\"header\":{\"fill\":{\"color\":\"#C8D4E3\"},\"line\":{\"color\":\"white\"}},\"type\":\"table\"}],\"barpolar\":[{\"marker\":{\"line\":{\"color\":\"#E5ECF6\",\"width\":0.5},\"pattern\":{\"fillmode\":\"overlay\",\"size\":10,\"solidity\":0.2}},\"type\":\"barpolar\"}],\"pie\":[{\"automargin\":true,\"type\":\"pie\"}]},\"layout\":{\"autotypenumbers\":\"strict\",\"colorway\":[\"#636efa\",\"#EF553B\",\"#00cc96\",\"#ab63fa\",\"#FFA15A\",\"#19d3f3\",\"#FF6692\",\"#B6E880\",\"#FF97FF\",\"#FECB52\"],\"font\":{\"color\":\"#2a3f5f\"},\"hovermode\":\"closest\",\"hoverlabel\":{\"align\":\"left\"},\"paper_bgcolor\":\"white\",\"plot_bgcolor\":\"#E5ECF6\",\"polar\":{\"bgcolor\":\"#E5ECF6\",\"angularaxis\":{\"gridcolor\":\"white\",\"linecolor\":\"white\",\"ticks\":\"\"},\"radialaxis\":{\"gridcolor\":\"white\",\"linecolor\":\"white\",\"ticks\":\"\"}},\"ternary\":{\"bgcolor\":\"#E5ECF6\",\"aaxis\":{\"gridcolor\":\"white\",\"linecolor\":\"white\",\"ticks\":\"\"},\"baxis\":{\"gridcolor\":\"white\",\"linecolor\":\"white\",\"ticks\":\"\"},\"caxis\":{\"gridcolor\":\"white\",\"linecolor\":\"white\",\"ticks\":\"\"}},\"coloraxis\":{\"colorbar\":{\"outlinewidth\":0,\"ticks\":\"\"}},\"colorscale\":{\"sequential\":[[0.0,\"#0d0887\"],[0.1111111111111111,\"#46039f\"],[0.2222222222222222,\"#7201a8\"],[0.3333333333333333,\"#9c179e\"],[0.4444444444444444,\"#bd3786\"],[0.5555555555555556,\"#d8576b\"],[0.6666666666666666,\"#ed7953\"],[0.7777777777777778,\"#fb9f3a\"],[0.8888888888888888,\"#fdca26\"],[1.0,\"#f0f921\"]],\"sequentialminus\":[[0.0,\"#0d0887\"],[0.1111111111111111,\"#46039f\"],[0.2222222222222222,\"#7201a8\"],[0.3333333333333333,\"#9c179e\"],[0.4444444444444444,\"#bd3786\"],[0.5555555555555556,\"#d8576b\"],[0.6666666666666666,\"#ed7953\"],[0.7777777777777778,\"#fb9f3a\"],[0.8888888888888888,\"#fdca26\"],[1.0,\"#f0f921\"]],\"diverging\":[[0,\"#8e0152\"],[0.1,\"#c51b7d\"],[0.2,\"#de77ae\"],[0.3,\"#f1b6da\"],[0.4,\"#fde0ef\"],[0.5,\"#f7f7f7\"],[0.6,\"#e6f5d0\"],[0.7,\"#b8e186\"],[0.8,\"#7fbc41\"],[0.9,\"#4d9221\"],[1,\"#276419\"]]},\"xaxis\":{\"gridcolor\":\"white\",\"linecolor\":\"white\",\"ticks\":\"\",\"title\":{\"standoff\":15},\"zerolinecolor\":\"white\",\"automargin\":true,\"zerolinewidth\":2},\"yaxis\":{\"gridcolor\":\"white\",\"linecolor\":\"white\",\"ticks\":\"\",\"title\":{\"standoff\":15},\"zerolinecolor\":\"white\",\"automargin\":true,\"zerolinewidth\":2},\"scene\":{\"xaxis\":{\"backgroundcolor\":\"#E5ECF6\",\"gridcolor\":\"white\",\"linecolor\":\"white\",\"showbackground\":true,\"ticks\":\"\",\"zerolinecolor\":\"white\",\"gridwidth\":2},\"yaxis\":{\"backgroundcolor\":\"#E5ECF6\",\"gridcolor\":\"white\",\"linecolor\":\"white\",\"showbackground\":true,\"ticks\":\"\",\"zerolinecolor\":\"white\",\"gridwidth\":2},\"zaxis\":{\"backgroundcolor\":\"#E5ECF6\",\"gridcolor\":\"white\",\"linecolor\":\"white\",\"showbackground\":true,\"ticks\":\"\",\"zerolinecolor\":\"white\",\"gridwidth\":2}},\"shapedefaults\":{\"line\":{\"color\":\"#2a3f5f\"}},\"annotationdefaults\":{\"arrowcolor\":\"#2a3f5f\",\"arrowhead\":0,\"arrowwidth\":1},\"geo\":{\"bgcolor\":\"white\",\"landcolor\":\"#E5ECF6\",\"subunitcolor\":\"white\",\"showland\":true,\"showlakes\":true,\"lakecolor\":\"white\"},\"title\":{\"x\":0.05},\"mapbox\":{\"style\":\"light\"}}},\"title\":{\"text\":\"Sankey Diagram\"},\"font\":{\"size\":10}},                        {\"responsive\": true}                    ).then(function(){\n",
       "                            \n",
       "var gd = document.getElementById('9459f5bf-57b7-4e84-ab12-d17a9db6999b');\n",
       "var x = new MutationObserver(function (mutations, observer) {{\n",
       "        var display = window.getComputedStyle(gd).display;\n",
       "        if (!display || display === 'none') {{\n",
       "            console.log([gd, 'removed!']);\n",
       "            Plotly.purge(gd);\n",
       "            observer.disconnect();\n",
       "        }}\n",
       "}});\n",
       "\n",
       "// Listen for the removal of the full notebook cells\n",
       "var notebookContainer = gd.closest('#notebook-container');\n",
       "if (notebookContainer) {{\n",
       "    x.observe(notebookContainer, {childList: true});\n",
       "}}\n",
       "\n",
       "// Listen for the clearing of the current output cell\n",
       "var outputEl = gd.closest('.output');\n",
       "if (outputEl) {{\n",
       "    x.observe(outputEl, {childList: true});\n",
       "}}\n",
       "\n",
       "                        })                };                });            </script>        </div>"
      ]
     },
     "metadata": {},
     "output_type": "display_data"
    },
    {
     "data": {
      "application/javascript": [
       "\n",
       "            setTimeout(function() {\n",
       "                var nbb_cell_id = 123;\n",
       "                var nbb_unformatted_code = \"fig = go.Figure(\\n    data=[\\n        go.Sankey(\\n            node=dict(\\n                pad=20,\\n                thickness=200,\\n                line=dict(color=\\\"black\\\", width=0.01),\\n                label=unique_source_target,\\n                color=\\\"blue\\\",\\n            ),\\n            link=dict(\\n                source=links_dict[\\\"source\\\"],\\n                target=links_dict[\\\"target\\\"],\\n                value=links_dict[\\\"value\\\"],\\n            ),\\n        )\\n    ]\\n)\\n\\nfig.update_layout(\\n    title_text=\\\"Sankey Diagram\\\", font_size=10,\\n)\\nfig.show()\";\n",
       "                var nbb_formatted_code = \"fig = go.Figure(\\n    data=[\\n        go.Sankey(\\n            node=dict(\\n                pad=20,\\n                thickness=200,\\n                line=dict(color=\\\"black\\\", width=0.01),\\n                label=unique_source_target,\\n                color=\\\"blue\\\",\\n            ),\\n            link=dict(\\n                source=links_dict[\\\"source\\\"],\\n                target=links_dict[\\\"target\\\"],\\n                value=links_dict[\\\"value\\\"],\\n            ),\\n        )\\n    ]\\n)\\n\\nfig.update_layout(\\n    title_text=\\\"Sankey Diagram\\\", font_size=10,\\n)\\nfig.show()\";\n",
       "                var nbb_cells = Jupyter.notebook.get_cells();\n",
       "                for (var i = 0; i < nbb_cells.length; ++i) {\n",
       "                    if (nbb_cells[i].input_prompt_number == nbb_cell_id) {\n",
       "                        if (nbb_cells[i].get_text() == nbb_unformatted_code) {\n",
       "                             nbb_cells[i].set_text(nbb_formatted_code);\n",
       "                        }\n",
       "                        break;\n",
       "                    }\n",
       "                }\n",
       "            }, 500);\n",
       "            "
      ],
      "text/plain": [
       "<IPython.core.display.Javascript object>"
      ]
     },
     "metadata": {},
     "output_type": "display_data"
    }
   ],
   "source": [
    "fig = go.Figure(\n",
    "    data=[\n",
    "        go.Sankey(\n",
    "            node=dict(\n",
    "                pad=20,\n",
    "                thickness=200,\n",
    "                line=dict(color=\"black\", width=0.01),\n",
    "                label=unique_source_target,\n",
    "                color=\"blue\",\n",
    "            ),\n",
    "            link=dict(\n",
    "                source=links_dict[\"source\"],\n",
    "                target=links_dict[\"target\"],\n",
    "                value=links_dict[\"value\"],\n",
    "            ),\n",
    "        )\n",
    "    ]\n",
    ")\n",
    "\n",
    "fig.update_layout(\n",
    "    title_text=\"Sankey Diagram\", font_size=10,\n",
    ")\n",
    "fig.show()"
   ]
  },
  {
   "cell_type": "code",
   "execution_count": null,
   "id": "a8fe16ad",
   "metadata": {},
   "outputs": [],
   "source": []
  }
 ],
 "metadata": {
  "kernelspec": {
   "display_name": "Python 3 (ipykernel)",
   "language": "python",
   "name": "python3"
  },
  "language_info": {
   "codemirror_mode": {
    "name": "ipython",
    "version": 3
   },
   "file_extension": ".py",
   "mimetype": "text/x-python",
   "name": "python",
   "nbconvert_exporter": "python",
   "pygments_lexer": "ipython3",
   "version": "3.9.7"
  }
 },
 "nbformat": 4,
 "nbformat_minor": 5
}
