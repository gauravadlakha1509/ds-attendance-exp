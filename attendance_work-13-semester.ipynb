{
 "cells": [
  {
   "cell_type": "code",
   "execution_count": 1,
   "id": "cda34302",
   "metadata": {},
   "outputs": [
    {
     "data": {
      "application/javascript": [
       "\n",
       "            setTimeout(function() {\n",
       "                var nbb_cell_id = 1;\n",
       "                var nbb_unformatted_code = \"%load_ext nb_black\";\n",
       "                var nbb_formatted_code = \"%load_ext nb_black\";\n",
       "                var nbb_cells = Jupyter.notebook.get_cells();\n",
       "                for (var i = 0; i < nbb_cells.length; ++i) {\n",
       "                    if (nbb_cells[i].input_prompt_number == nbb_cell_id) {\n",
       "                        if (nbb_cells[i].get_text() == nbb_unformatted_code) {\n",
       "                             nbb_cells[i].set_text(nbb_formatted_code);\n",
       "                        }\n",
       "                        break;\n",
       "                    }\n",
       "                }\n",
       "            }, 500);\n",
       "            "
      ],
      "text/plain": [
       "<IPython.core.display.Javascript object>"
      ]
     },
     "metadata": {},
     "output_type": "display_data"
    }
   ],
   "source": [
    "%load_ext nb_black"
   ]
  },
  {
   "cell_type": "code",
   "execution_count": 2,
   "id": "3cb676ee",
   "metadata": {},
   "outputs": [
    {
     "data": {
      "application/javascript": [
       "\n",
       "            setTimeout(function() {\n",
       "                var nbb_cell_id = 2;\n",
       "                var nbb_unformatted_code = \"import pandas as pd\\nimport numpy as np\\nfrom fastai.tabular.core import *\\nfrom fastai.data.transforms import *\\nfrom fastcore.all import *\\nimport seaborn as sns\\nimport matplotlib.pyplot as plt\";\n",
       "                var nbb_formatted_code = \"import pandas as pd\\nimport numpy as np\\nfrom fastai.tabular.core import *\\nfrom fastai.data.transforms import *\\nfrom fastcore.all import *\\nimport seaborn as sns\\nimport matplotlib.pyplot as plt\";\n",
       "                var nbb_cells = Jupyter.notebook.get_cells();\n",
       "                for (var i = 0; i < nbb_cells.length; ++i) {\n",
       "                    if (nbb_cells[i].input_prompt_number == nbb_cell_id) {\n",
       "                        if (nbb_cells[i].get_text() == nbb_unformatted_code) {\n",
       "                             nbb_cells[i].set_text(nbb_formatted_code);\n",
       "                        }\n",
       "                        break;\n",
       "                    }\n",
       "                }\n",
       "            }, 500);\n",
       "            "
      ],
      "text/plain": [
       "<IPython.core.display.Javascript object>"
      ]
     },
     "metadata": {},
     "output_type": "display_data"
    }
   ],
   "source": [
    "import pandas as pd\n",
    "import numpy as np\n",
    "from fastai.tabular.core import *\n",
    "from fastai.data.transforms import *\n",
    "from fastcore.all import *\n",
    "import seaborn as sns\n",
    "import matplotlib.pyplot as plt"
   ]
  },
  {
   "cell_type": "code",
   "execution_count": 3,
   "id": "f316a2ee",
   "metadata": {},
   "outputs": [
    {
     "data": {
      "application/javascript": [
       "\n",
       "            setTimeout(function() {\n",
       "                var nbb_cell_id = 3;\n",
       "                var nbb_unformatted_code = \"from re import sub\\n\\n\\ndef snake_case(s):\\n    return \\\"_\\\".join(\\n        sub(\\n            \\\"([A-Z][a-z]+)\\\", r\\\" \\\\1\\\", sub(\\\"([A-Z]+)\\\", r\\\" \\\\1\\\", s.replace(\\\"-\\\", \\\" \\\"))\\n        ).split()\\n    ).lower()\";\n",
       "                var nbb_formatted_code = \"from re import sub\\n\\n\\ndef snake_case(s):\\n    return \\\"_\\\".join(\\n        sub(\\n            \\\"([A-Z][a-z]+)\\\", r\\\" \\\\1\\\", sub(\\\"([A-Z]+)\\\", r\\\" \\\\1\\\", s.replace(\\\"-\\\", \\\" \\\"))\\n        ).split()\\n    ).lower()\";\n",
       "                var nbb_cells = Jupyter.notebook.get_cells();\n",
       "                for (var i = 0; i < nbb_cells.length; ++i) {\n",
       "                    if (nbb_cells[i].input_prompt_number == nbb_cell_id) {\n",
       "                        if (nbb_cells[i].get_text() == nbb_unformatted_code) {\n",
       "                             nbb_cells[i].set_text(nbb_formatted_code);\n",
       "                        }\n",
       "                        break;\n",
       "                    }\n",
       "                }\n",
       "            }, 500);\n",
       "            "
      ],
      "text/plain": [
       "<IPython.core.display.Javascript object>"
      ]
     },
     "metadata": {},
     "output_type": "display_data"
    }
   ],
   "source": [
    "from re import sub\n",
    "\n",
    "\n",
    "def snake_case(s):\n",
    "    return \"_\".join(\n",
    "        sub(\n",
    "            \"([A-Z][a-z]+)\", r\" \\1\", sub(\"([A-Z]+)\", r\" \\1\", s.replace(\"-\", \" \"))\n",
    "        ).split()\n",
    "    ).lower()"
   ]
  },
  {
   "cell_type": "code",
   "execution_count": 4,
   "id": "d30036ae",
   "metadata": {},
   "outputs": [
    {
     "data": {
      "application/javascript": [
       "\n",
       "            setTimeout(function() {\n",
       "                var nbb_cell_id = 4;\n",
       "                var nbb_unformatted_code = \"%matplotlib inline\\nimport plotly as py\\nimport plotly.tools as tls\\nimport matplotlib.pyplot as plt\\n\\n# py.offline.init_notebook_mode(connected=True)\\n# from plotly.offline import iplot\\n\\n# pd.options.plotting.backend = \\\"plotly\\\"\\n\\n# import seaborn as sns\\n# import matplotlib.pyplot as plt\\n\\n## initial viz settings ##\\nsns.set(font_scale=1.2)\\ncol = \\\"#3B1C8C\\\"\\ncm = \\\"viridis\\\"\\nimport plotly.graph_objects as go\";\n",
       "                var nbb_formatted_code = \"%matplotlib inline\\nimport plotly as py\\nimport plotly.tools as tls\\nimport matplotlib.pyplot as plt\\n\\n# py.offline.init_notebook_mode(connected=True)\\n# from plotly.offline import iplot\\n\\n# pd.options.plotting.backend = \\\"plotly\\\"\\n\\n# import seaborn as sns\\n# import matplotlib.pyplot as plt\\n\\n## initial viz settings ##\\nsns.set(font_scale=1.2)\\ncol = \\\"#3B1C8C\\\"\\ncm = \\\"viridis\\\"\\nimport plotly.graph_objects as go\";\n",
       "                var nbb_cells = Jupyter.notebook.get_cells();\n",
       "                for (var i = 0; i < nbb_cells.length; ++i) {\n",
       "                    if (nbb_cells[i].input_prompt_number == nbb_cell_id) {\n",
       "                        if (nbb_cells[i].get_text() == nbb_unformatted_code) {\n",
       "                             nbb_cells[i].set_text(nbb_formatted_code);\n",
       "                        }\n",
       "                        break;\n",
       "                    }\n",
       "                }\n",
       "            }, 500);\n",
       "            "
      ],
      "text/plain": [
       "<IPython.core.display.Javascript object>"
      ]
     },
     "metadata": {},
     "output_type": "display_data"
    }
   ],
   "source": [
    "%matplotlib inline\n",
    "import plotly as py\n",
    "import plotly.tools as tls\n",
    "import matplotlib.pyplot as plt\n",
    "\n",
    "# py.offline.init_notebook_mode(connected=True)\n",
    "# from plotly.offline import iplot\n",
    "\n",
    "# pd.options.plotting.backend = \"plotly\"\n",
    "\n",
    "# import seaborn as sns\n",
    "# import matplotlib.pyplot as plt\n",
    "\n",
    "## initial viz settings ##\n",
    "sns.set(font_scale=1.2)\n",
    "col = \"#3B1C8C\"\n",
    "cm = \"viridis\"\n",
    "import plotly.graph_objects as go\n"
   ]
  },
  {
   "cell_type": "code",
   "execution_count": 5,
   "id": "859e4620",
   "metadata": {},
   "outputs": [
    {
     "name": "stderr",
     "output_type": "stream",
     "text": [
      "<timed exec>:1: DtypeWarning:\n",
      "\n",
      "Columns (3) have mixed types. Specify dtype option on import or set low_memory=False.\n",
      "\n"
     ]
    },
    {
     "name": "stdout",
     "output_type": "stream",
     "text": [
      "CPU times: user 40.2 s, sys: 12 s, total: 52.2 s\n",
      "Wall time: 54.6 s\n"
     ]
    },
    {
     "data": {
      "application/javascript": [
       "\n",
       "            setTimeout(function() {\n",
       "                var nbb_cell_id = 5;\n",
       "                var nbb_unformatted_code = \"%%time\\ndf = pd.read_csv('meeting_date_with_semester_append.csv')\";\n",
       "                var nbb_formatted_code = \"%%time\\ndf = pd.read_csv('meeting_date_with_semester_append.csv')\";\n",
       "                var nbb_cells = Jupyter.notebook.get_cells();\n",
       "                for (var i = 0; i < nbb_cells.length; ++i) {\n",
       "                    if (nbb_cells[i].input_prompt_number == nbb_cell_id) {\n",
       "                        if (nbb_cells[i].get_text() == nbb_unformatted_code) {\n",
       "                             nbb_cells[i].set_text(nbb_formatted_code);\n",
       "                        }\n",
       "                        break;\n",
       "                    }\n",
       "                }\n",
       "            }, 500);\n",
       "            "
      ],
      "text/plain": [
       "<IPython.core.display.Javascript object>"
      ]
     },
     "metadata": {},
     "output_type": "display_data"
    }
   ],
   "source": [
    "%%time\n",
    "df = pd.read_csv('meeting_date_with_semester_append.csv')"
   ]
  },
  {
   "cell_type": "code",
   "execution_count": 6,
   "id": "99b853df",
   "metadata": {},
   "outputs": [
    {
     "data": {
      "application/javascript": [
       "\n",
       "            setTimeout(function() {\n",
       "                var nbb_cell_id = 6;\n",
       "                var nbb_unformatted_code = \"# df.GRADE_LEVEL.value_counts()\";\n",
       "                var nbb_formatted_code = \"# df.GRADE_LEVEL.value_counts()\";\n",
       "                var nbb_cells = Jupyter.notebook.get_cells();\n",
       "                for (var i = 0; i < nbb_cells.length; ++i) {\n",
       "                    if (nbb_cells[i].input_prompt_number == nbb_cell_id) {\n",
       "                        if (nbb_cells[i].get_text() == nbb_unformatted_code) {\n",
       "                             nbb_cells[i].set_text(nbb_formatted_code);\n",
       "                        }\n",
       "                        break;\n",
       "                    }\n",
       "                }\n",
       "            }, 500);\n",
       "            "
      ],
      "text/plain": [
       "<IPython.core.display.Javascript object>"
      ]
     },
     "metadata": {},
     "output_type": "display_data"
    }
   ],
   "source": [
    "# df.GRADE_LEVEL.value_counts()"
   ]
  },
  {
   "cell_type": "code",
   "execution_count": 7,
   "id": "0d308427",
   "metadata": {},
   "outputs": [
    {
     "data": {
      "application/javascript": [
       "\n",
       "            setTimeout(function() {\n",
       "                var nbb_cell_id = 7;\n",
       "                var nbb_unformatted_code = \"# fix grade_level\\ngrade_list = list(pd.unique(df.GRADE_LEVEL))\\ngrade_list = list(map(lambda x: str(x), grade_list))\\nmapping_dict = {k: snake_case(k) for v, k in enumerate(grade_list)}\";\n",
       "                var nbb_formatted_code = \"# fix grade_level\\ngrade_list = list(pd.unique(df.GRADE_LEVEL))\\ngrade_list = list(map(lambda x: str(x), grade_list))\\nmapping_dict = {k: snake_case(k) for v, k in enumerate(grade_list)}\";\n",
       "                var nbb_cells = Jupyter.notebook.get_cells();\n",
       "                for (var i = 0; i < nbb_cells.length; ++i) {\n",
       "                    if (nbb_cells[i].input_prompt_number == nbb_cell_id) {\n",
       "                        if (nbb_cells[i].get_text() == nbb_unformatted_code) {\n",
       "                             nbb_cells[i].set_text(nbb_formatted_code);\n",
       "                        }\n",
       "                        break;\n",
       "                    }\n",
       "                }\n",
       "            }, 500);\n",
       "            "
      ],
      "text/plain": [
       "<IPython.core.display.Javascript object>"
      ]
     },
     "metadata": {},
     "output_type": "display_data"
    }
   ],
   "source": [
    "# fix grade_level\n",
    "grade_list = list(pd.unique(df.GRADE_LEVEL))\n",
    "grade_list = list(map(lambda x: str(x), grade_list))\n",
    "mapping_dict = {k: snake_case(k) for v, k in enumerate(grade_list)}"
   ]
  },
  {
   "cell_type": "code",
   "execution_count": 8,
   "id": "7b914545",
   "metadata": {},
   "outputs": [
    {
     "data": {
      "application/javascript": [
       "\n",
       "            setTimeout(function() {\n",
       "                var nbb_cell_id = 8;\n",
       "                var nbb_unformatted_code = \"# mapping_dict\";\n",
       "                var nbb_formatted_code = \"# mapping_dict\";\n",
       "                var nbb_cells = Jupyter.notebook.get_cells();\n",
       "                for (var i = 0; i < nbb_cells.length; ++i) {\n",
       "                    if (nbb_cells[i].input_prompt_number == nbb_cell_id) {\n",
       "                        if (nbb_cells[i].get_text() == nbb_unformatted_code) {\n",
       "                             nbb_cells[i].set_text(nbb_formatted_code);\n",
       "                        }\n",
       "                        break;\n",
       "                    }\n",
       "                }\n",
       "            }, 500);\n",
       "            "
      ],
      "text/plain": [
       "<IPython.core.display.Javascript object>"
      ]
     },
     "metadata": {},
     "output_type": "display_data"
    }
   ],
   "source": [
    "# mapping_dict"
   ]
  },
  {
   "cell_type": "code",
   "execution_count": 9,
   "id": "e90677d7",
   "metadata": {},
   "outputs": [
    {
     "data": {
      "application/javascript": [
       "\n",
       "            setTimeout(function() {\n",
       "                var nbb_cell_id = 9;\n",
       "                var nbb_unformatted_code = \"df.GRADE_LEVEL = df.GRADE_LEVEL.map(mapping_dict)\";\n",
       "                var nbb_formatted_code = \"df.GRADE_LEVEL = df.GRADE_LEVEL.map(mapping_dict)\";\n",
       "                var nbb_cells = Jupyter.notebook.get_cells();\n",
       "                for (var i = 0; i < nbb_cells.length; ++i) {\n",
       "                    if (nbb_cells[i].input_prompt_number == nbb_cell_id) {\n",
       "                        if (nbb_cells[i].get_text() == nbb_unformatted_code) {\n",
       "                             nbb_cells[i].set_text(nbb_formatted_code);\n",
       "                        }\n",
       "                        break;\n",
       "                    }\n",
       "                }\n",
       "            }, 500);\n",
       "            "
      ],
      "text/plain": [
       "<IPython.core.display.Javascript object>"
      ]
     },
     "metadata": {},
     "output_type": "display_data"
    }
   ],
   "source": [
    "df.GRADE_LEVEL = df.GRADE_LEVEL.map(mapping_dict)"
   ]
  },
  {
   "cell_type": "code",
   "execution_count": 10,
   "id": "ed8317a8",
   "metadata": {},
   "outputs": [
    {
     "data": {
      "text/plain": [
       "\\_n    1085329\n",
       "9       248443\n",
       "10      193940\n",
       "11      188259\n",
       "12      137992\n",
       "1        79015\n",
       "7        78452\n",
       "6        75424\n",
       "8        75123\n",
       "2        64028\n",
       "4        58974\n",
       "5        57334\n",
       "3        56699\n",
       "0        52388\n",
       "99         869\n",
       "Name: GRADE_LEVEL, dtype: int64"
      ]
     },
     "execution_count": 10,
     "metadata": {},
     "output_type": "execute_result"
    },
    {
     "data": {
      "application/javascript": [
       "\n",
       "            setTimeout(function() {\n",
       "                var nbb_cell_id = 10;\n",
       "                var nbb_unformatted_code = \"df.GRADE_LEVEL.value_counts()\";\n",
       "                var nbb_formatted_code = \"df.GRADE_LEVEL.value_counts()\";\n",
       "                var nbb_cells = Jupyter.notebook.get_cells();\n",
       "                for (var i = 0; i < nbb_cells.length; ++i) {\n",
       "                    if (nbb_cells[i].input_prompt_number == nbb_cell_id) {\n",
       "                        if (nbb_cells[i].get_text() == nbb_unformatted_code) {\n",
       "                             nbb_cells[i].set_text(nbb_formatted_code);\n",
       "                        }\n",
       "                        break;\n",
       "                    }\n",
       "                }\n",
       "            }, 500);\n",
       "            "
      ],
      "text/plain": [
       "<IPython.core.display.Javascript object>"
      ]
     },
     "metadata": {},
     "output_type": "display_data"
    }
   ],
   "source": [
    "df.GRADE_LEVEL.value_counts()"
   ]
  },
  {
   "cell_type": "code",
   "execution_count": 11,
   "id": "149947d1",
   "metadata": {},
   "outputs": [
    {
     "data": {
      "text/plain": [
       "2020    7314177\n",
       "2021    1634812\n",
       "2018     923360\n",
       "2013     885267\n",
       "2014     858874\n",
       "2015     801510\n",
       "2017     800820\n",
       "2019     734228\n",
       "2016     639765\n",
       "Name: SCHOOLYEAR, dtype: int64"
      ]
     },
     "execution_count": 11,
     "metadata": {},
     "output_type": "execute_result"
    },
    {
     "data": {
      "application/javascript": [
       "\n",
       "            setTimeout(function() {\n",
       "                var nbb_cell_id = 11;\n",
       "                var nbb_unformatted_code = \"df.SCHOOLYEAR.value_counts()\";\n",
       "                var nbb_formatted_code = \"df.SCHOOLYEAR.value_counts()\";\n",
       "                var nbb_cells = Jupyter.notebook.get_cells();\n",
       "                for (var i = 0; i < nbb_cells.length; ++i) {\n",
       "                    if (nbb_cells[i].input_prompt_number == nbb_cell_id) {\n",
       "                        if (nbb_cells[i].get_text() == nbb_unformatted_code) {\n",
       "                             nbb_cells[i].set_text(nbb_formatted_code);\n",
       "                        }\n",
       "                        break;\n",
       "                    }\n",
       "                }\n",
       "            }, 500);\n",
       "            "
      ],
      "text/plain": [
       "<IPython.core.display.Javascript object>"
      ]
     },
     "metadata": {},
     "output_type": "display_data"
    }
   ],
   "source": [
    "df.SCHOOLYEAR.value_counts()"
   ]
  },
  {
   "cell_type": "code",
   "execution_count": 12,
   "id": "881a2217",
   "metadata": {},
   "outputs": [
    {
     "data": {
      "application/javascript": [
       "\n",
       "            setTimeout(function() {\n",
       "                var nbb_cell_id = 12;\n",
       "                var nbb_unformatted_code = \"df_2019 = df[df.SCHOOLYEAR == 2019]\";\n",
       "                var nbb_formatted_code = \"df_2019 = df[df.SCHOOLYEAR == 2019]\";\n",
       "                var nbb_cells = Jupyter.notebook.get_cells();\n",
       "                for (var i = 0; i < nbb_cells.length; ++i) {\n",
       "                    if (nbb_cells[i].input_prompt_number == nbb_cell_id) {\n",
       "                        if (nbb_cells[i].get_text() == nbb_unformatted_code) {\n",
       "                             nbb_cells[i].set_text(nbb_formatted_code);\n",
       "                        }\n",
       "                        break;\n",
       "                    }\n",
       "                }\n",
       "            }, 500);\n",
       "            "
      ],
      "text/plain": [
       "<IPython.core.display.Javascript object>"
      ]
     },
     "metadata": {},
     "output_type": "display_data"
    }
   ],
   "source": [
    "df_2019 = df[df.SCHOOLYEAR == 2019]"
   ]
  },
  {
   "cell_type": "code",
   "execution_count": 13,
   "id": "81d88d61",
   "metadata": {},
   "outputs": [
    {
     "data": {
      "text/plain": [
       "1     12095\n",
       "0     11712\n",
       "10     8079\n",
       "4      7276\n",
       "2      7065\n",
       "9      6913\n",
       "3      6897\n",
       "11     6891\n",
       "12     6725\n",
       "5      6623\n",
       "7      5034\n",
       "8      4976\n",
       "6      4598\n",
       "99      103\n",
       "Name: GRADE_LEVEL, dtype: int64"
      ]
     },
     "execution_count": 13,
     "metadata": {},
     "output_type": "execute_result"
    },
    {
     "data": {
      "application/javascript": [
       "\n",
       "            setTimeout(function() {\n",
       "                var nbb_cell_id = 13;\n",
       "                var nbb_unformatted_code = \"df_2019.GRADE_LEVEL.value_counts()\";\n",
       "                var nbb_formatted_code = \"df_2019.GRADE_LEVEL.value_counts()\";\n",
       "                var nbb_cells = Jupyter.notebook.get_cells();\n",
       "                for (var i = 0; i < nbb_cells.length; ++i) {\n",
       "                    if (nbb_cells[i].input_prompt_number == nbb_cell_id) {\n",
       "                        if (nbb_cells[i].get_text() == nbb_unformatted_code) {\n",
       "                             nbb_cells[i].set_text(nbb_formatted_code);\n",
       "                        }\n",
       "                        break;\n",
       "                    }\n",
       "                }\n",
       "            }, 500);\n",
       "            "
      ],
      "text/plain": [
       "<IPython.core.display.Javascript object>"
      ]
     },
     "metadata": {},
     "output_type": "display_data"
    }
   ],
   "source": [
    "df_2019.GRADE_LEVEL.value_counts()"
   ]
  },
  {
   "cell_type": "code",
   "execution_count": 14,
   "id": "d5199ec3",
   "metadata": {},
   "outputs": [
    {
     "data": {
      "application/javascript": [
       "\n",
       "            setTimeout(function() {\n",
       "                var nbb_cell_id = 14;\n",
       "                var nbb_unformatted_code = \"df_2019_grade_12 = df_2019[df_2019.GRADE_LEVEL == \\\"12\\\"]\";\n",
       "                var nbb_formatted_code = \"df_2019_grade_12 = df_2019[df_2019.GRADE_LEVEL == \\\"12\\\"]\";\n",
       "                var nbb_cells = Jupyter.notebook.get_cells();\n",
       "                for (var i = 0; i < nbb_cells.length; ++i) {\n",
       "                    if (nbb_cells[i].input_prompt_number == nbb_cell_id) {\n",
       "                        if (nbb_cells[i].get_text() == nbb_unformatted_code) {\n",
       "                             nbb_cells[i].set_text(nbb_formatted_code);\n",
       "                        }\n",
       "                        break;\n",
       "                    }\n",
       "                }\n",
       "            }, 500);\n",
       "            "
      ],
      "text/plain": [
       "<IPython.core.display.Javascript object>"
      ]
     },
     "metadata": {},
     "output_type": "display_data"
    }
   ],
   "source": [
    "df_2019_grade_12 = df_2019[df_2019.GRADE_LEVEL == \"12\"]"
   ]
  },
  {
   "cell_type": "code",
   "execution_count": 15,
   "id": "94d306ef",
   "metadata": {},
   "outputs": [
    {
     "data": {
      "text/plain": [
       "4759    3010\n",
       "4279    1457\n",
       "4716    1230\n",
       "4710     637\n",
       "4764     391\n",
       "Name: SCHOOLDCID, dtype: int64"
      ]
     },
     "execution_count": 15,
     "metadata": {},
     "output_type": "execute_result"
    },
    {
     "data": {
      "application/javascript": [
       "\n",
       "            setTimeout(function() {\n",
       "                var nbb_cell_id = 15;\n",
       "                var nbb_unformatted_code = \"df_2019_grade_12.SCHOOLDCID.value_counts()\";\n",
       "                var nbb_formatted_code = \"df_2019_grade_12.SCHOOLDCID.value_counts()\";\n",
       "                var nbb_cells = Jupyter.notebook.get_cells();\n",
       "                for (var i = 0; i < nbb_cells.length; ++i) {\n",
       "                    if (nbb_cells[i].input_prompt_number == nbb_cell_id) {\n",
       "                        if (nbb_cells[i].get_text() == nbb_unformatted_code) {\n",
       "                             nbb_cells[i].set_text(nbb_formatted_code);\n",
       "                        }\n",
       "                        break;\n",
       "                    }\n",
       "                }\n",
       "            }, 500);\n",
       "            "
      ],
      "text/plain": [
       "<IPython.core.display.Javascript object>"
      ]
     },
     "metadata": {},
     "output_type": "display_data"
    }
   ],
   "source": [
    "df_2019_grade_12.SCHOOLDCID.value_counts()"
   ]
  },
  {
   "cell_type": "code",
   "execution_count": 16,
   "id": "82376b8f",
   "metadata": {},
   "outputs": [
    {
     "data": {
      "application/javascript": [
       "\n",
       "            setTimeout(function() {\n",
       "                var nbb_cell_id = 16;\n",
       "                var nbb_unformatted_code = \"df_2019_grade_12_school = df_2019_grade_12[df_2019_grade_12.SCHOOLDCID == 4759]\";\n",
       "                var nbb_formatted_code = \"df_2019_grade_12_school = df_2019_grade_12[df_2019_grade_12.SCHOOLDCID == 4759]\";\n",
       "                var nbb_cells = Jupyter.notebook.get_cells();\n",
       "                for (var i = 0; i < nbb_cells.length; ++i) {\n",
       "                    if (nbb_cells[i].input_prompt_number == nbb_cell_id) {\n",
       "                        if (nbb_cells[i].get_text() == nbb_unformatted_code) {\n",
       "                             nbb_cells[i].set_text(nbb_formatted_code);\n",
       "                        }\n",
       "                        break;\n",
       "                    }\n",
       "                }\n",
       "            }, 500);\n",
       "            "
      ],
      "text/plain": [
       "<IPython.core.display.Javascript object>"
      ]
     },
     "metadata": {},
     "output_type": "display_data"
    }
   ],
   "source": [
    "df_2019_grade_12_school = df_2019_grade_12[df_2019_grade_12.SCHOOLDCID == 4759]"
   ]
  },
  {
   "cell_type": "code",
   "execution_count": 17,
   "id": "651d1bcd",
   "metadata": {},
   "outputs": [
    {
     "data": {
      "text/plain": [
       "Semester 1    2092\n",
       "Semester 2     695\n",
       "\\N             183\n",
       "2019-2020       40\n",
       "Name: TERM_NAME, dtype: int64"
      ]
     },
     "execution_count": 17,
     "metadata": {},
     "output_type": "execute_result"
    },
    {
     "data": {
      "application/javascript": [
       "\n",
       "            setTimeout(function() {\n",
       "                var nbb_cell_id = 17;\n",
       "                var nbb_unformatted_code = \"df_2019_grade_12_school.TERM_NAME.value_counts()\";\n",
       "                var nbb_formatted_code = \"df_2019_grade_12_school.TERM_NAME.value_counts()\";\n",
       "                var nbb_cells = Jupyter.notebook.get_cells();\n",
       "                for (var i = 0; i < nbb_cells.length; ++i) {\n",
       "                    if (nbb_cells[i].input_prompt_number == nbb_cell_id) {\n",
       "                        if (nbb_cells[i].get_text() == nbb_unformatted_code) {\n",
       "                             nbb_cells[i].set_text(nbb_formatted_code);\n",
       "                        }\n",
       "                        break;\n",
       "                    }\n",
       "                }\n",
       "            }, 500);\n",
       "            "
      ],
      "text/plain": [
       "<IPython.core.display.Javascript object>"
      ]
     },
     "metadata": {},
     "output_type": "display_data"
    }
   ],
   "source": [
    "df_2019_grade_12_school.TERM_NAME.value_counts()"
   ]
  },
  {
   "cell_type": "code",
   "execution_count": 18,
   "id": "c16357cd",
   "metadata": {},
   "outputs": [
    {
     "data": {
      "text/plain": [
       "<AxesSubplot:xlabel='TERM_NAME'>"
      ]
     },
     "execution_count": 18,
     "metadata": {},
     "output_type": "execute_result"
    },
    {
     "data": {
      "image/png": "[encoded data removed]",
      "text/plain": [
       "<Figure size 432x288 with 1 Axes>"
      ]
     },
     "metadata": {},
     "output_type": "display_data"
    },
    {
     "data": {
      "application/javascript": [
       "\n",
       "            setTimeout(function() {\n",
       "                var nbb_cell_id = 18;\n",
       "                var nbb_unformatted_code = \"df_2019_grade_12_school.groupby([\\\"TERM_NAME\\\", \\\"PRESENCE_STATUS_CD\\\"])[\\n    \\\"PRESENCE_STATUS_CD\\\"\\n].count().unstack().plot(kind=\\\"bar\\\")\";\n",
       "                var nbb_formatted_code = \"df_2019_grade_12_school.groupby([\\\"TERM_NAME\\\", \\\"PRESENCE_STATUS_CD\\\"])[\\n    \\\"PRESENCE_STATUS_CD\\\"\\n].count().unstack().plot(kind=\\\"bar\\\")\";\n",
       "                var nbb_cells = Jupyter.notebook.get_cells();\n",
       "                for (var i = 0; i < nbb_cells.length; ++i) {\n",
       "                    if (nbb_cells[i].input_prompt_number == nbb_cell_id) {\n",
       "                        if (nbb_cells[i].get_text() == nbb_unformatted_code) {\n",
       "                             nbb_cells[i].set_text(nbb_formatted_code);\n",
       "                        }\n",
       "                        break;\n",
       "                    }\n",
       "                }\n",
       "            }, 500);\n",
       "            "
      ],
      "text/plain": [
       "<IPython.core.display.Javascript object>"
      ]
     },
     "metadata": {},
     "output_type": "display_data"
    }
   ],
   "source": [
    "df_2019_grade_12_school.groupby([\"TERM_NAME\", \"PRESENCE_STATUS_CD\"])[\n",
    "    \"PRESENCE_STATUS_CD\"\n",
    "].count().unstack().plot(kind=\"bar\")"
   ]
  },
  {
   "cell_type": "code",
   "execution_count": 19,
   "id": "14fdf520",
   "metadata": {},
   "outputs": [
    {
     "data": {
      "text/plain": [
       "Amer Hist: Founding Prin, Civics & Econ    306\n",
       "Adv Functions & Modeling                   281\n",
       "English IV                                 196\n",
       "Amer His: Found Prin, Civ & Econ Honors    153\n",
       "AP English Literature and Composition      150\n",
       "                                          ... \n",
       "American History I Honors                    1\n",
       "ROTC II                                      1\n",
       "English II                                   1\n",
       "Introduction to Criminal Justice             1\n",
       "Band (Proficient) Honors Spring              1\n",
       "Name: COURSE_NAME, Length: 101, dtype: int64"
      ]
     },
     "execution_count": 19,
     "metadata": {},
     "output_type": "execute_result"
    },
    {
     "data": {
      "application/javascript": [
       "\n",
       "            setTimeout(function() {\n",
       "                var nbb_cell_id = 19;\n",
       "                var nbb_unformatted_code = \"df_2019_grade_12_school.COURSE_NAME.value_counts()\";\n",
       "                var nbb_formatted_code = \"df_2019_grade_12_school.COURSE_NAME.value_counts()\";\n",
       "                var nbb_cells = Jupyter.notebook.get_cells();\n",
       "                for (var i = 0; i < nbb_cells.length; ++i) {\n",
       "                    if (nbb_cells[i].input_prompt_number == nbb_cell_id) {\n",
       "                        if (nbb_cells[i].get_text() == nbb_unformatted_code) {\n",
       "                             nbb_cells[i].set_text(nbb_formatted_code);\n",
       "                        }\n",
       "                        break;\n",
       "                    }\n",
       "                }\n",
       "            }, 500);\n",
       "            "
      ],
      "text/plain": [
       "<IPython.core.display.Javascript object>"
      ]
     },
     "metadata": {},
     "output_type": "display_data"
    }
   ],
   "source": [
    "df_2019_grade_12_school.COURSE_NAME.value_counts()"
   ]
  },
  {
   "cell_type": "code",
   "execution_count": 20,
   "id": "e6fa20ce",
   "metadata": {},
   "outputs": [
    {
     "data": {
      "application/javascript": [
       "\n",
       "            setTimeout(function() {\n",
       "                var nbb_cell_id = 20;\n",
       "                var nbb_unformatted_code = \"df_2019_grade_12_school_course = df_2019_grade_12_school[\\n    df_2019_grade_12_school.COURSE_NAME == \\\"Amer Hist: Founding Prin, Civics & Econ\\\"\\n]\";\n",
       "                var nbb_formatted_code = \"df_2019_grade_12_school_course = df_2019_grade_12_school[\\n    df_2019_grade_12_school.COURSE_NAME == \\\"Amer Hist: Founding Prin, Civics & Econ\\\"\\n]\";\n",
       "                var nbb_cells = Jupyter.notebook.get_cells();\n",
       "                for (var i = 0; i < nbb_cells.length; ++i) {\n",
       "                    if (nbb_cells[i].input_prompt_number == nbb_cell_id) {\n",
       "                        if (nbb_cells[i].get_text() == nbb_unformatted_code) {\n",
       "                             nbb_cells[i].set_text(nbb_formatted_code);\n",
       "                        }\n",
       "                        break;\n",
       "                    }\n",
       "                }\n",
       "            }, 500);\n",
       "            "
      ],
      "text/plain": [
       "<IPython.core.display.Javascript object>"
      ]
     },
     "metadata": {},
     "output_type": "display_data"
    }
   ],
   "source": [
    "df_2019_grade_12_school_course = df_2019_grade_12_school[\n",
    "    df_2019_grade_12_school.COURSE_NAME == \"Amer Hist: Founding Prin, Civics & Econ\"\n",
    "]"
   ]
  },
  {
   "cell_type": "code",
   "execution_count": 22,
   "id": "ccf67cbe",
   "metadata": {},
   "outputs": [
    {
     "data": {
      "text/html": [
       "<div>\n",
       "<style scoped>\n",
       "    .dataframe tbody tr th:only-of-type {\n",
       "        vertical-align: middle;\n",
       "    }\n",
       "\n",
       "    .dataframe tbody tr th {\n",
       "        vertical-align: top;\n",
       "    }\n",
       "\n",
       "    .dataframe thead th {\n",
       "        text-align: right;\n",
       "    }\n",
       "</style>\n",
       "<table border=\"1\" class=\"dataframe\">\n",
       "  <thead>\n",
       "    <tr style=\"text-align: right;\">\n",
       "      <th>PRESENCE_STATUS_CD</th>\n",
       "      <th>Absent</th>\n",
       "      <th>Present</th>\n",
       "    </tr>\n",
       "    <tr>\n",
       "      <th>STUDENTID</th>\n",
       "      <th></th>\n",
       "      <th></th>\n",
       "    </tr>\n",
       "  </thead>\n",
       "  <tbody>\n",
       "    <tr>\n",
       "      <th>54528</th>\n",
       "      <td>3.0</td>\n",
       "      <td>NaN</td>\n",
       "    </tr>\n",
       "    <tr>\n",
       "      <th>69494</th>\n",
       "      <td>2.0</td>\n",
       "      <td>NaN</td>\n",
       "    </tr>\n",
       "    <tr>\n",
       "      <th>69520</th>\n",
       "      <td>1.0</td>\n",
       "      <td>1.0</td>\n",
       "    </tr>\n",
       "    <tr>\n",
       "      <th>69567</th>\n",
       "      <td>6.0</td>\n",
       "      <td>1.0</td>\n",
       "    </tr>\n",
       "    <tr>\n",
       "      <th>70291</th>\n",
       "      <td>11.0</td>\n",
       "      <td>1.0</td>\n",
       "    </tr>\n",
       "    <tr>\n",
       "      <th>...</th>\n",
       "      <td>...</td>\n",
       "      <td>...</td>\n",
       "    </tr>\n",
       "    <tr>\n",
       "      <th>213689</th>\n",
       "      <td>3.0</td>\n",
       "      <td>NaN</td>\n",
       "    </tr>\n",
       "    <tr>\n",
       "      <th>215455</th>\n",
       "      <td>2.0</td>\n",
       "      <td>NaN</td>\n",
       "    </tr>\n",
       "    <tr>\n",
       "      <th>219652</th>\n",
       "      <td>3.0</td>\n",
       "      <td>NaN</td>\n",
       "    </tr>\n",
       "    <tr>\n",
       "      <th>228734</th>\n",
       "      <td>1.0</td>\n",
       "      <td>NaN</td>\n",
       "    </tr>\n",
       "    <tr>\n",
       "      <th>230321</th>\n",
       "      <td>4.0</td>\n",
       "      <td>NaN</td>\n",
       "    </tr>\n",
       "  </tbody>\n",
       "</table>\n",
       "<p>89 rows × 2 columns</p>\n",
       "</div>"
      ],
      "text/plain": [
       "PRESENCE_STATUS_CD  Absent  Present\n",
       "STUDENTID                          \n",
       "54528                  3.0      NaN\n",
       "69494                  2.0      NaN\n",
       "69520                  1.0      1.0\n",
       "69567                  6.0      1.0\n",
       "70291                 11.0      1.0\n",
       "...                    ...      ...\n",
       "213689                 3.0      NaN\n",
       "215455                 2.0      NaN\n",
       "219652                 3.0      NaN\n",
       "228734                 1.0      NaN\n",
       "230321                 4.0      NaN\n",
       "\n",
       "[89 rows x 2 columns]"
      ]
     },
     "execution_count": 22,
     "metadata": {},
     "output_type": "execute_result"
    },
    {
     "data": {
      "application/javascript": [
       "\n",
       "            setTimeout(function() {\n",
       "                var nbb_cell_id = 22;\n",
       "                var nbb_unformatted_code = \"df_2019_grade_12_school_course.groupby([\\\"STUDENTID\\\", \\\"PRESENCE_STATUS_CD\\\"])[\\n    \\\"PRESENCE_STATUS_CD\\\"\\n].count().unstack()\";\n",
       "                var nbb_formatted_code = \"df_2019_grade_12_school_course.groupby([\\\"STUDENTID\\\", \\\"PRESENCE_STATUS_CD\\\"])[\\n    \\\"PRESENCE_STATUS_CD\\\"\\n].count().unstack()\";\n",
       "                var nbb_cells = Jupyter.notebook.get_cells();\n",
       "                for (var i = 0; i < nbb_cells.length; ++i) {\n",
       "                    if (nbb_cells[i].input_prompt_number == nbb_cell_id) {\n",
       "                        if (nbb_cells[i].get_text() == nbb_unformatted_code) {\n",
       "                             nbb_cells[i].set_text(nbb_formatted_code);\n",
       "                        }\n",
       "                        break;\n",
       "                    }\n",
       "                }\n",
       "            }, 500);\n",
       "            "
      ],
      "text/plain": [
       "<IPython.core.display.Javascript object>"
      ]
     },
     "metadata": {},
     "output_type": "display_data"
    }
   ],
   "source": [
    "df_2019_grade_12_school_course.groupby([\"STUDENTID\", \"PRESENCE_STATUS_CD\"])[\n",
    "    \"PRESENCE_STATUS_CD\"\n",
    "].count().unstack()"
   ]
  },
  {
   "cell_type": "code",
   "execution_count": 23,
   "id": "ccc63ef1",
   "metadata": {},
   "outputs": [
    {
     "data": {
      "application/javascript": [
       "\n",
       "            setTimeout(function() {\n",
       "                var nbb_cell_id = 23;\n",
       "                var nbb_unformatted_code = \"# df_2019_grade_12_school_course.groupby([\\\"STUDENTID\\\", \\\"PRESENCE_STATUS_CD\\\"])[\\n#     \\\"PRESENCE_STATUS_CD\\\"\\n# ].count().unstack().plot(kind=\\\"scatter\\\")\";\n",
       "                var nbb_formatted_code = \"# df_2019_grade_12_school_course.groupby([\\\"STUDENTID\\\", \\\"PRESENCE_STATUS_CD\\\"])[\\n#     \\\"PRESENCE_STATUS_CD\\\"\\n# ].count().unstack().plot(kind=\\\"scatter\\\")\";\n",
       "                var nbb_cells = Jupyter.notebook.get_cells();\n",
       "                for (var i = 0; i < nbb_cells.length; ++i) {\n",
       "                    if (nbb_cells[i].input_prompt_number == nbb_cell_id) {\n",
       "                        if (nbb_cells[i].get_text() == nbb_unformatted_code) {\n",
       "                             nbb_cells[i].set_text(nbb_formatted_code);\n",
       "                        }\n",
       "                        break;\n",
       "                    }\n",
       "                }\n",
       "            }, 500);\n",
       "            "
      ],
      "text/plain": [
       "<IPython.core.display.Javascript object>"
      ]
     },
     "metadata": {},
     "output_type": "display_data"
    }
   ],
   "source": [
    "# df_2019_grade_12_school_course.groupby([\"STUDENTID\", \"PRESENCE_STATUS_CD\"])[\n",
    "#     \"PRESENCE_STATUS_CD\"\n",
    "# ].count().unstack().plot(kind=\"scatter\")"
   ]
  },
  {
   "cell_type": "code",
   "execution_count": 26,
   "id": "602c4e26",
   "metadata": {},
   "outputs": [
    {
     "data": {
      "application/javascript": [
       "\n",
       "            setTimeout(function() {\n",
       "                var nbb_cell_id = 26;\n",
       "                var nbb_unformatted_code = \"# df_2019_grade_12_school_course.groupby([\\\"STUDENTID\\\", \\\"PRESENCE_STATUS_CD\\\"])[\\n#     \\\"PRESENCE_STATUS_CD\\\"\\n# ].count().unstack()[\\\"Absent\\\"].plot(kind=\\\"scatter\\\")\";\n",
       "                var nbb_formatted_code = \"# df_2019_grade_12_school_course.groupby([\\\"STUDENTID\\\", \\\"PRESENCE_STATUS_CD\\\"])[\\n#     \\\"PRESENCE_STATUS_CD\\\"\\n# ].count().unstack()[\\\"Absent\\\"].plot(kind=\\\"scatter\\\")\";\n",
       "                var nbb_cells = Jupyter.notebook.get_cells();\n",
       "                for (var i = 0; i < nbb_cells.length; ++i) {\n",
       "                    if (nbb_cells[i].input_prompt_number == nbb_cell_id) {\n",
       "                        if (nbb_cells[i].get_text() == nbb_unformatted_code) {\n",
       "                             nbb_cells[i].set_text(nbb_formatted_code);\n",
       "                        }\n",
       "                        break;\n",
       "                    }\n",
       "                }\n",
       "            }, 500);\n",
       "            "
      ],
      "text/plain": [
       "<IPython.core.display.Javascript object>"
      ]
     },
     "metadata": {},
     "output_type": "display_data"
    }
   ],
   "source": [
    "# df_2019_grade_12_school_course.groupby([\"STUDENTID\", \"PRESENCE_STATUS_CD\"])[\n",
    "#     \"PRESENCE_STATUS_CD\"\n",
    "# ].count().unstack()[\"Absent\"].plot(kind=\"scatter\")"
   ]
  },
  {
   "cell_type": "code",
   "execution_count": 25,
   "id": "9ea3aa99",
   "metadata": {},
   "outputs": [
    {
     "data": {
      "text/plain": [
       "<AxesSubplot:>"
      ]
     },
     "execution_count": 25,
     "metadata": {},
     "output_type": "execute_result"
    },
    {
     "data": {
      "image/png": "[encoded data removed]",
      "text/plain": [
       "<Figure size 432x288 with 1 Axes>"
      ]
     },
     "metadata": {},
     "output_type": "display_data"
    },
    {
     "data": {
      "application/javascript": [
       "\n",
       "            setTimeout(function() {\n",
       "                var nbb_cell_id = 25;\n",
       "                var nbb_unformatted_code = \"df_2019_grade_12_school_course.groupby([\\\"STUDENTID\\\", \\\"PRESENCE_STATUS_CD\\\"])[\\n    \\\"PRESENCE_STATUS_CD\\\"\\n].count().unstack()[\\\"Absent\\\"].plot(kind=\\\"box\\\")\";\n",
       "                var nbb_formatted_code = \"df_2019_grade_12_school_course.groupby([\\\"STUDENTID\\\", \\\"PRESENCE_STATUS_CD\\\"])[\\n    \\\"PRESENCE_STATUS_CD\\\"\\n].count().unstack()[\\\"Absent\\\"].plot(kind=\\\"box\\\")\";\n",
       "                var nbb_cells = Jupyter.notebook.get_cells();\n",
       "                for (var i = 0; i < nbb_cells.length; ++i) {\n",
       "                    if (nbb_cells[i].input_prompt_number == nbb_cell_id) {\n",
       "                        if (nbb_cells[i].get_text() == nbb_unformatted_code) {\n",
       "                             nbb_cells[i].set_text(nbb_formatted_code);\n",
       "                        }\n",
       "                        break;\n",
       "                    }\n",
       "                }\n",
       "            }, 500);\n",
       "            "
      ],
      "text/plain": [
       "<IPython.core.display.Javascript object>"
      ]
     },
     "metadata": {},
     "output_type": "display_data"
    }
   ],
   "source": [
    "df_2019_grade_12_school_course.groupby([\"STUDENTID\", \"PRESENCE_STATUS_CD\"])[\n",
    "    \"PRESENCE_STATUS_CD\"\n",
    "].count().unstack()[\"Absent\"].plot(kind=\"box\")"
   ]
  },
  {
   "cell_type": "code",
   "execution_count": null,
   "id": "00856dd1",
   "metadata": {},
   "outputs": [],
   "source": []
  },
  {
   "cell_type": "code",
   "execution_count": null,
   "id": "d8a4fa14",
   "metadata": {},
   "outputs": [],
   "source": []
  }
 ],
 "metadata": {
  "kernelspec": {
   "display_name": "Python 3 (ipykernel)",
   "language": "python",
   "name": "python3"
  },
  "language_info": {
   "codemirror_mode": {
    "name": "ipython",
    "version": 3
   },
   "file_extension": ".py",
   "mimetype": "text/x-python",
   "name": "python",
   "nbconvert_exporter": "python",
   "pygments_lexer": "ipython3",
   "version": "3.9.7"
  }
 },
 "nbformat": 4,
 "nbformat_minor": 5
}
