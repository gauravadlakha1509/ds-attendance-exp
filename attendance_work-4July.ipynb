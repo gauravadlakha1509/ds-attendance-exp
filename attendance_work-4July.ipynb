{
 "cells": [
  {
   "cell_type": "code",
   "execution_count": 1,
   "id": "cda34302",
   "metadata": {},
   "outputs": [
    {
     "data": {
      "application/javascript": [
       "\n",
       "            setTimeout(function() {\n",
       "                var nbb_cell_id = 1;\n",
       "                var nbb_unformatted_code = \"%load_ext nb_black\";\n",
       "                var nbb_formatted_code = \"%load_ext nb_black\";\n",
       "                var nbb_cells = Jupyter.notebook.get_cells();\n",
       "                for (var i = 0; i < nbb_cells.length; ++i) {\n",
       "                    if (nbb_cells[i].input_prompt_number == nbb_cell_id) {\n",
       "                        if (nbb_cells[i].get_text() == nbb_unformatted_code) {\n",
       "                             nbb_cells[i].set_text(nbb_formatted_code);\n",
       "                        }\n",
       "                        break;\n",
       "                    }\n",
       "                }\n",
       "            }, 500);\n",
       "            "
      ],
      "text/plain": [
       "<IPython.core.display.Javascript object>"
      ]
     },
     "metadata": {},
     "output_type": "display_data"
    }
   ],
   "source": [
    "%load_ext nb_black"
   ]
  },
  {
   "cell_type": "code",
   "execution_count": 2,
   "id": "3cb676ee",
   "metadata": {},
   "outputs": [
    {
     "data": {
      "application/javascript": [
       "\n",
       "            setTimeout(function() {\n",
       "                var nbb_cell_id = 2;\n",
       "                var nbb_unformatted_code = \"import pandas as pd\\nimport numpy as np\\nfrom fastai.tabular.core import *\\nfrom fastai.data.transforms import *\\nfrom fastcore.all import *\\nimport seaborn as sns\\nimport matplotlib.pyplot as plt\";\n",
       "                var nbb_formatted_code = \"import pandas as pd\\nimport numpy as np\\nfrom fastai.tabular.core import *\\nfrom fastai.data.transforms import *\\nfrom fastcore.all import *\\nimport seaborn as sns\\nimport matplotlib.pyplot as plt\";\n",
       "                var nbb_cells = Jupyter.notebook.get_cells();\n",
       "                for (var i = 0; i < nbb_cells.length; ++i) {\n",
       "                    if (nbb_cells[i].input_prompt_number == nbb_cell_id) {\n",
       "                        if (nbb_cells[i].get_text() == nbb_unformatted_code) {\n",
       "                             nbb_cells[i].set_text(nbb_formatted_code);\n",
       "                        }\n",
       "                        break;\n",
       "                    }\n",
       "                }\n",
       "            }, 500);\n",
       "            "
      ],
      "text/plain": [
       "<IPython.core.display.Javascript object>"
      ]
     },
     "metadata": {},
     "output_type": "display_data"
    }
   ],
   "source": [
    "import pandas as pd\n",
    "import numpy as np\n",
    "from fastai.tabular.core import *\n",
    "from fastai.data.transforms import *\n",
    "from fastcore.all import *\n",
    "import seaborn as sns\n",
    "import matplotlib.pyplot as plt"
   ]
  },
  {
   "cell_type": "code",
   "execution_count": 42,
   "id": "d30036ae",
   "metadata": {},
   "outputs": [
    {
     "data": {
      "application/javascript": [
       "\n",
       "            setTimeout(function() {\n",
       "                var nbb_cell_id = 42;\n",
       "                var nbb_unformatted_code = \"%matplotlib inline\\n# import plotly as py\\n# import plotly.tools as tls\\n# import matplotlib.pyplot as plt\\n\\n# py.offline.init_notebook_mode(connected=True)\\n# from plotly.offline import iplot\\n\\n# pd.options.plotting.backend = \\\"plotly\\\"\\n\\nimport seaborn as sns\\nimport matplotlib.pyplot as plt\\n\\n## initial viz settings ##\\nsns.set(font_scale=1.2)\\ncol = \\\"#3B1C8C\\\"\\ncm = \\\"viridis\\\"\";\n",
       "                var nbb_formatted_code = \"%matplotlib inline\\n# import plotly as py\\n# import plotly.tools as tls\\n# import matplotlib.pyplot as plt\\n\\n# py.offline.init_notebook_mode(connected=True)\\n# from plotly.offline import iplot\\n\\n# pd.options.plotting.backend = \\\"plotly\\\"\\n\\nimport seaborn as sns\\nimport matplotlib.pyplot as plt\\n\\n## initial viz settings ##\\nsns.set(font_scale=1.2)\\ncol = \\\"#3B1C8C\\\"\\ncm = \\\"viridis\\\"\";\n",
       "                var nbb_cells = Jupyter.notebook.get_cells();\n",
       "                for (var i = 0; i < nbb_cells.length; ++i) {\n",
       "                    if (nbb_cells[i].input_prompt_number == nbb_cell_id) {\n",
       "                        if (nbb_cells[i].get_text() == nbb_unformatted_code) {\n",
       "                             nbb_cells[i].set_text(nbb_formatted_code);\n",
       "                        }\n",
       "                        break;\n",
       "                    }\n",
       "                }\n",
       "            }, 500);\n",
       "            "
      ],
      "text/plain": [
       "<IPython.core.display.Javascript object>"
      ]
     },
     "metadata": {},
     "output_type": "display_data"
    }
   ],
   "source": [
    "%matplotlib inline\n",
    "# import plotly as py\n",
    "# import plotly.tools as tls\n",
    "# import matplotlib.pyplot as plt\n",
    "\n",
    "# py.offline.init_notebook_mode(connected=True)\n",
    "# from plotly.offline import iplot\n",
    "\n",
    "# pd.options.plotting.backend = \"plotly\"\n",
    "\n",
    "import seaborn as sns\n",
    "import matplotlib.pyplot as plt\n",
    "\n",
    "## initial viz settings ##\n",
    "sns.set(font_scale=1.2)\n",
    "col = \"#3B1C8C\"\n",
    "cm = \"viridis\""
   ]
  },
  {
   "cell_type": "code",
   "execution_count": 4,
   "id": "ef022a65",
   "metadata": {},
   "outputs": [
    {
     "data": {
      "application/javascript": [
       "\n",
       "            setTimeout(function() {\n",
       "                var nbb_cell_id = 4;\n",
       "                var nbb_unformatted_code = \"path = Path(\\n    \\\"/Users/gaurav.adlakha/Documents/attendance_s3_date/meetingattendance/attendance_meeting_append_data.csv\\\"\\n)\";\n",
       "                var nbb_formatted_code = \"path = Path(\\n    \\\"/Users/gaurav.adlakha/Documents/attendance_s3_date/meetingattendance/attendance_meeting_append_data.csv\\\"\\n)\";\n",
       "                var nbb_cells = Jupyter.notebook.get_cells();\n",
       "                for (var i = 0; i < nbb_cells.length; ++i) {\n",
       "                    if (nbb_cells[i].input_prompt_number == nbb_cell_id) {\n",
       "                        if (nbb_cells[i].get_text() == nbb_unformatted_code) {\n",
       "                             nbb_cells[i].set_text(nbb_formatted_code);\n",
       "                        }\n",
       "                        break;\n",
       "                    }\n",
       "                }\n",
       "            }, 500);\n",
       "            "
      ],
      "text/plain": [
       "<IPython.core.display.Javascript object>"
      ]
     },
     "metadata": {},
     "output_type": "display_data"
    }
   ],
   "source": [
    "path = Path(\n",
    "    \"/Users/gaurav.adlakha/Documents/attendance_s3_date/meetingattendance/attendance_meeting_append_data.csv\"\n",
    ")"
   ]
  },
  {
   "cell_type": "code",
   "execution_count": 5,
   "id": "859e4620",
   "metadata": {},
   "outputs": [
    {
     "name": "stderr",
     "output_type": "stream",
     "text": [
      "<timed exec>:1: DtypeWarning: Columns (13) have mixed types. Specify dtype option on import or set low_memory=False.\n"
     ]
    },
    {
     "name": "stdout",
     "output_type": "stream",
     "text": [
      "CPU times: user 47.8 s, sys: 17.7 s, total: 1min 5s\n",
      "Wall time: 1min 9s\n"
     ]
    },
    {
     "data": {
      "application/javascript": [
       "\n",
       "            setTimeout(function() {\n",
       "                var nbb_cell_id = 5;\n",
       "                var nbb_unformatted_code = \"%%time\\ndf = pd.read_csv(path)\";\n",
       "                var nbb_formatted_code = \"%%time\\ndf = pd.read_csv(path)\";\n",
       "                var nbb_cells = Jupyter.notebook.get_cells();\n",
       "                for (var i = 0; i < nbb_cells.length; ++i) {\n",
       "                    if (nbb_cells[i].input_prompt_number == nbb_cell_id) {\n",
       "                        if (nbb_cells[i].get_text() == nbb_unformatted_code) {\n",
       "                             nbb_cells[i].set_text(nbb_formatted_code);\n",
       "                        }\n",
       "                        break;\n",
       "                    }\n",
       "                }\n",
       "            }, 500);\n",
       "            "
      ],
      "text/plain": [
       "<IPython.core.display.Javascript object>"
      ]
     },
     "metadata": {},
     "output_type": "display_data"
    }
   ],
   "source": [
    "%%time\n",
    "df = pd.read_csv(path)"
   ]
  },
  {
   "cell_type": "code",
   "execution_count": 6,
   "id": "3c860fde",
   "metadata": {},
   "outputs": [
    {
     "data": {
      "text/plain": [
       "23035206"
      ]
     },
     "execution_count": 6,
     "metadata": {},
     "output_type": "execute_result"
    },
    {
     "data": {
      "application/javascript": [
       "\n",
       "            setTimeout(function() {\n",
       "                var nbb_cell_id = 6;\n",
       "                var nbb_unformatted_code = \"len(df)\";\n",
       "                var nbb_formatted_code = \"len(df)\";\n",
       "                var nbb_cells = Jupyter.notebook.get_cells();\n",
       "                for (var i = 0; i < nbb_cells.length; ++i) {\n",
       "                    if (nbb_cells[i].input_prompt_number == nbb_cell_id) {\n",
       "                        if (nbb_cells[i].get_text() == nbb_unformatted_code) {\n",
       "                             nbb_cells[i].set_text(nbb_formatted_code);\n",
       "                        }\n",
       "                        break;\n",
       "                    }\n",
       "                }\n",
       "            }, 500);\n",
       "            "
      ],
      "text/plain": [
       "<IPython.core.display.Javascript object>"
      ]
     },
     "metadata": {},
     "output_type": "display_data"
    }
   ],
   "source": [
    "len(df)"
   ]
  },
  {
   "cell_type": "code",
   "execution_count": 7,
   "id": "076b1c99",
   "metadata": {},
   "outputs": [
    {
     "name": "stdout",
     "output_type": "stream",
     "text": [
      "CPU times: user 20.8 s, sys: 12 s, total: 32.8 s\n",
      "Wall time: 34.2 s\n"
     ]
    },
    {
     "data": {
      "text/html": [
       "<div>\n",
       "<style scoped>\n",
       "    .dataframe tbody tr th:only-of-type {\n",
       "        vertical-align: middle;\n",
       "    }\n",
       "\n",
       "    .dataframe tbody tr th {\n",
       "        vertical-align: top;\n",
       "    }\n",
       "\n",
       "    .dataframe thead th {\n",
       "        text-align: right;\n",
       "    }\n",
       "</style>\n",
       "<table border=\"1\" class=\"dataframe\">\n",
       "  <thead>\n",
       "    <tr style=\"text-align: right;\">\n",
       "      <th></th>\n",
       "      <th>Unnamed: 0</th>\n",
       "      <th>SCHOOLYEAR</th>\n",
       "      <th>PRESENCE_STATUS_CD</th>\n",
       "      <th>GRADE_LEVEL</th>\n",
       "      <th>COURSE_NAME</th>\n",
       "      <th>SCHOOLDCID</th>\n",
       "      <th>STUDENTID</th>\n",
       "      <th>LASTFIRST</th>\n",
       "      <th>SCHOOLID</th>\n",
       "      <th>STUDENTDCID</th>\n",
       "      <th>...</th>\n",
       "      <th>ATTENDANCEDATEDay</th>\n",
       "      <th>ATTENDANCEDATEDayofweek</th>\n",
       "      <th>ATTENDANCEDATEDayofyear</th>\n",
       "      <th>ATTENDANCEDATEIs_month_end</th>\n",
       "      <th>ATTENDANCEDATEIs_month_start</th>\n",
       "      <th>ATTENDANCEDATEIs_quarter_end</th>\n",
       "      <th>ATTENDANCEDATEIs_quarter_start</th>\n",
       "      <th>ATTENDANCEDATEIs_year_end</th>\n",
       "      <th>ATTENDANCEDATEIs_year_start</th>\n",
       "      <th>ATTENDANCEDATEElapsed</th>\n",
       "    </tr>\n",
       "  </thead>\n",
       "  <tbody>\n",
       "    <tr>\n",
       "      <th>0</th>\n",
       "      <td>0</td>\n",
       "      <td>2017</td>\n",
       "      <td>Absent</td>\n",
       "      <td>11</td>\n",
       "      <td>CR American History II</td>\n",
       "      <td>4710</td>\n",
       "      <td>73254</td>\n",
       "      <td>Haddock, Dominyk Haylei</td>\n",
       "      <td>260408</td>\n",
       "      <td>73254</td>\n",
       "      <td>...</td>\n",
       "      <td>14</td>\n",
       "      <td>0</td>\n",
       "      <td>134</td>\n",
       "      <td>False</td>\n",
       "      <td>False</td>\n",
       "      <td>False</td>\n",
       "      <td>False</td>\n",
       "      <td>False</td>\n",
       "      <td>False</td>\n",
       "      <td>1.526256e+09</td>\n",
       "    </tr>\n",
       "    <tr>\n",
       "      <th>1</th>\n",
       "      <td>1</td>\n",
       "      <td>2017</td>\n",
       "      <td>Absent</td>\n",
       "      <td>11</td>\n",
       "      <td>Library/Media Assist</td>\n",
       "      <td>4710</td>\n",
       "      <td>87498</td>\n",
       "      <td>Burden Rozier, Tyanna Chrissy</td>\n",
       "      <td>260408</td>\n",
       "      <td>87498</td>\n",
       "      <td>...</td>\n",
       "      <td>17</td>\n",
       "      <td>3</td>\n",
       "      <td>137</td>\n",
       "      <td>False</td>\n",
       "      <td>False</td>\n",
       "      <td>False</td>\n",
       "      <td>False</td>\n",
       "      <td>False</td>\n",
       "      <td>False</td>\n",
       "      <td>1.526515e+09</td>\n",
       "    </tr>\n",
       "    <tr>\n",
       "      <th>2</th>\n",
       "      <td>2</td>\n",
       "      <td>2017</td>\n",
       "      <td>Absent</td>\n",
       "      <td>9</td>\n",
       "      <td>Principles of Business &amp; Finance</td>\n",
       "      <td>4710</td>\n",
       "      <td>94998</td>\n",
       "      <td>Royall, Kyson Catrina</td>\n",
       "      <td>260408</td>\n",
       "      <td>94998</td>\n",
       "      <td>...</td>\n",
       "      <td>22</td>\n",
       "      <td>1</td>\n",
       "      <td>142</td>\n",
       "      <td>False</td>\n",
       "      <td>False</td>\n",
       "      <td>False</td>\n",
       "      <td>False</td>\n",
       "      <td>False</td>\n",
       "      <td>False</td>\n",
       "      <td>1.526947e+09</td>\n",
       "    </tr>\n",
       "    <tr>\n",
       "      <th>3</th>\n",
       "      <td>3</td>\n",
       "      <td>2017</td>\n",
       "      <td>Absent</td>\n",
       "      <td>9</td>\n",
       "      <td>Visual Arts (Beginning)</td>\n",
       "      <td>4710</td>\n",
       "      <td>141790</td>\n",
       "      <td>Heyse, Gordon Kamaury</td>\n",
       "      <td>260408</td>\n",
       "      <td>660949</td>\n",
       "      <td>...</td>\n",
       "      <td>15</td>\n",
       "      <td>1</td>\n",
       "      <td>135</td>\n",
       "      <td>False</td>\n",
       "      <td>False</td>\n",
       "      <td>False</td>\n",
       "      <td>False</td>\n",
       "      <td>False</td>\n",
       "      <td>False</td>\n",
       "      <td>1.526342e+09</td>\n",
       "    </tr>\n",
       "    <tr>\n",
       "      <th>4</th>\n",
       "      <td>4</td>\n",
       "      <td>2017</td>\n",
       "      <td>Present</td>\n",
       "      <td>12</td>\n",
       "      <td>Visual Arts (Intermediate)</td>\n",
       "      <td>4710</td>\n",
       "      <td>114606</td>\n",
       "      <td>Okeke, Nakya Janya</td>\n",
       "      <td>260408</td>\n",
       "      <td>639214</td>\n",
       "      <td>...</td>\n",
       "      <td>15</td>\n",
       "      <td>1</td>\n",
       "      <td>135</td>\n",
       "      <td>False</td>\n",
       "      <td>False</td>\n",
       "      <td>False</td>\n",
       "      <td>False</td>\n",
       "      <td>False</td>\n",
       "      <td>False</td>\n",
       "      <td>1.526342e+09</td>\n",
       "    </tr>\n",
       "    <tr>\n",
       "      <th>...</th>\n",
       "      <td>...</td>\n",
       "      <td>...</td>\n",
       "      <td>...</td>\n",
       "      <td>...</td>\n",
       "      <td>...</td>\n",
       "      <td>...</td>\n",
       "      <td>...</td>\n",
       "      <td>...</td>\n",
       "      <td>...</td>\n",
       "      <td>...</td>\n",
       "      <td>...</td>\n",
       "      <td>...</td>\n",
       "      <td>...</td>\n",
       "      <td>...</td>\n",
       "      <td>...</td>\n",
       "      <td>...</td>\n",
       "      <td>...</td>\n",
       "      <td>...</td>\n",
       "      <td>...</td>\n",
       "      <td>...</td>\n",
       "      <td>...</td>\n",
       "    </tr>\n",
       "    <tr>\n",
       "      <th>23035201</th>\n",
       "      <td>78295</td>\n",
       "      <td>2020</td>\n",
       "      <td>Present</td>\n",
       "      <td>9</td>\n",
       "      <td>Microsoft Word and PowerPoint</td>\n",
       "      <td>4710</td>\n",
       "      <td>131119</td>\n",
       "      <td>Couch, Dennys Keirsten</td>\n",
       "      <td>260408</td>\n",
       "      <td>651545</td>\n",
       "      <td>...</td>\n",
       "      <td>19</td>\n",
       "      <td>0</td>\n",
       "      <td>293</td>\n",
       "      <td>False</td>\n",
       "      <td>False</td>\n",
       "      <td>False</td>\n",
       "      <td>False</td>\n",
       "      <td>False</td>\n",
       "      <td>False</td>\n",
       "      <td>1.603066e+09</td>\n",
       "    </tr>\n",
       "    <tr>\n",
       "      <th>23035202</th>\n",
       "      <td>78296</td>\n",
       "      <td>2020</td>\n",
       "      <td>Present</td>\n",
       "      <td>9</td>\n",
       "      <td>Microsoft Word and PowerPoint</td>\n",
       "      <td>4710</td>\n",
       "      <td>241483</td>\n",
       "      <td>Huston, Isreal Allie</td>\n",
       "      <td>260408</td>\n",
       "      <td>749972</td>\n",
       "      <td>...</td>\n",
       "      <td>19</td>\n",
       "      <td>0</td>\n",
       "      <td>293</td>\n",
       "      <td>False</td>\n",
       "      <td>False</td>\n",
       "      <td>False</td>\n",
       "      <td>False</td>\n",
       "      <td>False</td>\n",
       "      <td>False</td>\n",
       "      <td>1.603066e+09</td>\n",
       "    </tr>\n",
       "    <tr>\n",
       "      <th>23035203</th>\n",
       "      <td>78297</td>\n",
       "      <td>2020</td>\n",
       "      <td>Present</td>\n",
       "      <td>10</td>\n",
       "      <td>Microsoft Word and PowerPoint</td>\n",
       "      <td>4710</td>\n",
       "      <td>164733</td>\n",
       "      <td>Weisner, Ellyana Yadrian</td>\n",
       "      <td>260408</td>\n",
       "      <td>680476</td>\n",
       "      <td>...</td>\n",
       "      <td>19</td>\n",
       "      <td>0</td>\n",
       "      <td>293</td>\n",
       "      <td>False</td>\n",
       "      <td>False</td>\n",
       "      <td>False</td>\n",
       "      <td>False</td>\n",
       "      <td>False</td>\n",
       "      <td>False</td>\n",
       "      <td>1.603066e+09</td>\n",
       "    </tr>\n",
       "    <tr>\n",
       "      <th>23035204</th>\n",
       "      <td>78298</td>\n",
       "      <td>2020</td>\n",
       "      <td>Present</td>\n",
       "      <td>10</td>\n",
       "      <td>Microsoft Word and PowerPoint</td>\n",
       "      <td>4710</td>\n",
       "      <td>79595</td>\n",
       "      <td>Moellmer, Duron Sheyla</td>\n",
       "      <td>260408</td>\n",
       "      <td>79595</td>\n",
       "      <td>...</td>\n",
       "      <td>19</td>\n",
       "      <td>0</td>\n",
       "      <td>293</td>\n",
       "      <td>False</td>\n",
       "      <td>False</td>\n",
       "      <td>False</td>\n",
       "      <td>False</td>\n",
       "      <td>False</td>\n",
       "      <td>False</td>\n",
       "      <td>1.603066e+09</td>\n",
       "    </tr>\n",
       "    <tr>\n",
       "      <th>23035205</th>\n",
       "      <td>78299</td>\n",
       "      <td>2020</td>\n",
       "      <td>Absent</td>\n",
       "      <td>9</td>\n",
       "      <td>Band (Intermediate) Fall</td>\n",
       "      <td>4710</td>\n",
       "      <td>108000</td>\n",
       "      <td>Zoquier, I'Mani Alonso</td>\n",
       "      <td>260408</td>\n",
       "      <td>108000</td>\n",
       "      <td>...</td>\n",
       "      <td>20</td>\n",
       "      <td>1</td>\n",
       "      <td>294</td>\n",
       "      <td>False</td>\n",
       "      <td>False</td>\n",
       "      <td>False</td>\n",
       "      <td>False</td>\n",
       "      <td>False</td>\n",
       "      <td>False</td>\n",
       "      <td>1.603152e+09</td>\n",
       "    </tr>\n",
       "  </tbody>\n",
       "</table>\n",
       "<p>23035206 rows × 39 columns</p>\n",
       "</div>"
      ],
      "text/plain": [
       "          Unnamed: 0  SCHOOLYEAR PRESENCE_STATUS_CD  GRADE_LEVEL  \\\n",
       "0                  0        2017             Absent           11   \n",
       "1                  1        2017             Absent           11   \n",
       "2                  2        2017             Absent            9   \n",
       "3                  3        2017             Absent            9   \n",
       "4                  4        2017            Present           12   \n",
       "...              ...         ...                ...          ...   \n",
       "23035201       78295        2020            Present            9   \n",
       "23035202       78296        2020            Present            9   \n",
       "23035203       78297        2020            Present           10   \n",
       "23035204       78298        2020            Present           10   \n",
       "23035205       78299        2020             Absent            9   \n",
       "\n",
       "                               COURSE_NAME  SCHOOLDCID  STUDENTID  \\\n",
       "0                   CR American History II        4710      73254   \n",
       "1                     Library/Media Assist        4710      87498   \n",
       "2         Principles of Business & Finance        4710      94998   \n",
       "3                  Visual Arts (Beginning)        4710     141790   \n",
       "4               Visual Arts (Intermediate)        4710     114606   \n",
       "...                                    ...         ...        ...   \n",
       "23035201    Microsoft Word and PowerPoint         4710     131119   \n",
       "23035202    Microsoft Word and PowerPoint         4710     241483   \n",
       "23035203    Microsoft Word and PowerPoint         4710     164733   \n",
       "23035204     Microsoft Word and PowerPoint        4710      79595   \n",
       "23035205          Band (Intermediate) Fall        4710     108000   \n",
       "\n",
       "                              LASTFIRST  SCHOOLID  STUDENTDCID  ...  \\\n",
       "0               Haddock, Dominyk Haylei    260408        73254  ...   \n",
       "1         Burden Rozier, Tyanna Chrissy    260408        87498  ...   \n",
       "2                 Royall, Kyson Catrina    260408        94998  ...   \n",
       "3                 Heyse, Gordon Kamaury    260408       660949  ...   \n",
       "4                    Okeke, Nakya Janya    260408       639214  ...   \n",
       "...                                 ...       ...          ...  ...   \n",
       "23035201         Couch, Dennys Keirsten    260408       651545  ...   \n",
       "23035202           Huston, Isreal Allie    260408       749972  ...   \n",
       "23035203       Weisner, Ellyana Yadrian    260408       680476  ...   \n",
       "23035204         Moellmer, Duron Sheyla    260408        79595  ...   \n",
       "23035205         Zoquier, I'Mani Alonso    260408       108000  ...   \n",
       "\n",
       "          ATTENDANCEDATEDay  ATTENDANCEDATEDayofweek  ATTENDANCEDATEDayofyear  \\\n",
       "0                        14                        0                      134   \n",
       "1                        17                        3                      137   \n",
       "2                        22                        1                      142   \n",
       "3                        15                        1                      135   \n",
       "4                        15                        1                      135   \n",
       "...                     ...                      ...                      ...   \n",
       "23035201                 19                        0                      293   \n",
       "23035202                 19                        0                      293   \n",
       "23035203                 19                        0                      293   \n",
       "23035204                 19                        0                      293   \n",
       "23035205                 20                        1                      294   \n",
       "\n",
       "         ATTENDANCEDATEIs_month_end  ATTENDANCEDATEIs_month_start  \\\n",
       "0                             False                         False   \n",
       "1                             False                         False   \n",
       "2                             False                         False   \n",
       "3                             False                         False   \n",
       "4                             False                         False   \n",
       "...                             ...                           ...   \n",
       "23035201                      False                         False   \n",
       "23035202                      False                         False   \n",
       "23035203                      False                         False   \n",
       "23035204                      False                         False   \n",
       "23035205                      False                         False   \n",
       "\n",
       "          ATTENDANCEDATEIs_quarter_end ATTENDANCEDATEIs_quarter_start  \\\n",
       "0                                False                          False   \n",
       "1                                False                          False   \n",
       "2                                False                          False   \n",
       "3                                False                          False   \n",
       "4                                False                          False   \n",
       "...                                ...                            ...   \n",
       "23035201                         False                          False   \n",
       "23035202                         False                          False   \n",
       "23035203                         False                          False   \n",
       "23035204                         False                          False   \n",
       "23035205                         False                          False   \n",
       "\n",
       "          ATTENDANCEDATEIs_year_end ATTENDANCEDATEIs_year_start  \\\n",
       "0                             False                       False   \n",
       "1                             False                       False   \n",
       "2                             False                       False   \n",
       "3                             False                       False   \n",
       "4                             False                       False   \n",
       "...                             ...                         ...   \n",
       "23035201                      False                       False   \n",
       "23035202                      False                       False   \n",
       "23035203                      False                       False   \n",
       "23035204                      False                       False   \n",
       "23035205                      False                       False   \n",
       "\n",
       "         ATTENDANCEDATEElapsed  \n",
       "0                 1.526256e+09  \n",
       "1                 1.526515e+09  \n",
       "2                 1.526947e+09  \n",
       "3                 1.526342e+09  \n",
       "4                 1.526342e+09  \n",
       "...                        ...  \n",
       "23035201          1.603066e+09  \n",
       "23035202          1.603066e+09  \n",
       "23035203          1.603066e+09  \n",
       "23035204          1.603066e+09  \n",
       "23035205          1.603152e+09  \n",
       "\n",
       "[23035206 rows x 39 columns]"
      ]
     },
     "execution_count": 7,
     "metadata": {},
     "output_type": "execute_result"
    },
    {
     "data": {
      "application/javascript": [
       "\n",
       "            setTimeout(function() {\n",
       "                var nbb_cell_id = 7;\n",
       "                var nbb_unformatted_code = \"%%time\\n# df = pd.read_csv(path)\\nmake_date(df, \\\"ATTENDANCEDATE\\\")\\nadd_datepart(df, \\\"ATTENDANCEDATE\\\")\";\n",
       "                var nbb_formatted_code = \"%%time\\n# df = pd.read_csv(path)\\nmake_date(df, \\\"ATTENDANCEDATE\\\")\\nadd_datepart(df, \\\"ATTENDANCEDATE\\\")\";\n",
       "                var nbb_cells = Jupyter.notebook.get_cells();\n",
       "                for (var i = 0; i < nbb_cells.length; ++i) {\n",
       "                    if (nbb_cells[i].input_prompt_number == nbb_cell_id) {\n",
       "                        if (nbb_cells[i].get_text() == nbb_unformatted_code) {\n",
       "                             nbb_cells[i].set_text(nbb_formatted_code);\n",
       "                        }\n",
       "                        break;\n",
       "                    }\n",
       "                }\n",
       "            }, 500);\n",
       "            "
      ],
      "text/plain": [
       "<IPython.core.display.Javascript object>"
      ]
     },
     "metadata": {},
     "output_type": "display_data"
    }
   ],
   "source": [
    "%%time\n",
    "# df = pd.read_csv(path)\n",
    "make_date(df, \"ATTENDANCEDATE\")\n",
    "add_datepart(df, \"ATTENDANCEDATE\")"
   ]
  },
  {
   "cell_type": "code",
   "execution_count": 8,
   "id": "7d786d4c",
   "metadata": {},
   "outputs": [
    {
     "data": {
      "text/plain": [
       "['Unnamed: 0',\n",
       " 'SCHOOLYEAR',\n",
       " 'PRESENCE_STATUS_CD',\n",
       " 'GRADE_LEVEL',\n",
       " 'COURSE_NAME',\n",
       " 'SCHOOLDCID',\n",
       " 'STUDENTID',\n",
       " 'LASTFIRST',\n",
       " 'SCHOOLID',\n",
       " 'STUDENTDCID',\n",
       " 'SECTIONENROLLMENTDCID',\n",
       " 'CALENDARDCID',\n",
       " 'PERIODDCID',\n",
       " 'PERIODNAME',\n",
       " 'ATTENDANCECODEDCID',\n",
       " 'SCHEDULINGTERMYEARDCID',\n",
       " 'ATTENDANCEMODECODE',\n",
       " 'TOTALMINUTESATTENDED',\n",
       " 'ATTENDANCECOMMENT',\n",
       " 'ATTENDANCE_CODE_DESCRIPTION',\n",
       " 'ADAVALUECODE',\n",
       " 'ADAVALUETIME',\n",
       " 'ADMVALUE',\n",
       " 'ATTENDANCEFLAGS',\n",
       " 'SOURCESYSTEMID',\n",
       " 'ATTENDANCEMODEFLAG',\n",
       " 'ATTENDANCEDATEYear',\n",
       " 'ATTENDANCEDATEMonth',\n",
       " 'ATTENDANCEDATEWeek',\n",
       " 'ATTENDANCEDATEDay',\n",
       " 'ATTENDANCEDATEDayofweek',\n",
       " 'ATTENDANCEDATEDayofyear',\n",
       " 'ATTENDANCEDATEIs_month_end',\n",
       " 'ATTENDANCEDATEIs_month_start',\n",
       " 'ATTENDANCEDATEIs_quarter_end',\n",
       " 'ATTENDANCEDATEIs_quarter_start',\n",
       " 'ATTENDANCEDATEIs_year_end',\n",
       " 'ATTENDANCEDATEIs_year_start',\n",
       " 'ATTENDANCEDATEElapsed']"
      ]
     },
     "execution_count": 8,
     "metadata": {},
     "output_type": "execute_result"
    },
    {
     "data": {
      "application/javascript": [
       "\n",
       "            setTimeout(function() {\n",
       "                var nbb_cell_id = 8;\n",
       "                var nbb_unformatted_code = \"list(df.columns)\";\n",
       "                var nbb_formatted_code = \"list(df.columns)\";\n",
       "                var nbb_cells = Jupyter.notebook.get_cells();\n",
       "                for (var i = 0; i < nbb_cells.length; ++i) {\n",
       "                    if (nbb_cells[i].input_prompt_number == nbb_cell_id) {\n",
       "                        if (nbb_cells[i].get_text() == nbb_unformatted_code) {\n",
       "                             nbb_cells[i].set_text(nbb_formatted_code);\n",
       "                        }\n",
       "                        break;\n",
       "                    }\n",
       "                }\n",
       "            }, 500);\n",
       "            "
      ],
      "text/plain": [
       "<IPython.core.display.Javascript object>"
      ]
     },
     "metadata": {},
     "output_type": "display_data"
    }
   ],
   "source": [
    "list(df.columns)"
   ]
  },
  {
   "cell_type": "code",
   "execution_count": 9,
   "id": "88c20cdd",
   "metadata": {},
   "outputs": [
    {
     "data": {
      "text/plain": [
       "<AxesSubplot:>"
      ]
     },
     "execution_count": 9,
     "metadata": {},
     "output_type": "execute_result"
    },
    {
     "data": {
      "image/png": "[encoded data removed]",
      "text/plain": [
       "<Figure size 432x288 with 1 Axes>"
      ]
     },
     "metadata": {
      "needs_background": "light"
     },
     "output_type": "display_data"
    },
    {
     "data": {
      "application/javascript": [
       "\n",
       "            setTimeout(function() {\n",
       "                var nbb_cell_id = 9;\n",
       "                var nbb_unformatted_code = \"df.ATTENDANCEDATEYear.value_counts().plot(kind=\\\"barh\\\")\";\n",
       "                var nbb_formatted_code = \"df.ATTENDANCEDATEYear.value_counts().plot(kind=\\\"barh\\\")\";\n",
       "                var nbb_cells = Jupyter.notebook.get_cells();\n",
       "                for (var i = 0; i < nbb_cells.length; ++i) {\n",
       "                    if (nbb_cells[i].input_prompt_number == nbb_cell_id) {\n",
       "                        if (nbb_cells[i].get_text() == nbb_unformatted_code) {\n",
       "                             nbb_cells[i].set_text(nbb_formatted_code);\n",
       "                        }\n",
       "                        break;\n",
       "                    }\n",
       "                }\n",
       "            }, 500);\n",
       "            "
      ],
      "text/plain": [
       "<IPython.core.display.Javascript object>"
      ]
     },
     "metadata": {},
     "output_type": "display_data"
    }
   ],
   "source": [
    "df.ATTENDANCEDATEYear.value_counts().plot(kind=\"barh\")"
   ]
  },
  {
   "cell_type": "code",
   "execution_count": 10,
   "id": "793ba283",
   "metadata": {},
   "outputs": [
    {
     "data": {
      "text/plain": [
       "2020    7452996\n",
       "2021    5920408\n",
       "2018    1576585\n",
       "2017    1543119\n",
       "2016    1541084\n",
       "2019    1522369\n",
       "2015    1491934\n",
       "2014    1402096\n",
       "2013     584593\n",
       "2022         22\n",
       "Name: ATTENDANCEDATEYear, dtype: int64"
      ]
     },
     "execution_count": 10,
     "metadata": {},
     "output_type": "execute_result"
    },
    {
     "data": {
      "application/javascript": [
       "\n",
       "            setTimeout(function() {\n",
       "                var nbb_cell_id = 10;\n",
       "                var nbb_unformatted_code = \"df.ATTENDANCEDATEYear.value_counts()\";\n",
       "                var nbb_formatted_code = \"df.ATTENDANCEDATEYear.value_counts()\";\n",
       "                var nbb_cells = Jupyter.notebook.get_cells();\n",
       "                for (var i = 0; i < nbb_cells.length; ++i) {\n",
       "                    if (nbb_cells[i].input_prompt_number == nbb_cell_id) {\n",
       "                        if (nbb_cells[i].get_text() == nbb_unformatted_code) {\n",
       "                             nbb_cells[i].set_text(nbb_formatted_code);\n",
       "                        }\n",
       "                        break;\n",
       "                    }\n",
       "                }\n",
       "            }, 500);\n",
       "            "
      ],
      "text/plain": [
       "<IPython.core.display.Javascript object>"
      ]
     },
     "metadata": {},
     "output_type": "display_data"
    }
   ],
   "source": [
    "df.ATTENDANCEDATEYear.value_counts()"
   ]
  },
  {
   "cell_type": "code",
   "execution_count": 11,
   "id": "58ec43dc",
   "metadata": {},
   "outputs": [
    {
     "data": {
      "application/javascript": [
       "\n",
       "            setTimeout(function() {\n",
       "                var nbb_cell_id = 11;\n",
       "                var nbb_unformatted_code = \"df.set_index(\\\"ATTENDANCEDATEYear\\\", inplace=True)\";\n",
       "                var nbb_formatted_code = \"df.set_index(\\\"ATTENDANCEDATEYear\\\", inplace=True)\";\n",
       "                var nbb_cells = Jupyter.notebook.get_cells();\n",
       "                for (var i = 0; i < nbb_cells.length; ++i) {\n",
       "                    if (nbb_cells[i].input_prompt_number == nbb_cell_id) {\n",
       "                        if (nbb_cells[i].get_text() == nbb_unformatted_code) {\n",
       "                             nbb_cells[i].set_text(nbb_formatted_code);\n",
       "                        }\n",
       "                        break;\n",
       "                    }\n",
       "                }\n",
       "            }, 500);\n",
       "            "
      ],
      "text/plain": [
       "<IPython.core.display.Javascript object>"
      ]
     },
     "metadata": {},
     "output_type": "display_data"
    }
   ],
   "source": [
    "df.set_index(\"ATTENDANCEDATEYear\", inplace=True)"
   ]
  },
  {
   "cell_type": "markdown",
   "id": "574d363d",
   "metadata": {},
   "source": [
    "Data validation:\n",
    "- Find total number of rows (present + absent) for a student in 2019. We can check for a few students in grade 12. They should be in ball park.\n",
    "- Find total number of rows (present + absent) for a student in 2018. We can check for a few students in grade 12. They should be in ball park. If not, we have to ask Product.\n"
   ]
  },
  {
   "cell_type": "code",
   "execution_count": 12,
   "id": "6127bc60",
   "metadata": {},
   "outputs": [
    {
     "data": {
      "text/plain": [
       "Absent     1039084\n",
       "Present     483285\n",
       "Name: PRESENCE_STATUS_CD, dtype: int64"
      ]
     },
     "execution_count": 12,
     "metadata": {},
     "output_type": "execute_result"
    },
    {
     "data": {
      "application/javascript": [
       "\n",
       "            setTimeout(function() {\n",
       "                var nbb_cell_id = 12;\n",
       "                var nbb_unformatted_code = \"df.loc[2019][\\\"PRESENCE_STATUS_CD\\\"].value_counts()  # .plot(kind=\\\"bar\\\")\";\n",
       "                var nbb_formatted_code = \"df.loc[2019][\\\"PRESENCE_STATUS_CD\\\"].value_counts()  # .plot(kind=\\\"bar\\\")\";\n",
       "                var nbb_cells = Jupyter.notebook.get_cells();\n",
       "                for (var i = 0; i < nbb_cells.length; ++i) {\n",
       "                    if (nbb_cells[i].input_prompt_number == nbb_cell_id) {\n",
       "                        if (nbb_cells[i].get_text() == nbb_unformatted_code) {\n",
       "                             nbb_cells[i].set_text(nbb_formatted_code);\n",
       "                        }\n",
       "                        break;\n",
       "                    }\n",
       "                }\n",
       "            }, 500);\n",
       "            "
      ],
      "text/plain": [
       "<IPython.core.display.Javascript object>"
      ]
     },
     "metadata": {},
     "output_type": "display_data"
    }
   ],
   "source": [
    "df.loc[2019][\"PRESENCE_STATUS_CD\"].value_counts()  # .plot(kind=\"bar\")"
   ]
  },
  {
   "cell_type": "code",
   "execution_count": 13,
   "id": "135ad8ca",
   "metadata": {},
   "outputs": [
    {
     "data": {
      "text/plain": [
       "<AxesSubplot:>"
      ]
     },
     "execution_count": 13,
     "metadata": {},
     "output_type": "execute_result"
    },
    {
     "data": {
      "image/png": "[encoded data removed]",
      "text/plain": [
       "<Figure size 432x288 with 1 Axes>"
      ]
     },
     "metadata": {
      "needs_background": "light"
     },
     "output_type": "display_data"
    },
    {
     "data": {
      "application/javascript": [
       "\n",
       "            setTimeout(function() {\n",
       "                var nbb_cell_id = 13;\n",
       "                var nbb_unformatted_code = \"df.loc[2019][\\\"PRESENCE_STATUS_CD\\\"].value_counts().plot(kind=\\\"bar\\\")\";\n",
       "                var nbb_formatted_code = \"df.loc[2019][\\\"PRESENCE_STATUS_CD\\\"].value_counts().plot(kind=\\\"bar\\\")\";\n",
       "                var nbb_cells = Jupyter.notebook.get_cells();\n",
       "                for (var i = 0; i < nbb_cells.length; ++i) {\n",
       "                    if (nbb_cells[i].input_prompt_number == nbb_cell_id) {\n",
       "                        if (nbb_cells[i].get_text() == nbb_unformatted_code) {\n",
       "                             nbb_cells[i].set_text(nbb_formatted_code);\n",
       "                        }\n",
       "                        break;\n",
       "                    }\n",
       "                }\n",
       "            }, 500);\n",
       "            "
      ],
      "text/plain": [
       "<IPython.core.display.Javascript object>"
      ]
     },
     "metadata": {},
     "output_type": "display_data"
    }
   ],
   "source": [
    "df.loc[2019][\"PRESENCE_STATUS_CD\"].value_counts().plot(kind=\"bar\")"
   ]
  },
  {
   "cell_type": "code",
   "execution_count": 14,
   "id": "723535f5",
   "metadata": {},
   "outputs": [
    {
     "data": {
      "text/plain": [
       "Absent     1101741\n",
       "Present     474844\n",
       "Name: PRESENCE_STATUS_CD, dtype: int64"
      ]
     },
     "execution_count": 14,
     "metadata": {},
     "output_type": "execute_result"
    },
    {
     "data": {
      "application/javascript": [
       "\n",
       "            setTimeout(function() {\n",
       "                var nbb_cell_id = 14;\n",
       "                var nbb_unformatted_code = \"df.loc[2018][\\\"PRESENCE_STATUS_CD\\\"].value_counts()  # .plot(kind=\\\"bar\\\")\";\n",
       "                var nbb_formatted_code = \"df.loc[2018][\\\"PRESENCE_STATUS_CD\\\"].value_counts()  # .plot(kind=\\\"bar\\\")\";\n",
       "                var nbb_cells = Jupyter.notebook.get_cells();\n",
       "                for (var i = 0; i < nbb_cells.length; ++i) {\n",
       "                    if (nbb_cells[i].input_prompt_number == nbb_cell_id) {\n",
       "                        if (nbb_cells[i].get_text() == nbb_unformatted_code) {\n",
       "                             nbb_cells[i].set_text(nbb_formatted_code);\n",
       "                        }\n",
       "                        break;\n",
       "                    }\n",
       "                }\n",
       "            }, 500);\n",
       "            "
      ],
      "text/plain": [
       "<IPython.core.display.Javascript object>"
      ]
     },
     "metadata": {},
     "output_type": "display_data"
    }
   ],
   "source": [
    "df.loc[2018][\"PRESENCE_STATUS_CD\"].value_counts()  # .plot(kind=\"bar\")"
   ]
  },
  {
   "cell_type": "code",
   "execution_count": 15,
   "id": "303cb9f5",
   "metadata": {},
   "outputs": [
    {
     "data": {
      "text/plain": [
       "<AxesSubplot:>"
      ]
     },
     "execution_count": 15,
     "metadata": {},
     "output_type": "execute_result"
    },
    {
     "data": {
      "image/png": "[encoded data removed]",
      "text/plain": [
       "<Figure size 432x288 with 1 Axes>"
      ]
     },
     "metadata": {
      "needs_background": "light"
     },
     "output_type": "display_data"
    },
    {
     "data": {
      "application/javascript": [
       "\n",
       "            setTimeout(function() {\n",
       "                var nbb_cell_id = 15;\n",
       "                var nbb_unformatted_code = \"df.loc[2018][\\\"PRESENCE_STATUS_CD\\\"].value_counts().plot(kind=\\\"bar\\\")\";\n",
       "                var nbb_formatted_code = \"df.loc[2018][\\\"PRESENCE_STATUS_CD\\\"].value_counts().plot(kind=\\\"bar\\\")\";\n",
       "                var nbb_cells = Jupyter.notebook.get_cells();\n",
       "                for (var i = 0; i < nbb_cells.length; ++i) {\n",
       "                    if (nbb_cells[i].input_prompt_number == nbb_cell_id) {\n",
       "                        if (nbb_cells[i].get_text() == nbb_unformatted_code) {\n",
       "                             nbb_cells[i].set_text(nbb_formatted_code);\n",
       "                        }\n",
       "                        break;\n",
       "                    }\n",
       "                }\n",
       "            }, 500);\n",
       "            "
      ],
      "text/plain": [
       "<IPython.core.display.Javascript object>"
      ]
     },
     "metadata": {},
     "output_type": "display_data"
    }
   ],
   "source": [
    "df.loc[2018][\"PRESENCE_STATUS_CD\"].value_counts().plot(kind=\"bar\")"
   ]
  },
  {
   "cell_type": "code",
   "execution_count": null,
   "id": "b32120b4",
   "metadata": {},
   "outputs": [],
   "source": []
  },
  {
   "cell_type": "code",
   "execution_count": 16,
   "id": "3ae38881",
   "metadata": {},
   "outputs": [
    {
     "data": {
      "application/javascript": [
       "\n",
       "            setTimeout(function() {\n",
       "                var nbb_cell_id = 16;\n",
       "                var nbb_unformatted_code = \"df_grade_2019_12 = df.loc[2019][df.loc[2019].GRADE_LEVEL == 12]\";\n",
       "                var nbb_formatted_code = \"df_grade_2019_12 = df.loc[2019][df.loc[2019].GRADE_LEVEL == 12]\";\n",
       "                var nbb_cells = Jupyter.notebook.get_cells();\n",
       "                for (var i = 0; i < nbb_cells.length; ++i) {\n",
       "                    if (nbb_cells[i].input_prompt_number == nbb_cell_id) {\n",
       "                        if (nbb_cells[i].get_text() == nbb_unformatted_code) {\n",
       "                             nbb_cells[i].set_text(nbb_formatted_code);\n",
       "                        }\n",
       "                        break;\n",
       "                    }\n",
       "                }\n",
       "            }, 500);\n",
       "            "
      ],
      "text/plain": [
       "<IPython.core.display.Javascript object>"
      ]
     },
     "metadata": {},
     "output_type": "display_data"
    }
   ],
   "source": [
    "df_grade_2019_12 = df.loc[2019][df.loc[2019].GRADE_LEVEL == 12]"
   ]
  },
  {
   "cell_type": "code",
   "execution_count": 17,
   "id": "8a3d00a3",
   "metadata": {},
   "outputs": [
    {
     "data": {
      "application/javascript": [
       "\n",
       "            setTimeout(function() {\n",
       "                var nbb_cell_id = 17;\n",
       "                var nbb_unformatted_code = \"df_grade_2019_12 = df_grade_2019_12.copy()\";\n",
       "                var nbb_formatted_code = \"df_grade_2019_12 = df_grade_2019_12.copy()\";\n",
       "                var nbb_cells = Jupyter.notebook.get_cells();\n",
       "                for (var i = 0; i < nbb_cells.length; ++i) {\n",
       "                    if (nbb_cells[i].input_prompt_number == nbb_cell_id) {\n",
       "                        if (nbb_cells[i].get_text() == nbb_unformatted_code) {\n",
       "                             nbb_cells[i].set_text(nbb_formatted_code);\n",
       "                        }\n",
       "                        break;\n",
       "                    }\n",
       "                }\n",
       "            }, 500);\n",
       "            "
      ],
      "text/plain": [
       "<IPython.core.display.Javascript object>"
      ]
     },
     "metadata": {},
     "output_type": "display_data"
    }
   ],
   "source": [
    "df_grade_2019_12 = df_grade_2019_12.copy()"
   ]
  },
  {
   "cell_type": "code",
   "execution_count": 18,
   "id": "871aeb31",
   "metadata": {},
   "outputs": [
    {
     "data": {
      "application/javascript": [
       "\n",
       "            setTimeout(function() {\n",
       "                var nbb_cell_id = 18;\n",
       "                var nbb_unformatted_code = \"df_grade_2019_12.set_index(\\\"STUDENTID\\\", inplace=True)\";\n",
       "                var nbb_formatted_code = \"df_grade_2019_12.set_index(\\\"STUDENTID\\\", inplace=True)\";\n",
       "                var nbb_cells = Jupyter.notebook.get_cells();\n",
       "                for (var i = 0; i < nbb_cells.length; ++i) {\n",
       "                    if (nbb_cells[i].input_prompt_number == nbb_cell_id) {\n",
       "                        if (nbb_cells[i].get_text() == nbb_unformatted_code) {\n",
       "                             nbb_cells[i].set_text(nbb_formatted_code);\n",
       "                        }\n",
       "                        break;\n",
       "                    }\n",
       "                }\n",
       "            }, 500);\n",
       "            "
      ],
      "text/plain": [
       "<IPython.core.display.Javascript object>"
      ]
     },
     "metadata": {},
     "output_type": "display_data"
    }
   ],
   "source": [
    "df_grade_2019_12.set_index(\"STUDENTID\", inplace=True)"
   ]
  },
  {
   "cell_type": "code",
   "execution_count": 19,
   "id": "7742075f",
   "metadata": {},
   "outputs": [
    {
     "data": {
      "text/plain": [
       "Absent     30\n",
       "Present     9\n",
       "Name: PRESENCE_STATUS_CD, dtype: int64"
      ]
     },
     "execution_count": 19,
     "metadata": {},
     "output_type": "execute_result"
    },
    {
     "data": {
      "application/javascript": [
       "\n",
       "            setTimeout(function() {\n",
       "                var nbb_cell_id = 19;\n",
       "                var nbb_unformatted_code = \"df_grade_2019_12.loc[79200][\\\"PRESENCE_STATUS_CD\\\"].value_counts()\";\n",
       "                var nbb_formatted_code = \"df_grade_2019_12.loc[79200][\\\"PRESENCE_STATUS_CD\\\"].value_counts()\";\n",
       "                var nbb_cells = Jupyter.notebook.get_cells();\n",
       "                for (var i = 0; i < nbb_cells.length; ++i) {\n",
       "                    if (nbb_cells[i].input_prompt_number == nbb_cell_id) {\n",
       "                        if (nbb_cells[i].get_text() == nbb_unformatted_code) {\n",
       "                             nbb_cells[i].set_text(nbb_formatted_code);\n",
       "                        }\n",
       "                        break;\n",
       "                    }\n",
       "                }\n",
       "            }, 500);\n",
       "            "
      ],
      "text/plain": [
       "<IPython.core.display.Javascript object>"
      ]
     },
     "metadata": {},
     "output_type": "display_data"
    }
   ],
   "source": [
    "df_grade_2019_12.loc[79200][\"PRESENCE_STATUS_CD\"].value_counts()"
   ]
  },
  {
   "cell_type": "code",
   "execution_count": 20,
   "id": "d18a4334",
   "metadata": {},
   "outputs": [
    {
     "data": {
      "application/javascript": [
       "\n",
       "            setTimeout(function() {\n",
       "                var nbb_cell_id = 20;\n",
       "                var nbb_unformatted_code = \"def get_attend_count(student_id, df):\\n    return df.loc[student_id][\\\"PRESENCE_STATUS_CD\\\"].value_counts()\";\n",
       "                var nbb_formatted_code = \"def get_attend_count(student_id, df):\\n    return df.loc[student_id][\\\"PRESENCE_STATUS_CD\\\"].value_counts()\";\n",
       "                var nbb_cells = Jupyter.notebook.get_cells();\n",
       "                for (var i = 0; i < nbb_cells.length; ++i) {\n",
       "                    if (nbb_cells[i].input_prompt_number == nbb_cell_id) {\n",
       "                        if (nbb_cells[i].get_text() == nbb_unformatted_code) {\n",
       "                             nbb_cells[i].set_text(nbb_formatted_code);\n",
       "                        }\n",
       "                        break;\n",
       "                    }\n",
       "                }\n",
       "            }, 500);\n",
       "            "
      ],
      "text/plain": [
       "<IPython.core.display.Javascript object>"
      ]
     },
     "metadata": {},
     "output_type": "display_data"
    }
   ],
   "source": [
    "def get_attend_count(student_id, df):\n",
    "    return df.loc[student_id][\"PRESENCE_STATUS_CD\"].value_counts()"
   ]
  },
  {
   "cell_type": "code",
   "execution_count": 21,
   "id": "e8f72549",
   "metadata": {},
   "outputs": [
    {
     "data": {
      "text/plain": [
       "Absent     30\n",
       "Present     9\n",
       "Name: PRESENCE_STATUS_CD, dtype: int64"
      ]
     },
     "execution_count": 21,
     "metadata": {},
     "output_type": "execute_result"
    },
    {
     "data": {
      "application/javascript": [
       "\n",
       "            setTimeout(function() {\n",
       "                var nbb_cell_id = 21;\n",
       "                var nbb_unformatted_code = \"get_attend_count(79200, df_grade_2019_12)\";\n",
       "                var nbb_formatted_code = \"get_attend_count(79200, df_grade_2019_12)\";\n",
       "                var nbb_cells = Jupyter.notebook.get_cells();\n",
       "                for (var i = 0; i < nbb_cells.length; ++i) {\n",
       "                    if (nbb_cells[i].input_prompt_number == nbb_cell_id) {\n",
       "                        if (nbb_cells[i].get_text() == nbb_unformatted_code) {\n",
       "                             nbb_cells[i].set_text(nbb_formatted_code);\n",
       "                        }\n",
       "                        break;\n",
       "                    }\n",
       "                }\n",
       "            }, 500);\n",
       "            "
      ],
      "text/plain": [
       "<IPython.core.display.Javascript object>"
      ]
     },
     "metadata": {},
     "output_type": "display_data"
    }
   ],
   "source": [
    "get_attend_count(79200, df_grade_2019_12)"
   ]
  },
  {
   "cell_type": "code",
   "execution_count": 22,
   "id": "78aac097",
   "metadata": {},
   "outputs": [
    {
     "data": {
      "text/plain": [
       "Int64Index([67115, 140041, 77428, 75714, 76918, 72924, 204855, 76503, 73988,\n",
       "            79971],\n",
       "           dtype='int64', name='STUDENTID')"
      ]
     },
     "execution_count": 22,
     "metadata": {},
     "output_type": "execute_result"
    },
    {
     "data": {
      "application/javascript": [
       "\n",
       "            setTimeout(function() {\n",
       "                var nbb_cell_id = 22;\n",
       "                var nbb_unformatted_code = \"df_grade_2019_12.sample(10).index\";\n",
       "                var nbb_formatted_code = \"df_grade_2019_12.sample(10).index\";\n",
       "                var nbb_cells = Jupyter.notebook.get_cells();\n",
       "                for (var i = 0; i < nbb_cells.length; ++i) {\n",
       "                    if (nbb_cells[i].input_prompt_number == nbb_cell_id) {\n",
       "                        if (nbb_cells[i].get_text() == nbb_unformatted_code) {\n",
       "                             nbb_cells[i].set_text(nbb_formatted_code);\n",
       "                        }\n",
       "                        break;\n",
       "                    }\n",
       "                }\n",
       "            }, 500);\n",
       "            "
      ],
      "text/plain": [
       "<IPython.core.display.Javascript object>"
      ]
     },
     "metadata": {},
     "output_type": "display_data"
    }
   ],
   "source": [
    "df_grade_2019_12.sample(10).index"
   ]
  },
  {
   "cell_type": "code",
   "execution_count": 23,
   "id": "68cb3099",
   "metadata": {},
   "outputs": [
    {
     "name": "stdout",
     "output_type": "stream",
     "text": [
      "Absent     18\n",
      "Present     5\n",
      "Name: PRESENCE_STATUS_CD, dtype: int64\n",
      "------------------------------------------\n",
      "Absent     52\n",
      "Present    31\n",
      "Name: PRESENCE_STATUS_CD, dtype: int64\n",
      "------------------------------------------\n",
      "Absent     33\n",
      "Present    15\n",
      "Name: PRESENCE_STATUS_CD, dtype: int64\n",
      "------------------------------------------\n",
      "Absent     147\n",
      "Present      5\n",
      "Name: PRESENCE_STATUS_CD, dtype: int64\n",
      "------------------------------------------\n",
      "Absent     76\n",
      "Present     1\n",
      "Name: PRESENCE_STATUS_CD, dtype: int64\n",
      "------------------------------------------\n",
      "Absent     18\n",
      "Present    15\n",
      "Name: PRESENCE_STATUS_CD, dtype: int64\n",
      "------------------------------------------\n",
      "Absent     14\n",
      "Present     4\n",
      "Name: PRESENCE_STATUS_CD, dtype: int64\n",
      "------------------------------------------\n",
      "Absent     16\n",
      "Present     7\n",
      "Name: PRESENCE_STATUS_CD, dtype: int64\n",
      "------------------------------------------\n",
      "Absent     15\n",
      "Present    13\n",
      "Name: PRESENCE_STATUS_CD, dtype: int64\n",
      "------------------------------------------\n",
      "Absent     41\n",
      "Present     6\n",
      "Name: PRESENCE_STATUS_CD, dtype: int64\n",
      "------------------------------------------\n"
     ]
    },
    {
     "data": {
      "application/javascript": [
       "\n",
       "            setTimeout(function() {\n",
       "                var nbb_cell_id = 23;\n",
       "                var nbb_unformatted_code = \"for idx in df_grade_2019_12.sample(10).index:\\n    print(get_attend_count(idx, df_grade_2019_12))\\n    print(\\\"------------------------------------------\\\")\";\n",
       "                var nbb_formatted_code = \"for idx in df_grade_2019_12.sample(10).index:\\n    print(get_attend_count(idx, df_grade_2019_12))\\n    print(\\\"------------------------------------------\\\")\";\n",
       "                var nbb_cells = Jupyter.notebook.get_cells();\n",
       "                for (var i = 0; i < nbb_cells.length; ++i) {\n",
       "                    if (nbb_cells[i].input_prompt_number == nbb_cell_id) {\n",
       "                        if (nbb_cells[i].get_text() == nbb_unformatted_code) {\n",
       "                             nbb_cells[i].set_text(nbb_formatted_code);\n",
       "                        }\n",
       "                        break;\n",
       "                    }\n",
       "                }\n",
       "            }, 500);\n",
       "            "
      ],
      "text/plain": [
       "<IPython.core.display.Javascript object>"
      ]
     },
     "metadata": {},
     "output_type": "display_data"
    }
   ],
   "source": [
    "for idx in df_grade_2019_12.sample(10).index:\n",
    "    print(get_attend_count(idx, df_grade_2019_12))\n",
    "    print(\"------------------------------------------\")"
   ]
  },
  {
   "cell_type": "code",
   "execution_count": 24,
   "id": "0fd33334",
   "metadata": {},
   "outputs": [
    {
     "data": {
      "application/javascript": [
       "\n",
       "            setTimeout(function() {\n",
       "                var nbb_cell_id = 24;\n",
       "                var nbb_unformatted_code = \"df_grade_2018_12 = df.loc[2018][df.loc[2018].GRADE_LEVEL == 12]\";\n",
       "                var nbb_formatted_code = \"df_grade_2018_12 = df.loc[2018][df.loc[2018].GRADE_LEVEL == 12]\";\n",
       "                var nbb_cells = Jupyter.notebook.get_cells();\n",
       "                for (var i = 0; i < nbb_cells.length; ++i) {\n",
       "                    if (nbb_cells[i].input_prompt_number == nbb_cell_id) {\n",
       "                        if (nbb_cells[i].get_text() == nbb_unformatted_code) {\n",
       "                             nbb_cells[i].set_text(nbb_formatted_code);\n",
       "                        }\n",
       "                        break;\n",
       "                    }\n",
       "                }\n",
       "            }, 500);\n",
       "            "
      ],
      "text/plain": [
       "<IPython.core.display.Javascript object>"
      ]
     },
     "metadata": {},
     "output_type": "display_data"
    }
   ],
   "source": [
    "df_grade_2018_12 = df.loc[2018][df.loc[2018].GRADE_LEVEL == 12]"
   ]
  },
  {
   "cell_type": "code",
   "execution_count": 25,
   "id": "5ef5d29b",
   "metadata": {},
   "outputs": [
    {
     "data": {
      "application/javascript": [
       "\n",
       "            setTimeout(function() {\n",
       "                var nbb_cell_id = 25;\n",
       "                var nbb_unformatted_code = \"df_grade_2018_12 = df_grade_2018_12.copy()\";\n",
       "                var nbb_formatted_code = \"df_grade_2018_12 = df_grade_2018_12.copy()\";\n",
       "                var nbb_cells = Jupyter.notebook.get_cells();\n",
       "                for (var i = 0; i < nbb_cells.length; ++i) {\n",
       "                    if (nbb_cells[i].input_prompt_number == nbb_cell_id) {\n",
       "                        if (nbb_cells[i].get_text() == nbb_unformatted_code) {\n",
       "                             nbb_cells[i].set_text(nbb_formatted_code);\n",
       "                        }\n",
       "                        break;\n",
       "                    }\n",
       "                }\n",
       "            }, 500);\n",
       "            "
      ],
      "text/plain": [
       "<IPython.core.display.Javascript object>"
      ]
     },
     "metadata": {},
     "output_type": "display_data"
    }
   ],
   "source": [
    "df_grade_2018_12 = df_grade_2018_12.copy()"
   ]
  },
  {
   "cell_type": "code",
   "execution_count": 26,
   "id": "d29a019f",
   "metadata": {},
   "outputs": [
    {
     "data": {
      "application/javascript": [
       "\n",
       "            setTimeout(function() {\n",
       "                var nbb_cell_id = 26;\n",
       "                var nbb_unformatted_code = \"df_grade_2018_12.set_index(\\\"STUDENTID\\\", inplace=True)\";\n",
       "                var nbb_formatted_code = \"df_grade_2018_12.set_index(\\\"STUDENTID\\\", inplace=True)\";\n",
       "                var nbb_cells = Jupyter.notebook.get_cells();\n",
       "                for (var i = 0; i < nbb_cells.length; ++i) {\n",
       "                    if (nbb_cells[i].input_prompt_number == nbb_cell_id) {\n",
       "                        if (nbb_cells[i].get_text() == nbb_unformatted_code) {\n",
       "                             nbb_cells[i].set_text(nbb_formatted_code);\n",
       "                        }\n",
       "                        break;\n",
       "                    }\n",
       "                }\n",
       "            }, 500);\n",
       "            "
      ],
      "text/plain": [
       "<IPython.core.display.Javascript object>"
      ]
     },
     "metadata": {},
     "output_type": "display_data"
    }
   ],
   "source": [
    "df_grade_2018_12.set_index(\"STUDENTID\", inplace=True)"
   ]
  },
  {
   "cell_type": "code",
   "execution_count": 27,
   "id": "5c25ce25",
   "metadata": {},
   "outputs": [
    {
     "data": {
      "text/plain": [
       "Int64Index([72185, 70868, 157186, 74810, 77101, 69223, 74485, 71616, 68667,\n",
       "            174962],\n",
       "           dtype='int64', name='STUDENTID')"
      ]
     },
     "execution_count": 27,
     "metadata": {},
     "output_type": "execute_result"
    },
    {
     "data": {
      "application/javascript": [
       "\n",
       "            setTimeout(function() {\n",
       "                var nbb_cell_id = 27;\n",
       "                var nbb_unformatted_code = \"df_grade_2018_12.sample(10).index\";\n",
       "                var nbb_formatted_code = \"df_grade_2018_12.sample(10).index\";\n",
       "                var nbb_cells = Jupyter.notebook.get_cells();\n",
       "                for (var i = 0; i < nbb_cells.length; ++i) {\n",
       "                    if (nbb_cells[i].input_prompt_number == nbb_cell_id) {\n",
       "                        if (nbb_cells[i].get_text() == nbb_unformatted_code) {\n",
       "                             nbb_cells[i].set_text(nbb_formatted_code);\n",
       "                        }\n",
       "                        break;\n",
       "                    }\n",
       "                }\n",
       "            }, 500);\n",
       "            "
      ],
      "text/plain": [
       "<IPython.core.display.Javascript object>"
      ]
     },
     "metadata": {},
     "output_type": "display_data"
    }
   ],
   "source": [
    "df_grade_2018_12.sample(10).index"
   ]
  },
  {
   "cell_type": "code",
   "execution_count": 28,
   "id": "6ef59435",
   "metadata": {},
   "outputs": [
    {
     "name": "stdout",
     "output_type": "stream",
     "text": [
      "Absent    8\n",
      "Name: PRESENCE_STATUS_CD, dtype: int64\n",
      "------------------------------------------\n",
      "Absent     31\n",
      "Present     7\n",
      "Name: PRESENCE_STATUS_CD, dtype: int64\n",
      "------------------------------------------\n",
      "Absent     59\n",
      "Present    13\n",
      "Name: PRESENCE_STATUS_CD, dtype: int64\n",
      "------------------------------------------\n",
      "Absent     32\n",
      "Present    11\n",
      "Name: PRESENCE_STATUS_CD, dtype: int64\n",
      "------------------------------------------\n",
      "Absent     55\n",
      "Present     9\n",
      "Name: PRESENCE_STATUS_CD, dtype: int64\n",
      "------------------------------------------\n",
      "Absent     94\n",
      "Present    14\n",
      "Name: PRESENCE_STATUS_CD, dtype: int64\n",
      "------------------------------------------\n",
      "Absent     32\n",
      "Present     9\n",
      "Name: PRESENCE_STATUS_CD, dtype: int64\n",
      "------------------------------------------\n",
      "Absent    131\n",
      "Name: PRESENCE_STATUS_CD, dtype: int64\n",
      "------------------------------------------\n",
      "Absent     28\n",
      "Present    14\n",
      "Name: PRESENCE_STATUS_CD, dtype: int64\n",
      "------------------------------------------\n",
      "Absent     17\n",
      "Present     6\n",
      "Name: PRESENCE_STATUS_CD, dtype: int64\n",
      "------------------------------------------\n"
     ]
    },
    {
     "data": {
      "application/javascript": [
       "\n",
       "            setTimeout(function() {\n",
       "                var nbb_cell_id = 28;\n",
       "                var nbb_unformatted_code = \"for idx in df_grade_2018_12.sample(10).index:\\n    print(get_attend_count(idx, df_grade_2018_12))\\n    print(\\\"------------------------------------------\\\")\";\n",
       "                var nbb_formatted_code = \"for idx in df_grade_2018_12.sample(10).index:\\n    print(get_attend_count(idx, df_grade_2018_12))\\n    print(\\\"------------------------------------------\\\")\";\n",
       "                var nbb_cells = Jupyter.notebook.get_cells();\n",
       "                for (var i = 0; i < nbb_cells.length; ++i) {\n",
       "                    if (nbb_cells[i].input_prompt_number == nbb_cell_id) {\n",
       "                        if (nbb_cells[i].get_text() == nbb_unformatted_code) {\n",
       "                             nbb_cells[i].set_text(nbb_formatted_code);\n",
       "                        }\n",
       "                        break;\n",
       "                    }\n",
       "                }\n",
       "            }, 500);\n",
       "            "
      ],
      "text/plain": [
       "<IPython.core.display.Javascript object>"
      ]
     },
     "metadata": {},
     "output_type": "display_data"
    }
   ],
   "source": [
    "for idx in df_grade_2018_12.sample(10).index:\n",
    "    print(get_attend_count(idx, df_grade_2018_12))\n",
    "    print(\"------------------------------------------\")"
   ]
  },
  {
   "cell_type": "markdown",
   "id": "980f68d3",
   "metadata": {},
   "source": [
    "Analysis:\n",
    "- For 2019, let’s sort the students of grade 12 by maximum number of absences\n",
    "- Find few student ids who are in middle (normal absence rate)\n",
    "-Identify students with very high absence rate and ask the product\n",
    "- Analyze an above selected student and count absence by course\n",
    "- Analyze an above selected student and count absence by period\n",
    "- Let’s do the above two analysis for a few students with normal absence rate in grade 12 (edited) "
   ]
  },
  {
   "cell_type": "code",
   "execution_count": 29,
   "id": "cc35da2b",
   "metadata": {},
   "outputs": [
    {
     "data": {
      "application/javascript": [
       "\n",
       "            setTimeout(function() {\n",
       "                var nbb_cell_id = 29;\n",
       "                var nbb_unformatted_code = \"df_2019 = df.loc[2019]\";\n",
       "                var nbb_formatted_code = \"df_2019 = df.loc[2019]\";\n",
       "                var nbb_cells = Jupyter.notebook.get_cells();\n",
       "                for (var i = 0; i < nbb_cells.length; ++i) {\n",
       "                    if (nbb_cells[i].input_prompt_number == nbb_cell_id) {\n",
       "                        if (nbb_cells[i].get_text() == nbb_unformatted_code) {\n",
       "                             nbb_cells[i].set_text(nbb_formatted_code);\n",
       "                        }\n",
       "                        break;\n",
       "                    }\n",
       "                }\n",
       "            }, 500);\n",
       "            "
      ],
      "text/plain": [
       "<IPython.core.display.Javascript object>"
      ]
     },
     "metadata": {},
     "output_type": "display_data"
    }
   ],
   "source": [
    "df_2019 = df.loc[2019]"
   ]
  },
  {
   "cell_type": "code",
   "execution_count": 30,
   "id": "a646c241",
   "metadata": {},
   "outputs": [
    {
     "data": {
      "application/javascript": [
       "\n",
       "            setTimeout(function() {\n",
       "                var nbb_cell_id = 30;\n",
       "                var nbb_unformatted_code = \"df_grade_2019_12 = df_2019[df_2019.GRADE_LEVEL == 12].copy()\";\n",
       "                var nbb_formatted_code = \"df_grade_2019_12 = df_2019[df_2019.GRADE_LEVEL == 12].copy()\";\n",
       "                var nbb_cells = Jupyter.notebook.get_cells();\n",
       "                for (var i = 0; i < nbb_cells.length; ++i) {\n",
       "                    if (nbb_cells[i].input_prompt_number == nbb_cell_id) {\n",
       "                        if (nbb_cells[i].get_text() == nbb_unformatted_code) {\n",
       "                             nbb_cells[i].set_text(nbb_formatted_code);\n",
       "                        }\n",
       "                        break;\n",
       "                    }\n",
       "                }\n",
       "            }, 500);\n",
       "            "
      ],
      "text/plain": [
       "<IPython.core.display.Javascript object>"
      ]
     },
     "metadata": {},
     "output_type": "display_data"
    }
   ],
   "source": [
    "df_grade_2019_12 = df_2019[df_2019.GRADE_LEVEL == 12].copy()"
   ]
  },
  {
   "cell_type": "code",
   "execution_count": 31,
   "id": "e375f664",
   "metadata": {},
   "outputs": [
    {
     "data": {
      "application/javascript": [
       "\n",
       "            setTimeout(function() {\n",
       "                var nbb_cell_id = 31;\n",
       "                var nbb_unformatted_code = \"df_grade_2019_12_Absent = df_grade_2019_12[\\n    df_grade_2019_12.PRESENCE_STATUS_CD == \\\"Absent\\\"\\n].copy()\";\n",
       "                var nbb_formatted_code = \"df_grade_2019_12_Absent = df_grade_2019_12[\\n    df_grade_2019_12.PRESENCE_STATUS_CD == \\\"Absent\\\"\\n].copy()\";\n",
       "                var nbb_cells = Jupyter.notebook.get_cells();\n",
       "                for (var i = 0; i < nbb_cells.length; ++i) {\n",
       "                    if (nbb_cells[i].input_prompt_number == nbb_cell_id) {\n",
       "                        if (nbb_cells[i].get_text() == nbb_unformatted_code) {\n",
       "                             nbb_cells[i].set_text(nbb_formatted_code);\n",
       "                        }\n",
       "                        break;\n",
       "                    }\n",
       "                }\n",
       "            }, 500);\n",
       "            "
      ],
      "text/plain": [
       "<IPython.core.display.Javascript object>"
      ]
     },
     "metadata": {},
     "output_type": "display_data"
    }
   ],
   "source": [
    "df_grade_2019_12_Absent = df_grade_2019_12[\n",
    "    df_grade_2019_12.PRESENCE_STATUS_CD == \"Absent\"\n",
    "].copy()"
   ]
  },
  {
   "cell_type": "code",
   "execution_count": 32,
   "id": "d6a36daf",
   "metadata": {},
   "outputs": [
    {
     "data": {
      "application/javascript": [
       "\n",
       "            setTimeout(function() {\n",
       "                var nbb_cell_id = 32;\n",
       "                var nbb_unformatted_code = \"df_grade_2019_12_Absent.set_index(\\\"STUDENTID\\\", inplace=True)\";\n",
       "                var nbb_formatted_code = \"df_grade_2019_12_Absent.set_index(\\\"STUDENTID\\\", inplace=True)\";\n",
       "                var nbb_cells = Jupyter.notebook.get_cells();\n",
       "                for (var i = 0; i < nbb_cells.length; ++i) {\n",
       "                    if (nbb_cells[i].input_prompt_number == nbb_cell_id) {\n",
       "                        if (nbb_cells[i].get_text() == nbb_unformatted_code) {\n",
       "                             nbb_cells[i].set_text(nbb_formatted_code);\n",
       "                        }\n",
       "                        break;\n",
       "                    }\n",
       "                }\n",
       "            }, 500);\n",
       "            "
      ],
      "text/plain": [
       "<IPython.core.display.Javascript object>"
      ]
     },
     "metadata": {},
     "output_type": "display_data"
    }
   ],
   "source": [
    "df_grade_2019_12_Absent.set_index(\"STUDENTID\", inplace=True)"
   ]
  },
  {
   "cell_type": "code",
   "execution_count": 43,
   "id": "6297789e",
   "metadata": {},
   "outputs": [
    {
     "ename": "ValueError",
     "evalue": "plot kind scatter can only be used for data frames",
     "output_type": "error",
     "traceback": [
      "\u001b[0;31m---------------------------------------------------------------------------\u001b[0m",
      "\u001b[0;31mValueError\u001b[0m                                Traceback (most recent call last)",
      "\u001b[0;32m/var/folders/3l/l2zspl49257bfbwgmf7m29lr0000gq/T/ipykernel_2636/2028196690.py\u001b[0m in \u001b[0;36m<module>\u001b[0;34m\u001b[0m\n\u001b[0;32m----> 1\u001b[0;31m df_grade_2019_12_Absent.groupby(\"STUDENTID\").count()[\n\u001b[0m\u001b[1;32m      2\u001b[0m     \u001b[0;34m\"PRESENCE_STATUS_CD\"\u001b[0m\u001b[0;34m\u001b[0m\u001b[0;34m\u001b[0m\u001b[0m\n\u001b[1;32m      3\u001b[0m ].sort_values()[::-1].plot(kind=\"scatter\")\n",
      "\u001b[0;32m~/opt/anaconda3/lib/python3.9/site-packages/pandas/plotting/_core.py\u001b[0m in \u001b[0;36m__call__\u001b[0;34m(self, *args, **kwargs)\u001b[0m\n\u001b[1;32m    917\u001b[0m                 \u001b[0;32mreturn\u001b[0m \u001b[0mplot_backend\u001b[0m\u001b[0;34m.\u001b[0m\u001b[0mplot\u001b[0m\u001b[0;34m(\u001b[0m\u001b[0mdata\u001b[0m\u001b[0;34m,\u001b[0m \u001b[0mx\u001b[0m\u001b[0;34m=\u001b[0m\u001b[0mx\u001b[0m\u001b[0;34m,\u001b[0m \u001b[0my\u001b[0m\u001b[0;34m=\u001b[0m\u001b[0my\u001b[0m\u001b[0;34m,\u001b[0m \u001b[0mkind\u001b[0m\u001b[0;34m=\u001b[0m\u001b[0mkind\u001b[0m\u001b[0;34m,\u001b[0m \u001b[0;34m**\u001b[0m\u001b[0mkwargs\u001b[0m\u001b[0;34m)\u001b[0m\u001b[0;34m\u001b[0m\u001b[0;34m\u001b[0m\u001b[0m\n\u001b[1;32m    918\u001b[0m             \u001b[0;32melse\u001b[0m\u001b[0;34m:\u001b[0m\u001b[0;34m\u001b[0m\u001b[0;34m\u001b[0m\u001b[0m\n\u001b[0;32m--> 919\u001b[0;31m                 \u001b[0;32mraise\u001b[0m \u001b[0mValueError\u001b[0m\u001b[0;34m(\u001b[0m\u001b[0;34mf\"plot kind {kind} can only be used for data frames\"\u001b[0m\u001b[0;34m)\u001b[0m\u001b[0;34m\u001b[0m\u001b[0;34m\u001b[0m\u001b[0m\n\u001b[0m\u001b[1;32m    920\u001b[0m         \u001b[0;32melif\u001b[0m \u001b[0mkind\u001b[0m \u001b[0;32min\u001b[0m \u001b[0mself\u001b[0m\u001b[0;34m.\u001b[0m\u001b[0m_series_kinds\u001b[0m\u001b[0;34m:\u001b[0m\u001b[0;34m\u001b[0m\u001b[0;34m\u001b[0m\u001b[0m\n\u001b[1;32m    921\u001b[0m             \u001b[0;32mif\u001b[0m \u001b[0misinstance\u001b[0m\u001b[0;34m(\u001b[0m\u001b[0mdata\u001b[0m\u001b[0;34m,\u001b[0m \u001b[0mABCDataFrame\u001b[0m\u001b[0;34m)\u001b[0m\u001b[0;34m:\u001b[0m\u001b[0;34m\u001b[0m\u001b[0;34m\u001b[0m\u001b[0m\n",
      "\u001b[0;31mValueError\u001b[0m: plot kind scatter can only be used for data frames"
     ]
    },
    {
     "data": {
      "application/javascript": [
       "\n",
       "            setTimeout(function() {\n",
       "                var nbb_cell_id = 43;\n",
       "                var nbb_unformatted_code = \"df_grade_2019_12_Absent.groupby(\\\"STUDENTID\\\").count()[\\n    \\\"PRESENCE_STATUS_CD\\\"\\n].sort_values()[::-1].plot(kind=\\\"scatter\\\")\";\n",
       "                var nbb_formatted_code = \"df_grade_2019_12_Absent.groupby(\\\"STUDENTID\\\").count()[\\n    \\\"PRESENCE_STATUS_CD\\\"\\n].sort_values()[::-1].plot(kind=\\\"scatter\\\")\";\n",
       "                var nbb_cells = Jupyter.notebook.get_cells();\n",
       "                for (var i = 0; i < nbb_cells.length; ++i) {\n",
       "                    if (nbb_cells[i].input_prompt_number == nbb_cell_id) {\n",
       "                        if (nbb_cells[i].get_text() == nbb_unformatted_code) {\n",
       "                             nbb_cells[i].set_text(nbb_formatted_code);\n",
       "                        }\n",
       "                        break;\n",
       "                    }\n",
       "                }\n",
       "            }, 500);\n",
       "            "
      ],
      "text/plain": [
       "<IPython.core.display.Javascript object>"
      ]
     },
     "metadata": {},
     "output_type": "display_data"
    }
   ],
   "source": [
    "df_grade_2019_12_Absent.groupby(\"STUDENTID\").count()[\n",
    "    \"PRESENCE_STATUS_CD\"\n",
    "].sort_values()[::-1].plot(kind=\"scatter\")"
   ]
  },
  {
   "cell_type": "code",
   "execution_count": 34,
   "id": "54764449",
   "metadata": {},
   "outputs": [
    {
     "data": {
      "application/javascript": [
       "\n",
       "            setTimeout(function() {\n",
       "                var nbb_cell_id = 34;\n",
       "                var nbb_unformatted_code = \"df_mid = (\\n    df_grade_2019_12_Absent.groupby(\\\"STUDENTID\\\")\\n    .count()[\\\"PRESENCE_STATUS_CD\\\"]\\n    .sort_values()[::-1]\\n)\";\n",
       "                var nbb_formatted_code = \"df_mid = (\\n    df_grade_2019_12_Absent.groupby(\\\"STUDENTID\\\")\\n    .count()[\\\"PRESENCE_STATUS_CD\\\"]\\n    .sort_values()[::-1]\\n)\";\n",
       "                var nbb_cells = Jupyter.notebook.get_cells();\n",
       "                for (var i = 0; i < nbb_cells.length; ++i) {\n",
       "                    if (nbb_cells[i].input_prompt_number == nbb_cell_id) {\n",
       "                        if (nbb_cells[i].get_text() == nbb_unformatted_code) {\n",
       "                             nbb_cells[i].set_text(nbb_formatted_code);\n",
       "                        }\n",
       "                        break;\n",
       "                    }\n",
       "                }\n",
       "            }, 500);\n",
       "            "
      ],
      "text/plain": [
       "<IPython.core.display.Javascript object>"
      ]
     },
     "metadata": {},
     "output_type": "display_data"
    }
   ],
   "source": [
    "df_mid = (\n",
    "    df_grade_2019_12_Absent.groupby(\"STUDENTID\")\n",
    "    .count()[\"PRESENCE_STATUS_CD\"]\n",
    "    .sort_values()[::-1]\n",
    ")"
   ]
  },
  {
   "cell_type": "code",
   "execution_count": 35,
   "id": "de9401ff",
   "metadata": {},
   "outputs": [
    {
     "data": {
      "text/plain": [
       "STUDENTID\n",
       "201303    49\n",
       "92221     49\n",
       "73714     49\n",
       "195322    49\n",
       "101794    49\n",
       "74806     49\n",
       "87996     49\n",
       "73157     49\n",
       "76149     49\n",
       "75873     49\n",
       "90613     49\n",
       "74652     49\n",
       "144079    49\n",
       "166054    49\n",
       "73375     49\n",
       "162269    49\n",
       "76816     49\n",
       "73988     49\n",
       "78740     49\n",
       "79832     49\n",
       "Name: PRESENCE_STATUS_CD, dtype: int64"
      ]
     },
     "execution_count": 35,
     "metadata": {},
     "output_type": "execute_result"
    },
    {
     "data": {
      "application/javascript": [
       "\n",
       "            setTimeout(function() {\n",
       "                var nbb_cell_id = 35;\n",
       "                var nbb_unformatted_code = \"df_mid[df_mid.values < 50][0:20]  #  50 count as mid value from scatter plot\";\n",
       "                var nbb_formatted_code = \"df_mid[df_mid.values < 50][0:20]  #  50 count as mid value from scatter plot\";\n",
       "                var nbb_cells = Jupyter.notebook.get_cells();\n",
       "                for (var i = 0; i < nbb_cells.length; ++i) {\n",
       "                    if (nbb_cells[i].input_prompt_number == nbb_cell_id) {\n",
       "                        if (nbb_cells[i].get_text() == nbb_unformatted_code) {\n",
       "                             nbb_cells[i].set_text(nbb_formatted_code);\n",
       "                        }\n",
       "                        break;\n",
       "                    }\n",
       "                }\n",
       "            }, 500);\n",
       "            "
      ],
      "text/plain": [
       "<IPython.core.display.Javascript object>"
      ]
     },
     "metadata": {},
     "output_type": "display_data"
    }
   ],
   "source": [
    "df_mid[df_mid.values < 50][0:20]  #  50 count as mid value from scatter plot"
   ]
  },
  {
   "cell_type": "code",
   "execution_count": 36,
   "id": "28ed556e",
   "metadata": {},
   "outputs": [
    {
     "data": {
      "text/plain": [
       "STUDENTID\n",
       "67757     414\n",
       "71274     270\n",
       "70704     265\n",
       "77101     240\n",
       "193393    229\n",
       "177565    218\n",
       "158695    215\n",
       "72326     210\n",
       "70736     208\n",
       "69026     205\n",
       "80080     203\n",
       "72500     202\n",
       "164448    195\n",
       "77334     194\n",
       "100327    191\n",
       "219282    188\n",
       "79227     187\n",
       "66991     187\n",
       "182795    187\n",
       "75599     186\n",
       "Name: PRESENCE_STATUS_CD, dtype: int64"
      ]
     },
     "execution_count": 36,
     "metadata": {},
     "output_type": "execute_result"
    },
    {
     "data": {
      "application/javascript": [
       "\n",
       "            setTimeout(function() {\n",
       "                var nbb_cell_id = 36;\n",
       "                var nbb_unformatted_code = \"df_grade_2019_12_Absent.groupby(\\\"STUDENTID\\\").count()[\\n    \\\"PRESENCE_STATUS_CD\\\"\\n].sort_values()[::-1][\\n    0:20\\n]  # top 20 high absent\";\n",
       "                var nbb_formatted_code = \"df_grade_2019_12_Absent.groupby(\\\"STUDENTID\\\").count()[\\n    \\\"PRESENCE_STATUS_CD\\\"\\n].sort_values()[::-1][\\n    0:20\\n]  # top 20 high absent\";\n",
       "                var nbb_cells = Jupyter.notebook.get_cells();\n",
       "                for (var i = 0; i < nbb_cells.length; ++i) {\n",
       "                    if (nbb_cells[i].input_prompt_number == nbb_cell_id) {\n",
       "                        if (nbb_cells[i].get_text() == nbb_unformatted_code) {\n",
       "                             nbb_cells[i].set_text(nbb_formatted_code);\n",
       "                        }\n",
       "                        break;\n",
       "                    }\n",
       "                }\n",
       "            }, 500);\n",
       "            "
      ],
      "text/plain": [
       "<IPython.core.display.Javascript object>"
      ]
     },
     "metadata": {},
     "output_type": "display_data"
    }
   ],
   "source": [
    "df_grade_2019_12_Absent.groupby(\"STUDENTID\").count()[\n",
    "    \"PRESENCE_STATUS_CD\"\n",
    "].sort_values()[::-1][\n",
    "    0:20\n",
    "]  # top 20 high absent"
   ]
  },
  {
   "cell_type": "code",
   "execution_count": 37,
   "id": "444d6c4b",
   "metadata": {},
   "outputs": [
    {
     "data": {
      "text/plain": [
       "ATTENDANCEDATEYear\n",
       "2018              CR American History II\n",
       "2018                Library/Media Assist\n",
       "2018    Principles of Business & Finance\n",
       "2018             Visual Arts (Beginning)\n",
       "2018          Visual Arts (Intermediate)\n",
       "                      ...               \n",
       "2020      Microsoft Word and PowerPoint \n",
       "2020      Microsoft Word and PowerPoint \n",
       "2020      Microsoft Word and PowerPoint \n",
       "2020       Microsoft Word and PowerPoint\n",
       "2020            Band (Intermediate) Fall\n",
       "Name: COURSE_NAME, Length: 23035206, dtype: object"
      ]
     },
     "execution_count": 37,
     "metadata": {},
     "output_type": "execute_result"
    },
    {
     "data": {
      "application/javascript": [
       "\n",
       "            setTimeout(function() {\n",
       "                var nbb_cell_id = 37;\n",
       "                var nbb_unformatted_code = \"df.COURSE_NAME\";\n",
       "                var nbb_formatted_code = \"df.COURSE_NAME\";\n",
       "                var nbb_cells = Jupyter.notebook.get_cells();\n",
       "                for (var i = 0; i < nbb_cells.length; ++i) {\n",
       "                    if (nbb_cells[i].input_prompt_number == nbb_cell_id) {\n",
       "                        if (nbb_cells[i].get_text() == nbb_unformatted_code) {\n",
       "                             nbb_cells[i].set_text(nbb_formatted_code);\n",
       "                        }\n",
       "                        break;\n",
       "                    }\n",
       "                }\n",
       "            }, 500);\n",
       "            "
      ],
      "text/plain": [
       "<IPython.core.display.Javascript object>"
      ]
     },
     "metadata": {},
     "output_type": "display_data"
    }
   ],
   "source": [
    "df.COURSE_NAME"
   ]
  },
  {
   "cell_type": "code",
   "execution_count": 38,
   "id": "1bfa5561",
   "metadata": {},
   "outputs": [
    {
     "data": {
      "application/javascript": [
       "\n",
       "            setTimeout(function() {\n",
       "                var nbb_cell_id = 38;\n",
       "                var nbb_unformatted_code = \"top_20_absent_count_student = (\\n    df_grade_2019_12_Absent.groupby(\\\"STUDENTID\\\")\\n    .count()[\\\"PRESENCE_STATUS_CD\\\"]\\n    .sort_values()[::-1][0:20]\\n)\";\n",
       "                var nbb_formatted_code = \"top_20_absent_count_student = (\\n    df_grade_2019_12_Absent.groupby(\\\"STUDENTID\\\")\\n    .count()[\\\"PRESENCE_STATUS_CD\\\"]\\n    .sort_values()[::-1][0:20]\\n)\";\n",
       "                var nbb_cells = Jupyter.notebook.get_cells();\n",
       "                for (var i = 0; i < nbb_cells.length; ++i) {\n",
       "                    if (nbb_cells[i].input_prompt_number == nbb_cell_id) {\n",
       "                        if (nbb_cells[i].get_text() == nbb_unformatted_code) {\n",
       "                             nbb_cells[i].set_text(nbb_formatted_code);\n",
       "                        }\n",
       "                        break;\n",
       "                    }\n",
       "                }\n",
       "            }, 500);\n",
       "            "
      ],
      "text/plain": [
       "<IPython.core.display.Javascript object>"
      ]
     },
     "metadata": {},
     "output_type": "display_data"
    }
   ],
   "source": [
    "top_20_absent_count_student = (\n",
    "    df_grade_2019_12_Absent.groupby(\"STUDENTID\")\n",
    "    .count()[\"PRESENCE_STATUS_CD\"]\n",
    "    .sort_values()[::-1][0:20]\n",
    ")"
   ]
  },
  {
   "cell_type": "code",
   "execution_count": 39,
   "id": "cfd27396",
   "metadata": {},
   "outputs": [
    {
     "data": {
      "text/plain": [
       "Int64Index([ 67757,  71274,  70704,  77101, 193393, 177565, 158695,  72326,\n",
       "             70736,  69026,  80080,  72500, 164448,  77334, 100327, 219282,\n",
       "             79227,  66991, 182795,  75599],\n",
       "           dtype='int64', name='STUDENTID')"
      ]
     },
     "execution_count": 39,
     "metadata": {},
     "output_type": "execute_result"
    },
    {
     "data": {
      "application/javascript": [
       "\n",
       "            setTimeout(function() {\n",
       "                var nbb_cell_id = 39;\n",
       "                var nbb_unformatted_code = \"top_20_absent_count_student.index\";\n",
       "                var nbb_formatted_code = \"top_20_absent_count_student.index\";\n",
       "                var nbb_cells = Jupyter.notebook.get_cells();\n",
       "                for (var i = 0; i < nbb_cells.length; ++i) {\n",
       "                    if (nbb_cells[i].input_prompt_number == nbb_cell_id) {\n",
       "                        if (nbb_cells[i].get_text() == nbb_unformatted_code) {\n",
       "                             nbb_cells[i].set_text(nbb_formatted_code);\n",
       "                        }\n",
       "                        break;\n",
       "                    }\n",
       "                }\n",
       "            }, 500);\n",
       "            "
      ],
      "text/plain": [
       "<IPython.core.display.Javascript object>"
      ]
     },
     "metadata": {},
     "output_type": "display_data"
    }
   ],
   "source": [
    "top_20_absent_count_student.index"
   ]
  },
  {
   "cell_type": "code",
   "execution_count": 40,
   "id": "23892fef",
   "metadata": {},
   "outputs": [
    {
     "data": {
      "application/javascript": [
       "\n",
       "            setTimeout(function() {\n",
       "                var nbb_cell_id = 40;\n",
       "                var nbb_unformatted_code = \"df_heatmap = (\\n    df_grade_2019_12_Absent.loc[top_20_absent_count_student.index]\\n    .groupby([\\\"STUDENTID\\\", \\\"COURSE_NAME\\\"])\\n    .count()[\\\"PRESENCE_STATUS_CD\\\"]\\n    .unstack()\\n)\";\n",
       "                var nbb_formatted_code = \"df_heatmap = (\\n    df_grade_2019_12_Absent.loc[top_20_absent_count_student.index]\\n    .groupby([\\\"STUDENTID\\\", \\\"COURSE_NAME\\\"])\\n    .count()[\\\"PRESENCE_STATUS_CD\\\"]\\n    .unstack()\\n)\";\n",
       "                var nbb_cells = Jupyter.notebook.get_cells();\n",
       "                for (var i = 0; i < nbb_cells.length; ++i) {\n",
       "                    if (nbb_cells[i].input_prompt_number == nbb_cell_id) {\n",
       "                        if (nbb_cells[i].get_text() == nbb_unformatted_code) {\n",
       "                             nbb_cells[i].set_text(nbb_formatted_code);\n",
       "                        }\n",
       "                        break;\n",
       "                    }\n",
       "                }\n",
       "            }, 500);\n",
       "            "
      ],
      "text/plain": [
       "<IPython.core.display.Javascript object>"
      ]
     },
     "metadata": {},
     "output_type": "display_data"
    }
   ],
   "source": [
    "df_heatmap = (\n",
    "    df_grade_2019_12_Absent.loc[top_20_absent_count_student.index]\n",
    "    .groupby([\"STUDENTID\", \"COURSE_NAME\"])\n",
    "    .count()[\"PRESENCE_STATUS_CD\"]\n",
    "    .unstack()\n",
    ")"
   ]
  },
  {
   "cell_type": "code",
   "execution_count": 45,
   "id": "445c3fa9",
   "metadata": {},
   "outputs": [
    {
     "data": {
      "image/png": "[encoded data removed]",
      "text/plain": [
       "<Figure size 1080x432 with 2 Axes>"
      ]
     },
     "metadata": {},
     "output_type": "display_data"
    },
    {
     "data": {
      "application/javascript": [
       "\n",
       "            setTimeout(function() {\n",
       "                var nbb_cell_id = 45;\n",
       "                var nbb_unformatted_code = \"df_heatmap\\nplt.figure(figsize=(15, 6))\\nsns.heatmap(df_heatmap, annot=True, fmt=\\\"g\\\", cmap=cm)\\nplt.show()\";\n",
       "                var nbb_formatted_code = \"df_heatmap\\nplt.figure(figsize=(15, 6))\\nsns.heatmap(df_heatmap, annot=True, fmt=\\\"g\\\", cmap=cm)\\nplt.show()\";\n",
       "                var nbb_cells = Jupyter.notebook.get_cells();\n",
       "                for (var i = 0; i < nbb_cells.length; ++i) {\n",
       "                    if (nbb_cells[i].input_prompt_number == nbb_cell_id) {\n",
       "                        if (nbb_cells[i].get_text() == nbb_unformatted_code) {\n",
       "                             nbb_cells[i].set_text(nbb_formatted_code);\n",
       "                        }\n",
       "                        break;\n",
       "                    }\n",
       "                }\n",
       "            }, 500);\n",
       "            "
      ],
      "text/plain": [
       "<IPython.core.display.Javascript object>"
      ]
     },
     "metadata": {},
     "output_type": "display_data"
    }
   ],
   "source": [
    "df_heatmap\n",
    "plt.figure(figsize=(15, 6))\n",
    "sns.heatmap(df_heatmap, annot=True, fmt=\"g\", cmap=cm)\n",
    "plt.show()"
   ]
  },
  {
   "cell_type": "code",
   "execution_count": 46,
   "id": "5ed90fab",
   "metadata": {},
   "outputs": [
    {
     "data": {
      "application/javascript": [
       "\n",
       "            setTimeout(function() {\n",
       "                var nbb_cell_id = 46;\n",
       "                var nbb_unformatted_code = \"mid_20_absent_count_student = df_mid[df_mid.values < 50][0:20]\";\n",
       "                var nbb_formatted_code = \"mid_20_absent_count_student = df_mid[df_mid.values < 50][0:20]\";\n",
       "                var nbb_cells = Jupyter.notebook.get_cells();\n",
       "                for (var i = 0; i < nbb_cells.length; ++i) {\n",
       "                    if (nbb_cells[i].input_prompt_number == nbb_cell_id) {\n",
       "                        if (nbb_cells[i].get_text() == nbb_unformatted_code) {\n",
       "                             nbb_cells[i].set_text(nbb_formatted_code);\n",
       "                        }\n",
       "                        break;\n",
       "                    }\n",
       "                }\n",
       "            }, 500);\n",
       "            "
      ],
      "text/plain": [
       "<IPython.core.display.Javascript object>"
      ]
     },
     "metadata": {},
     "output_type": "display_data"
    }
   ],
   "source": [
    "mid_20_absent_count_student = df_mid[df_mid.values < 50][0:20]"
   ]
  },
  {
   "cell_type": "code",
   "execution_count": 47,
   "id": "7c0b953d",
   "metadata": {},
   "outputs": [
    {
     "data": {
      "text/plain": [
       "Int64Index([201303,  92221,  73714, 195322, 101794,  74806,  87996,  73157,\n",
       "             76149,  75873,  90613,  74652, 144079, 166054,  73375, 162269,\n",
       "             76816,  73988,  78740,  79832],\n",
       "           dtype='int64', name='STUDENTID')"
      ]
     },
     "execution_count": 47,
     "metadata": {},
     "output_type": "execute_result"
    },
    {
     "data": {
      "application/javascript": [
       "\n",
       "            setTimeout(function() {\n",
       "                var nbb_cell_id = 47;\n",
       "                var nbb_unformatted_code = \"mid_20_absent_count_student.index\";\n",
       "                var nbb_formatted_code = \"mid_20_absent_count_student.index\";\n",
       "                var nbb_cells = Jupyter.notebook.get_cells();\n",
       "                for (var i = 0; i < nbb_cells.length; ++i) {\n",
       "                    if (nbb_cells[i].input_prompt_number == nbb_cell_id) {\n",
       "                        if (nbb_cells[i].get_text() == nbb_unformatted_code) {\n",
       "                             nbb_cells[i].set_text(nbb_formatted_code);\n",
       "                        }\n",
       "                        break;\n",
       "                    }\n",
       "                }\n",
       "            }, 500);\n",
       "            "
      ],
      "text/plain": [
       "<IPython.core.display.Javascript object>"
      ]
     },
     "metadata": {},
     "output_type": "display_data"
    }
   ],
   "source": [
    "mid_20_absent_count_student.index"
   ]
  },
  {
   "cell_type": "code",
   "execution_count": 48,
   "id": "f0193a33",
   "metadata": {},
   "outputs": [
    {
     "data": {
      "application/javascript": [
       "\n",
       "            setTimeout(function() {\n",
       "                var nbb_cell_id = 48;\n",
       "                var nbb_unformatted_code = \"df_heatmap = (\\n    df_grade_2019_12_Absent.loc[mid_20_absent_count_student.index]\\n    .groupby([\\\"STUDENTID\\\", \\\"COURSE_NAME\\\"])\\n    .count()[\\\"PRESENCE_STATUS_CD\\\"]\\n    .unstack()\\n)\";\n",
       "                var nbb_formatted_code = \"df_heatmap = (\\n    df_grade_2019_12_Absent.loc[mid_20_absent_count_student.index]\\n    .groupby([\\\"STUDENTID\\\", \\\"COURSE_NAME\\\"])\\n    .count()[\\\"PRESENCE_STATUS_CD\\\"]\\n    .unstack()\\n)\";\n",
       "                var nbb_cells = Jupyter.notebook.get_cells();\n",
       "                for (var i = 0; i < nbb_cells.length; ++i) {\n",
       "                    if (nbb_cells[i].input_prompt_number == nbb_cell_id) {\n",
       "                        if (nbb_cells[i].get_text() == nbb_unformatted_code) {\n",
       "                             nbb_cells[i].set_text(nbb_formatted_code);\n",
       "                        }\n",
       "                        break;\n",
       "                    }\n",
       "                }\n",
       "            }, 500);\n",
       "            "
      ],
      "text/plain": [
       "<IPython.core.display.Javascript object>"
      ]
     },
     "metadata": {},
     "output_type": "display_data"
    }
   ],
   "source": [
    "df_heatmap = (\n",
    "    df_grade_2019_12_Absent.loc[mid_20_absent_count_student.index]\n",
    "    .groupby([\"STUDENTID\", \"COURSE_NAME\"])\n",
    "    .count()[\"PRESENCE_STATUS_CD\"]\n",
    "    .unstack()\n",
    ")"
   ]
  },
  {
   "cell_type": "code",
   "execution_count": 49,
   "id": "191e307a",
   "metadata": {},
   "outputs": [
    {
     "data": {
      "image/png": "[encoded data removed]",
      "text/plain": [
       "<Figure size 1080x432 with 2 Axes>"
      ]
     },
     "metadata": {},
     "output_type": "display_data"
    },
    {
     "data": {
      "application/javascript": [
       "\n",
       "            setTimeout(function() {\n",
       "                var nbb_cell_id = 49;\n",
       "                var nbb_unformatted_code = \"df_heatmap\\nplt.figure(figsize=(15, 6))\\nsns.heatmap(df_heatmap, annot=True, fmt=\\\"g\\\", cmap=cm)\\nplt.show()\";\n",
       "                var nbb_formatted_code = \"df_heatmap\\nplt.figure(figsize=(15, 6))\\nsns.heatmap(df_heatmap, annot=True, fmt=\\\"g\\\", cmap=cm)\\nplt.show()\";\n",
       "                var nbb_cells = Jupyter.notebook.get_cells();\n",
       "                for (var i = 0; i < nbb_cells.length; ++i) {\n",
       "                    if (nbb_cells[i].input_prompt_number == nbb_cell_id) {\n",
       "                        if (nbb_cells[i].get_text() == nbb_unformatted_code) {\n",
       "                             nbb_cells[i].set_text(nbb_formatted_code);\n",
       "                        }\n",
       "                        break;\n",
       "                    }\n",
       "                }\n",
       "            }, 500);\n",
       "            "
      ],
      "text/plain": [
       "<IPython.core.display.Javascript object>"
      ]
     },
     "metadata": {},
     "output_type": "display_data"
    }
   ],
   "source": [
    "df_heatmap\n",
    "plt.figure(figsize=(15, 6))\n",
    "sns.heatmap(df_heatmap, annot=True, fmt=\"g\", cmap=cm)\n",
    "plt.show()"
   ]
  },
  {
   "cell_type": "code",
   "execution_count": 50,
   "id": "2ef263c7",
   "metadata": {},
   "outputs": [
    {
     "data": {
      "text/plain": [
       "['Unnamed: 0',\n",
       " 'SCHOOLYEAR',\n",
       " 'PRESENCE_STATUS_CD',\n",
       " 'GRADE_LEVEL',\n",
       " 'COURSE_NAME',\n",
       " 'SCHOOLDCID',\n",
       " 'LASTFIRST',\n",
       " 'SCHOOLID',\n",
       " 'STUDENTDCID',\n",
       " 'SECTIONENROLLMENTDCID',\n",
       " 'CALENDARDCID',\n",
       " 'PERIODDCID',\n",
       " 'PERIODNAME',\n",
       " 'ATTENDANCECODEDCID',\n",
       " 'SCHEDULINGTERMYEARDCID',\n",
       " 'ATTENDANCEMODECODE',\n",
       " 'TOTALMINUTESATTENDED',\n",
       " 'ATTENDANCECOMMENT',\n",
       " 'ATTENDANCE_CODE_DESCRIPTION',\n",
       " 'ADAVALUECODE',\n",
       " 'ADAVALUETIME',\n",
       " 'ADMVALUE',\n",
       " 'ATTENDANCEFLAGS',\n",
       " 'SOURCESYSTEMID',\n",
       " 'ATTENDANCEMODEFLAG',\n",
       " 'ATTENDANCEDATEMonth',\n",
       " 'ATTENDANCEDATEWeek',\n",
       " 'ATTENDANCEDATEDay',\n",
       " 'ATTENDANCEDATEDayofweek',\n",
       " 'ATTENDANCEDATEDayofyear',\n",
       " 'ATTENDANCEDATEIs_month_end',\n",
       " 'ATTENDANCEDATEIs_month_start',\n",
       " 'ATTENDANCEDATEIs_quarter_end',\n",
       " 'ATTENDANCEDATEIs_quarter_start',\n",
       " 'ATTENDANCEDATEIs_year_end',\n",
       " 'ATTENDANCEDATEIs_year_start',\n",
       " 'ATTENDANCEDATEElapsed']"
      ]
     },
     "execution_count": 50,
     "metadata": {},
     "output_type": "execute_result"
    },
    {
     "data": {
      "application/javascript": [
       "\n",
       "            setTimeout(function() {\n",
       "                var nbb_cell_id = 50;\n",
       "                var nbb_unformatted_code = \"list(df_grade_2019_12_Absent.columns)\";\n",
       "                var nbb_formatted_code = \"list(df_grade_2019_12_Absent.columns)\";\n",
       "                var nbb_cells = Jupyter.notebook.get_cells();\n",
       "                for (var i = 0; i < nbb_cells.length; ++i) {\n",
       "                    if (nbb_cells[i].input_prompt_number == nbb_cell_id) {\n",
       "                        if (nbb_cells[i].get_text() == nbb_unformatted_code) {\n",
       "                             nbb_cells[i].set_text(nbb_formatted_code);\n",
       "                        }\n",
       "                        break;\n",
       "                    }\n",
       "                }\n",
       "            }, 500);\n",
       "            "
      ],
      "text/plain": [
       "<IPython.core.display.Javascript object>"
      ]
     },
     "metadata": {},
     "output_type": "display_data"
    }
   ],
   "source": [
    "list(df_grade_2019_12_Absent.columns)"
   ]
  },
  {
   "cell_type": "code",
   "execution_count": 51,
   "id": "72fde627",
   "metadata": {},
   "outputs": [
    {
     "data": {
      "text/plain": [
       "STUDENTID\n",
       "201303    49\n",
       "92221     49\n",
       "73714     49\n",
       "195322    49\n",
       "101794    49\n",
       "74806     49\n",
       "87996     49\n",
       "73157     49\n",
       "76149     49\n",
       "75873     49\n",
       "90613     49\n",
       "74652     49\n",
       "144079    49\n",
       "166054    49\n",
       "73375     49\n",
       "162269    49\n",
       "76816     49\n",
       "73988     49\n",
       "78740     49\n",
       "79832     49\n",
       "Name: PRESENCE_STATUS_CD, dtype: int64"
      ]
     },
     "execution_count": 51,
     "metadata": {},
     "output_type": "execute_result"
    },
    {
     "data": {
      "application/javascript": [
       "\n",
       "            setTimeout(function() {\n",
       "                var nbb_cell_id = 51;\n",
       "                var nbb_unformatted_code = \"mid_20_absent_count_student\";\n",
       "                var nbb_formatted_code = \"mid_20_absent_count_student\";\n",
       "                var nbb_cells = Jupyter.notebook.get_cells();\n",
       "                for (var i = 0; i < nbb_cells.length; ++i) {\n",
       "                    if (nbb_cells[i].input_prompt_number == nbb_cell_id) {\n",
       "                        if (nbb_cells[i].get_text() == nbb_unformatted_code) {\n",
       "                             nbb_cells[i].set_text(nbb_formatted_code);\n",
       "                        }\n",
       "                        break;\n",
       "                    }\n",
       "                }\n",
       "            }, 500);\n",
       "            "
      ],
      "text/plain": [
       "<IPython.core.display.Javascript object>"
      ]
     },
     "metadata": {},
     "output_type": "display_data"
    }
   ],
   "source": [
    "mid_20_absent_count_student"
   ]
  },
  {
   "cell_type": "code",
   "execution_count": 52,
   "id": "76a8b01c",
   "metadata": {},
   "outputs": [
    {
     "data": {
      "text/plain": [
       "STUDENTID\n",
       "67757     414\n",
       "71274     270\n",
       "70704     265\n",
       "77101     240\n",
       "193393    229\n",
       "177565    218\n",
       "158695    215\n",
       "72326     210\n",
       "70736     208\n",
       "69026     205\n",
       "80080     203\n",
       "72500     202\n",
       "164448    195\n",
       "77334     194\n",
       "100327    191\n",
       "219282    188\n",
       "79227     187\n",
       "66991     187\n",
       "182795    187\n",
       "75599     186\n",
       "Name: PRESENCE_STATUS_CD, dtype: int64"
      ]
     },
     "execution_count": 52,
     "metadata": {},
     "output_type": "execute_result"
    },
    {
     "data": {
      "application/javascript": [
       "\n",
       "            setTimeout(function() {\n",
       "                var nbb_cell_id = 52;\n",
       "                var nbb_unformatted_code = \"top_20_absent_count_student\";\n",
       "                var nbb_formatted_code = \"top_20_absent_count_student\";\n",
       "                var nbb_cells = Jupyter.notebook.get_cells();\n",
       "                for (var i = 0; i < nbb_cells.length; ++i) {\n",
       "                    if (nbb_cells[i].input_prompt_number == nbb_cell_id) {\n",
       "                        if (nbb_cells[i].get_text() == nbb_unformatted_code) {\n",
       "                             nbb_cells[i].set_text(nbb_formatted_code);\n",
       "                        }\n",
       "                        break;\n",
       "                    }\n",
       "                }\n",
       "            }, 500);\n",
       "            "
      ],
      "text/plain": [
       "<IPython.core.display.Javascript object>"
      ]
     },
     "metadata": {},
     "output_type": "display_data"
    }
   ],
   "source": [
    "top_20_absent_count_student"
   ]
  },
  {
   "cell_type": "code",
   "execution_count": 53,
   "id": "bae207a5",
   "metadata": {},
   "outputs": [
    {
     "data": {
      "application/javascript": [
       "\n",
       "            setTimeout(function() {\n",
       "                var nbb_cell_id = 53;\n",
       "                var nbb_unformatted_code = \"df_heatmap = (\\n    df_grade_2019_12_Absent.groupby([\\\"STUDENTID\\\", \\\"PERIODNAME\\\"]).count()[\\n        \\\"PRESENCE_STATUS_CD\\\"\\n    ]\\n).unstack()\";\n",
       "                var nbb_formatted_code = \"df_heatmap = (\\n    df_grade_2019_12_Absent.groupby([\\\"STUDENTID\\\", \\\"PERIODNAME\\\"]).count()[\\n        \\\"PRESENCE_STATUS_CD\\\"\\n    ]\\n).unstack()\";\n",
       "                var nbb_cells = Jupyter.notebook.get_cells();\n",
       "                for (var i = 0; i < nbb_cells.length; ++i) {\n",
       "                    if (nbb_cells[i].input_prompt_number == nbb_cell_id) {\n",
       "                        if (nbb_cells[i].get_text() == nbb_unformatted_code) {\n",
       "                             nbb_cells[i].set_text(nbb_formatted_code);\n",
       "                        }\n",
       "                        break;\n",
       "                    }\n",
       "                }\n",
       "            }, 500);\n",
       "            "
      ],
      "text/plain": [
       "<IPython.core.display.Javascript object>"
      ]
     },
     "metadata": {},
     "output_type": "display_data"
    }
   ],
   "source": [
    "df_heatmap = (\n",
    "    df_grade_2019_12_Absent.groupby([\"STUDENTID\", \"PERIODNAME\"]).count()[\n",
    "        \"PRESENCE_STATUS_CD\"\n",
    "    ]\n",
    ").unstack()"
   ]
  },
  {
   "cell_type": "code",
   "execution_count": 54,
   "id": "dd621505",
   "metadata": {},
   "outputs": [
    {
     "data": {
      "text/html": [
       "<div>\n",
       "<style scoped>\n",
       "    .dataframe tbody tr th:only-of-type {\n",
       "        vertical-align: middle;\n",
       "    }\n",
       "\n",
       "    .dataframe tbody tr th {\n",
       "        vertical-align: top;\n",
       "    }\n",
       "\n",
       "    .dataframe thead th {\n",
       "        text-align: right;\n",
       "    }\n",
       "</style>\n",
       "<table border=\"1\" class=\"dataframe\">\n",
       "  <thead>\n",
       "    <tr style=\"text-align: right;\">\n",
       "      <th>PERIODNAME</th>\n",
       "      <th>1</th>\n",
       "      <th>2</th>\n",
       "      <th>3</th>\n",
       "      <th>4</th>\n",
       "      <th>5</th>\n",
       "      <th>7</th>\n",
       "      <th>99</th>\n",
       "      <th>1</th>\n",
       "      <th>2</th>\n",
       "      <th>3</th>\n",
       "      <th>4</th>\n",
       "      <th>5</th>\n",
       "      <th>7</th>\n",
       "      <th>99</th>\n",
       "    </tr>\n",
       "    <tr>\n",
       "      <th>STUDENTID</th>\n",
       "      <th></th>\n",
       "      <th></th>\n",
       "      <th></th>\n",
       "      <th></th>\n",
       "      <th></th>\n",
       "      <th></th>\n",
       "      <th></th>\n",
       "      <th></th>\n",
       "      <th></th>\n",
       "      <th></th>\n",
       "      <th></th>\n",
       "      <th></th>\n",
       "      <th></th>\n",
       "      <th></th>\n",
       "    </tr>\n",
       "  </thead>\n",
       "  <tbody>\n",
       "    <tr>\n",
       "      <th>54312</th>\n",
       "      <td>11.0</td>\n",
       "      <td>5.0</td>\n",
       "      <td>8.0</td>\n",
       "      <td>11.0</td>\n",
       "      <td>NaN</td>\n",
       "      <td>NaN</td>\n",
       "      <td>NaN</td>\n",
       "      <td>1.0</td>\n",
       "      <td>1.0</td>\n",
       "      <td>1.0</td>\n",
       "      <td>1.0</td>\n",
       "      <td>NaN</td>\n",
       "      <td>NaN</td>\n",
       "      <td>NaN</td>\n",
       "    </tr>\n",
       "    <tr>\n",
       "      <th>54313</th>\n",
       "      <td>NaN</td>\n",
       "      <td>5.0</td>\n",
       "      <td>NaN</td>\n",
       "      <td>NaN</td>\n",
       "      <td>NaN</td>\n",
       "      <td>NaN</td>\n",
       "      <td>NaN</td>\n",
       "      <td>1.0</td>\n",
       "      <td>1.0</td>\n",
       "      <td>NaN</td>\n",
       "      <td>NaN</td>\n",
       "      <td>NaN</td>\n",
       "      <td>NaN</td>\n",
       "      <td>NaN</td>\n",
       "    </tr>\n",
       "    <tr>\n",
       "      <th>54315</th>\n",
       "      <td>11.0</td>\n",
       "      <td>10.0</td>\n",
       "      <td>9.0</td>\n",
       "      <td>9.0</td>\n",
       "      <td>NaN</td>\n",
       "      <td>NaN</td>\n",
       "      <td>NaN</td>\n",
       "      <td>NaN</td>\n",
       "      <td>NaN</td>\n",
       "      <td>1.0</td>\n",
       "      <td>NaN</td>\n",
       "      <td>NaN</td>\n",
       "      <td>NaN</td>\n",
       "      <td>NaN</td>\n",
       "    </tr>\n",
       "    <tr>\n",
       "      <th>54346</th>\n",
       "      <td>16.0</td>\n",
       "      <td>14.0</td>\n",
       "      <td>12.0</td>\n",
       "      <td>NaN</td>\n",
       "      <td>NaN</td>\n",
       "      <td>NaN</td>\n",
       "      <td>NaN</td>\n",
       "      <td>16.0</td>\n",
       "      <td>10.0</td>\n",
       "      <td>14.0</td>\n",
       "      <td>NaN</td>\n",
       "      <td>NaN</td>\n",
       "      <td>NaN</td>\n",
       "      <td>NaN</td>\n",
       "    </tr>\n",
       "    <tr>\n",
       "      <th>54477</th>\n",
       "      <td>1.0</td>\n",
       "      <td>3.0</td>\n",
       "      <td>1.0</td>\n",
       "      <td>2.0</td>\n",
       "      <td>NaN</td>\n",
       "      <td>NaN</td>\n",
       "      <td>NaN</td>\n",
       "      <td>NaN</td>\n",
       "      <td>NaN</td>\n",
       "      <td>NaN</td>\n",
       "      <td>NaN</td>\n",
       "      <td>NaN</td>\n",
       "      <td>NaN</td>\n",
       "      <td>NaN</td>\n",
       "    </tr>\n",
       "    <tr>\n",
       "      <th>...</th>\n",
       "      <td>...</td>\n",
       "      <td>...</td>\n",
       "      <td>...</td>\n",
       "      <td>...</td>\n",
       "      <td>...</td>\n",
       "      <td>...</td>\n",
       "      <td>...</td>\n",
       "      <td>...</td>\n",
       "      <td>...</td>\n",
       "      <td>...</td>\n",
       "      <td>...</td>\n",
       "      <td>...</td>\n",
       "      <td>...</td>\n",
       "      <td>...</td>\n",
       "    </tr>\n",
       "    <tr>\n",
       "      <th>232625</th>\n",
       "      <td>2.0</td>\n",
       "      <td>2.0</td>\n",
       "      <td>NaN</td>\n",
       "      <td>2.0</td>\n",
       "      <td>NaN</td>\n",
       "      <td>NaN</td>\n",
       "      <td>NaN</td>\n",
       "      <td>2.0</td>\n",
       "      <td>NaN</td>\n",
       "      <td>1.0</td>\n",
       "      <td>NaN</td>\n",
       "      <td>NaN</td>\n",
       "      <td>NaN</td>\n",
       "      <td>NaN</td>\n",
       "    </tr>\n",
       "    <tr>\n",
       "      <th>232679</th>\n",
       "      <td>1.0</td>\n",
       "      <td>1.0</td>\n",
       "      <td>NaN</td>\n",
       "      <td>NaN</td>\n",
       "      <td>NaN</td>\n",
       "      <td>NaN</td>\n",
       "      <td>NaN</td>\n",
       "      <td>1.0</td>\n",
       "      <td>NaN</td>\n",
       "      <td>NaN</td>\n",
       "      <td>NaN</td>\n",
       "      <td>NaN</td>\n",
       "      <td>NaN</td>\n",
       "      <td>NaN</td>\n",
       "    </tr>\n",
       "    <tr>\n",
       "      <th>233011</th>\n",
       "      <td>NaN</td>\n",
       "      <td>1.0</td>\n",
       "      <td>2.0</td>\n",
       "      <td>NaN</td>\n",
       "      <td>NaN</td>\n",
       "      <td>NaN</td>\n",
       "      <td>NaN</td>\n",
       "      <td>NaN</td>\n",
       "      <td>NaN</td>\n",
       "      <td>NaN</td>\n",
       "      <td>NaN</td>\n",
       "      <td>NaN</td>\n",
       "      <td>NaN</td>\n",
       "      <td>NaN</td>\n",
       "    </tr>\n",
       "    <tr>\n",
       "      <th>233037</th>\n",
       "      <td>NaN</td>\n",
       "      <td>NaN</td>\n",
       "      <td>NaN</td>\n",
       "      <td>1.0</td>\n",
       "      <td>NaN</td>\n",
       "      <td>NaN</td>\n",
       "      <td>NaN</td>\n",
       "      <td>2.0</td>\n",
       "      <td>3.0</td>\n",
       "      <td>NaN</td>\n",
       "      <td>NaN</td>\n",
       "      <td>NaN</td>\n",
       "      <td>NaN</td>\n",
       "      <td>NaN</td>\n",
       "    </tr>\n",
       "    <tr>\n",
       "      <th>233359</th>\n",
       "      <td>1.0</td>\n",
       "      <td>1.0</td>\n",
       "      <td>NaN</td>\n",
       "      <td>4.0</td>\n",
       "      <td>NaN</td>\n",
       "      <td>NaN</td>\n",
       "      <td>NaN</td>\n",
       "      <td>NaN</td>\n",
       "      <td>NaN</td>\n",
       "      <td>NaN</td>\n",
       "      <td>NaN</td>\n",
       "      <td>NaN</td>\n",
       "      <td>NaN</td>\n",
       "      <td>NaN</td>\n",
       "    </tr>\n",
       "  </tbody>\n",
       "</table>\n",
       "<p>6230 rows × 14 columns</p>\n",
       "</div>"
      ],
      "text/plain": [
       "PERIODNAME     1     2     3     4   5   7  99     1     2     3    4   5   7  \\\n",
       "STUDENTID                                                                       \n",
       "54312       11.0   5.0   8.0  11.0 NaN NaN NaN   1.0   1.0   1.0  1.0 NaN NaN   \n",
       "54313        NaN   5.0   NaN   NaN NaN NaN NaN   1.0   1.0   NaN  NaN NaN NaN   \n",
       "54315       11.0  10.0   9.0   9.0 NaN NaN NaN   NaN   NaN   1.0  NaN NaN NaN   \n",
       "54346       16.0  14.0  12.0   NaN NaN NaN NaN  16.0  10.0  14.0  NaN NaN NaN   \n",
       "54477        1.0   3.0   1.0   2.0 NaN NaN NaN   NaN   NaN   NaN  NaN NaN NaN   \n",
       "...          ...   ...   ...   ...  ..  ..  ..   ...   ...   ...  ...  ..  ..   \n",
       "232625       2.0   2.0   NaN   2.0 NaN NaN NaN   2.0   NaN   1.0  NaN NaN NaN   \n",
       "232679       1.0   1.0   NaN   NaN NaN NaN NaN   1.0   NaN   NaN  NaN NaN NaN   \n",
       "233011       NaN   1.0   2.0   NaN NaN NaN NaN   NaN   NaN   NaN  NaN NaN NaN   \n",
       "233037       NaN   NaN   NaN   1.0 NaN NaN NaN   2.0   3.0   NaN  NaN NaN NaN   \n",
       "233359       1.0   1.0   NaN   4.0 NaN NaN NaN   NaN   NaN   NaN  NaN NaN NaN   \n",
       "\n",
       "PERIODNAME  99  \n",
       "STUDENTID       \n",
       "54312      NaN  \n",
       "54313      NaN  \n",
       "54315      NaN  \n",
       "54346      NaN  \n",
       "54477      NaN  \n",
       "...         ..  \n",
       "232625     NaN  \n",
       "232679     NaN  \n",
       "233011     NaN  \n",
       "233037     NaN  \n",
       "233359     NaN  \n",
       "\n",
       "[6230 rows x 14 columns]"
      ]
     },
     "execution_count": 54,
     "metadata": {},
     "output_type": "execute_result"
    },
    {
     "data": {
      "application/javascript": [
       "\n",
       "            setTimeout(function() {\n",
       "                var nbb_cell_id = 54;\n",
       "                var nbb_unformatted_code = \"df_heatmap\";\n",
       "                var nbb_formatted_code = \"df_heatmap\";\n",
       "                var nbb_cells = Jupyter.notebook.get_cells();\n",
       "                for (var i = 0; i < nbb_cells.length; ++i) {\n",
       "                    if (nbb_cells[i].input_prompt_number == nbb_cell_id) {\n",
       "                        if (nbb_cells[i].get_text() == nbb_unformatted_code) {\n",
       "                             nbb_cells[i].set_text(nbb_formatted_code);\n",
       "                        }\n",
       "                        break;\n",
       "                    }\n",
       "                }\n",
       "            }, 500);\n",
       "            "
      ],
      "text/plain": [
       "<IPython.core.display.Javascript object>"
      ]
     },
     "metadata": {},
     "output_type": "display_data"
    }
   ],
   "source": [
    "df_heatmap"
   ]
  },
  {
   "cell_type": "code",
   "execution_count": null,
   "id": "df3eeddc",
   "metadata": {},
   "outputs": [],
   "source": []
  },
  {
   "cell_type": "code",
   "execution_count": null,
   "id": "a62ff7e7",
   "metadata": {},
   "outputs": [],
   "source": []
  },
  {
   "cell_type": "code",
   "execution_count": null,
   "id": "2cf44ef9",
   "metadata": {},
   "outputs": [],
   "source": []
  },
  {
   "cell_type": "code",
   "execution_count": null,
   "id": "df634e38",
   "metadata": {},
   "outputs": [],
   "source": []
  },
  {
   "cell_type": "code",
   "execution_count": null,
   "id": "a88f6186",
   "metadata": {},
   "outputs": [],
   "source": []
  },
  {
   "cell_type": "code",
   "execution_count": null,
   "id": "e82de4aa",
   "metadata": {},
   "outputs": [],
   "source": []
  },
  {
   "cell_type": "code",
   "execution_count": null,
   "id": "99ec66c5",
   "metadata": {},
   "outputs": [],
   "source": []
  },
  {
   "cell_type": "code",
   "execution_count": null,
   "id": "dff24692",
   "metadata": {},
   "outputs": [],
   "source": []
  }
 ],
 "metadata": {
  "kernelspec": {
   "display_name": "Python 3 (ipykernel)",
   "language": "python",
   "name": "python3"
  },
  "language_info": {
   "codemirror_mode": {
    "name": "ipython",
    "version": 3
   },
   "file_extension": ".py",
   "mimetype": "text/x-python",
   "name": "python",
   "nbconvert_exporter": "python",
   "pygments_lexer": "ipython3",
   "version": "3.9.7"
  }
 },
 "nbformat": 4,
 "nbformat_minor": 5
}
