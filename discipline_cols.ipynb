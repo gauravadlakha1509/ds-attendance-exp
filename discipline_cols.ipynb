{
 "cells": [
  {
   "cell_type": "code",
   "execution_count": 1,
   "metadata": {},
   "outputs": [],
   "source": [
    "# Importing the libraries\n",
    "import numpy as np\n",
    "import pandas as pd\n",
    "import matplotlib.pyplot as plt\n",
    "import seaborn as sns\n",
    "%matplotlib inline"
   ]
  },
  {
   "cell_type": "code",
   "execution_count": 2,
   "metadata": {},
   "outputs": [
    {
     "name": "stdout",
     "output_type": "stream",
     "text": [
      "Shape of dataset: (311942, 17)\n",
      "\n"
     ]
    },
    {
     "data": {
      "text/html": [
       "<div>\n",
       "<style scoped>\n",
       "    .dataframe tbody tr th:only-of-type {\n",
       "        vertical-align: middle;\n",
       "    }\n",
       "\n",
       "    .dataframe tbody tr th {\n",
       "        vertical-align: top;\n",
       "    }\n",
       "\n",
       "    .dataframe thead th {\n",
       "        text-align: right;\n",
       "    }\n",
       "</style>\n",
       "<table border=\"1\" class=\"dataframe\">\n",
       "  <thead>\n",
       "    <tr style=\"text-align: right;\">\n",
       "      <th></th>\n",
       "      <th>STUDENTID</th>\n",
       "      <th>INCIDENT_ID</th>\n",
       "      <th>INCIDENT_CATEGORY</th>\n",
       "      <th>OFFENSE_DATE</th>\n",
       "      <th>SCHOOL_NUMBER</th>\n",
       "      <th>STUDENT_NUMBER</th>\n",
       "      <th>INCIDENT_TITLE</th>\n",
       "      <th>ACTION_PLAN_BEGIN_DT</th>\n",
       "      <th>ACTION_PLAN_END_DT</th>\n",
       "      <th>ACTION_RESOLVED_DESC</th>\n",
       "      <th>ACTION_DURATION_ASSIGNED</th>\n",
       "      <th>ACTION_DURATION_ACTUAL</th>\n",
       "      <th>ISS</th>\n",
       "      <th>OSS</th>\n",
       "      <th>REFERRAL</th>\n",
       "      <th>EXPULSION</th>\n",
       "      <th>DISTRICT_NAME</th>\n",
       "    </tr>\n",
       "  </thead>\n",
       "  <tbody>\n",
       "    <tr>\n",
       "      <th>0</th>\n",
       "      <td>143624</td>\n",
       "      <td>205050</td>\n",
       "      <td>Offender</td>\n",
       "      <td>2017-02-21</td>\n",
       "      <td>260322.0</td>\n",
       "      <td>1149685956</td>\n",
       "      <td>Fighting/Disruptive Behavior</td>\n",
       "      <td>2017-02-22 00:00:00.000</td>\n",
       "      <td>2017-02-24 00:00:00.000</td>\n",
       "      <td>OSS</td>\n",
       "      <td>3.0</td>\n",
       "      <td>3.0</td>\n",
       "      <td>0</td>\n",
       "      <td>1</td>\n",
       "      <td>0</td>\n",
       "      <td>0</td>\n",
       "      <td>Cumberland</td>\n",
       "    </tr>\n",
       "    <tr>\n",
       "      <th>1</th>\n",
       "      <td>143624</td>\n",
       "      <td>205050</td>\n",
       "      <td>Offender</td>\n",
       "      <td>2017-02-21</td>\n",
       "      <td>260322.0</td>\n",
       "      <td>1149685956</td>\n",
       "      <td>Fighting/Disruptive Behavior</td>\n",
       "      <td>NaN</td>\n",
       "      <td>NaN</td>\n",
       "      <td>conference setup with parent</td>\n",
       "      <td>NaN</td>\n",
       "      <td>NaN</td>\n",
       "      <td>0</td>\n",
       "      <td>0</td>\n",
       "      <td>1</td>\n",
       "      <td>0</td>\n",
       "      <td>Cumberland</td>\n",
       "    </tr>\n",
       "    <tr>\n",
       "      <th>2</th>\n",
       "      <td>143624</td>\n",
       "      <td>205050</td>\n",
       "      <td>Offender</td>\n",
       "      <td>2017-02-21</td>\n",
       "      <td>260322.0</td>\n",
       "      <td>1149685956</td>\n",
       "      <td>Fighting/Disruptive Behavior</td>\n",
       "      <td>NaN</td>\n",
       "      <td>NaN</td>\n",
       "      <td>conference setup with parent</td>\n",
       "      <td>NaN</td>\n",
       "      <td>NaN</td>\n",
       "      <td>0</td>\n",
       "      <td>0</td>\n",
       "      <td>1</td>\n",
       "      <td>0</td>\n",
       "      <td>Cumberland</td>\n",
       "    </tr>\n",
       "    <tr>\n",
       "      <th>3</th>\n",
       "      <td>143624</td>\n",
       "      <td>205050</td>\n",
       "      <td>Offender</td>\n",
       "      <td>2017-02-21</td>\n",
       "      <td>260322.0</td>\n",
       "      <td>1149685956</td>\n",
       "      <td>Fighting/Disruptive Behavior</td>\n",
       "      <td>2017-02-22 00:00:00.000</td>\n",
       "      <td>2017-02-24 00:00:00.000</td>\n",
       "      <td>OSS</td>\n",
       "      <td>3.0</td>\n",
       "      <td>3.0</td>\n",
       "      <td>0</td>\n",
       "      <td>1</td>\n",
       "      <td>0</td>\n",
       "      <td>0</td>\n",
       "      <td>Cumberland</td>\n",
       "    </tr>\n",
       "    <tr>\n",
       "      <th>4</th>\n",
       "      <td>143624</td>\n",
       "      <td>205050</td>\n",
       "      <td>Offender</td>\n",
       "      <td>2017-02-21</td>\n",
       "      <td>260322.0</td>\n",
       "      <td>1149685956</td>\n",
       "      <td>Fighting/Disruptive Behavior</td>\n",
       "      <td>2017-02-28 00:00:00.000</td>\n",
       "      <td>2017-02-28 00:00:00.000</td>\n",
       "      <td>ISS  (student was suspended and returned to sc...</td>\n",
       "      <td>1.0</td>\n",
       "      <td>1.0</td>\n",
       "      <td>1</td>\n",
       "      <td>0</td>\n",
       "      <td>1</td>\n",
       "      <td>0</td>\n",
       "      <td>Cumberland</td>\n",
       "    </tr>\n",
       "  </tbody>\n",
       "</table>\n",
       "</div>"
      ],
      "text/plain": [
       "   STUDENTID  INCIDENT_ID INCIDENT_CATEGORY OFFENSE_DATE  SCHOOL_NUMBER  \\\n",
       "0     143624       205050          Offender   2017-02-21       260322.0   \n",
       "1     143624       205050          Offender   2017-02-21       260322.0   \n",
       "2     143624       205050          Offender   2017-02-21       260322.0   \n",
       "3     143624       205050          Offender   2017-02-21       260322.0   \n",
       "4     143624       205050          Offender   2017-02-21       260322.0   \n",
       "\n",
       "   STUDENT_NUMBER                INCIDENT_TITLE     ACTION_PLAN_BEGIN_DT  \\\n",
       "0      1149685956  Fighting/Disruptive Behavior  2017-02-22 00:00:00.000   \n",
       "1      1149685956  Fighting/Disruptive Behavior                      NaN   \n",
       "2      1149685956  Fighting/Disruptive Behavior                      NaN   \n",
       "3      1149685956  Fighting/Disruptive Behavior  2017-02-22 00:00:00.000   \n",
       "4      1149685956  Fighting/Disruptive Behavior  2017-02-28 00:00:00.000   \n",
       "\n",
       "        ACTION_PLAN_END_DT                               ACTION_RESOLVED_DESC  \\\n",
       "0  2017-02-24 00:00:00.000                                                OSS   \n",
       "1                      NaN                       conference setup with parent   \n",
       "2                      NaN                       conference setup with parent   \n",
       "3  2017-02-24 00:00:00.000                                                OSS   \n",
       "4  2017-02-28 00:00:00.000  ISS  (student was suspended and returned to sc...   \n",
       "\n",
       "   ACTION_DURATION_ASSIGNED  ACTION_DURATION_ACTUAL  ISS  OSS  REFERRAL  \\\n",
       "0                       3.0                     3.0    0    1         0   \n",
       "1                       NaN                     NaN    0    0         1   \n",
       "2                       NaN                     NaN    0    0         1   \n",
       "3                       3.0                     3.0    0    1         0   \n",
       "4                       1.0                     1.0    1    0         1   \n",
       "\n",
       "   EXPULSION DISTRICT_NAME  \n",
       "0          0    Cumberland  \n",
       "1          0    Cumberland  \n",
       "2          0    Cumberland  \n",
       "3          0    Cumberland  \n",
       "4          0    Cumberland  "
      ]
     },
     "execution_count": 2,
     "metadata": {},
     "output_type": "execute_result"
    }
   ],
   "source": [
    "# read the csv file\n",
    "data = pd.read_csv('../data/discipline_data_cumberland.csv')\n",
    "print(f'Shape of dataset: {data.shape}\\n')\n",
    "data.head()"
   ]
  },
  {
   "cell_type": "code",
   "execution_count": 11,
   "metadata": {},
   "outputs": [
    {
     "name": "stdout",
     "output_type": "stream",
     "text": [
      "<class 'pandas.core.frame.DataFrame'>\n",
      "RangeIndex: 311942 entries, 0 to 311941\n",
      "Data columns (total 17 columns):\n",
      " #   Column                    Non-Null Count   Dtype  \n",
      "---  ------                    --------------   -----  \n",
      " 0   STUDENTID                 311942 non-null  int64  \n",
      " 1   INCIDENT_ID               311942 non-null  int64  \n",
      " 2   INCIDENT_CATEGORY         311942 non-null  object \n",
      " 3   OFFENSE_DATE              311942 non-null  object \n",
      " 4   SCHOOL_NUMBER             311569 non-null  float64\n",
      " 5   STUDENT_NUMBER            311942 non-null  int64  \n",
      " 6   INCIDENT_TITLE            311859 non-null  object \n",
      " 7   ACTION_PLAN_BEGIN_DT      169603 non-null  object \n",
      " 8   ACTION_PLAN_END_DT        169505 non-null  object \n",
      " 9   ACTION_RESOLVED_DESC      93271 non-null   object \n",
      " 10  ACTION_DURATION_ASSIGNED  169201 non-null  float64\n",
      " 11  ACTION_DURATION_ACTUAL    169203 non-null  float64\n",
      " 12  ISS                       311942 non-null  int64  \n",
      " 13  OSS                       311942 non-null  int64  \n",
      " 14  REFERRAL                  311942 non-null  int64  \n",
      " 15  EXPULSION                 311942 non-null  int64  \n",
      " 16  DISTRICT_NAME             311942 non-null  object \n",
      "dtypes: float64(3), int64(7), object(7)\n",
      "memory usage: 40.5+ MB\n"
     ]
    }
   ],
   "source": [
    "# Info on the dataset\n",
    "data.info()"
   ]
  },
  {
   "cell_type": "code",
   "execution_count": 26,
   "metadata": {},
   "outputs": [
    {
     "data": {
      "text/html": [
       "<div>\n",
       "<style scoped>\n",
       "    .dataframe tbody tr th:only-of-type {\n",
       "        vertical-align: middle;\n",
       "    }\n",
       "\n",
       "    .dataframe tbody tr th {\n",
       "        vertical-align: top;\n",
       "    }\n",
       "\n",
       "    .dataframe thead th {\n",
       "        text-align: right;\n",
       "    }\n",
       "</style>\n",
       "<table border=\"1\" class=\"dataframe\">\n",
       "  <thead>\n",
       "    <tr style=\"text-align: right;\">\n",
       "      <th></th>\n",
       "      <th>STUDENTID</th>\n",
       "      <th>INCIDENT_ID</th>\n",
       "      <th>SCHOOL_NUMBER</th>\n",
       "      <th>STUDENT_NUMBER</th>\n",
       "      <th>ACTION_DURATION_ASSIGNED</th>\n",
       "      <th>ACTION_DURATION_ACTUAL</th>\n",
       "      <th>ISS</th>\n",
       "      <th>OSS</th>\n",
       "      <th>REFERRAL</th>\n",
       "      <th>EXPULSION</th>\n",
       "    </tr>\n",
       "  </thead>\n",
       "  <tbody>\n",
       "    <tr>\n",
       "      <th>count</th>\n",
       "      <td>311942.000000</td>\n",
       "      <td>311942.000000</td>\n",
       "      <td>311569.000000</td>\n",
       "      <td>3.119420e+05</td>\n",
       "      <td>169201.000000</td>\n",
       "      <td>169203.000000</td>\n",
       "      <td>311942.000000</td>\n",
       "      <td>311942.000000</td>\n",
       "      <td>311942.000000</td>\n",
       "      <td>311942.000000</td>\n",
       "    </tr>\n",
       "    <tr>\n",
       "      <th>mean</th>\n",
       "      <td>97547.806240</td>\n",
       "      <td>160405.355810</td>\n",
       "      <td>260383.564716</td>\n",
       "      <td>7.607118e+08</td>\n",
       "      <td>3.175301</td>\n",
       "      <td>3.195652</td>\n",
       "      <td>0.063374</td>\n",
       "      <td>0.048297</td>\n",
       "      <td>0.063076</td>\n",
       "      <td>0.000013</td>\n",
       "    </tr>\n",
       "    <tr>\n",
       "      <th>std</th>\n",
       "      <td>39645.370695</td>\n",
       "      <td>92566.254562</td>\n",
       "      <td>44.345429</td>\n",
       "      <td>2.123480e+09</td>\n",
       "      <td>7.073659</td>\n",
       "      <td>7.082005</td>\n",
       "      <td>0.243635</td>\n",
       "      <td>0.214394</td>\n",
       "      <td>0.243100</td>\n",
       "      <td>0.003581</td>\n",
       "    </tr>\n",
       "    <tr>\n",
       "      <th>min</th>\n",
       "      <td>54303.000000</td>\n",
       "      <td>1000.000000</td>\n",
       "      <td>260302.000000</td>\n",
       "      <td>5.228100e+04</td>\n",
       "      <td>0.000000</td>\n",
       "      <td>0.000000</td>\n",
       "      <td>0.000000</td>\n",
       "      <td>0.000000</td>\n",
       "      <td>0.000000</td>\n",
       "      <td>0.000000</td>\n",
       "    </tr>\n",
       "    <tr>\n",
       "      <th>25%</th>\n",
       "      <td>70619.000000</td>\n",
       "      <td>76953.250000</td>\n",
       "      <td>260357.000000</td>\n",
       "      <td>7.609470e+05</td>\n",
       "      <td>1.000000</td>\n",
       "      <td>1.000000</td>\n",
       "      <td>0.000000</td>\n",
       "      <td>0.000000</td>\n",
       "      <td>0.000000</td>\n",
       "      <td>0.000000</td>\n",
       "    </tr>\n",
       "    <tr>\n",
       "      <th>50%</th>\n",
       "      <td>83442.000000</td>\n",
       "      <td>161442.000000</td>\n",
       "      <td>260374.000000</td>\n",
       "      <td>1.343807e+06</td>\n",
       "      <td>2.000000</td>\n",
       "      <td>2.000000</td>\n",
       "      <td>0.000000</td>\n",
       "      <td>0.000000</td>\n",
       "      <td>0.000000</td>\n",
       "      <td>0.000000</td>\n",
       "    </tr>\n",
       "    <tr>\n",
       "      <th>75%</th>\n",
       "      <td>109751.000000</td>\n",
       "      <td>248445.750000</td>\n",
       "      <td>260424.000000</td>\n",
       "      <td>1.228741e+07</td>\n",
       "      <td>3.000000</td>\n",
       "      <td>3.000000</td>\n",
       "      <td>0.000000</td>\n",
       "      <td>0.000000</td>\n",
       "      <td>0.000000</td>\n",
       "      <td>0.000000</td>\n",
       "    </tr>\n",
       "    <tr>\n",
       "      <th>max</th>\n",
       "      <td>248125.000000</td>\n",
       "      <td>322221.000000</td>\n",
       "      <td>260700.000000</td>\n",
       "      <td>9.989752e+09</td>\n",
       "      <td>365.000000</td>\n",
       "      <td>365.000000</td>\n",
       "      <td>1.000000</td>\n",
       "      <td>1.000000</td>\n",
       "      <td>1.000000</td>\n",
       "      <td>1.000000</td>\n",
       "    </tr>\n",
       "  </tbody>\n",
       "</table>\n",
       "</div>"
      ],
      "text/plain": [
       "           STUDENTID    INCIDENT_ID  SCHOOL_NUMBER  STUDENT_NUMBER  \\\n",
       "count  311942.000000  311942.000000  311569.000000    3.119420e+05   \n",
       "mean    97547.806240  160405.355810  260383.564716    7.607118e+08   \n",
       "std     39645.370695   92566.254562      44.345429    2.123480e+09   \n",
       "min     54303.000000    1000.000000  260302.000000    5.228100e+04   \n",
       "25%     70619.000000   76953.250000  260357.000000    7.609470e+05   \n",
       "50%     83442.000000  161442.000000  260374.000000    1.343807e+06   \n",
       "75%    109751.000000  248445.750000  260424.000000    1.228741e+07   \n",
       "max    248125.000000  322221.000000  260700.000000    9.989752e+09   \n",
       "\n",
       "       ACTION_DURATION_ASSIGNED  ACTION_DURATION_ACTUAL            ISS  \\\n",
       "count             169201.000000           169203.000000  311942.000000   \n",
       "mean                   3.175301                3.195652       0.063374   \n",
       "std                    7.073659                7.082005       0.243635   \n",
       "min                    0.000000                0.000000       0.000000   \n",
       "25%                    1.000000                1.000000       0.000000   \n",
       "50%                    2.000000                2.000000       0.000000   \n",
       "75%                    3.000000                3.000000       0.000000   \n",
       "max                  365.000000              365.000000       1.000000   \n",
       "\n",
       "                 OSS       REFERRAL      EXPULSION  \n",
       "count  311942.000000  311942.000000  311942.000000  \n",
       "mean        0.048297       0.063076       0.000013  \n",
       "std         0.214394       0.243100       0.003581  \n",
       "min         0.000000       0.000000       0.000000  \n",
       "25%         0.000000       0.000000       0.000000  \n",
       "50%         0.000000       0.000000       0.000000  \n",
       "75%         0.000000       0.000000       0.000000  \n",
       "max         1.000000       1.000000       1.000000  "
      ]
     },
     "execution_count": 26,
     "metadata": {},
     "output_type": "execute_result"
    }
   ],
   "source": [
    "data.describe()\n",
    "# not actually required, one thing we get here is on an avg the suspension time (number of days) is ~3days\n",
    "# This can be better understood when take up data for a year e.g 2017 and then see the min, avg and max\n",
    "# which can give some idea on continuos absentee."
   ]
  },
  {
   "cell_type": "code",
   "execution_count": 28,
   "metadata": {},
   "outputs": [
    {
     "data": {
      "text/plain": [
       "['STUDENTID',\n",
       " 'INCIDENT_ID',\n",
       " 'INCIDENT_CATEGORY',\n",
       " 'OFFENSE_DATE',\n",
       " 'SCHOOL_NUMBER',\n",
       " 'STUDENT_NUMBER',\n",
       " 'INCIDENT_TITLE',\n",
       " 'ACTION_PLAN_BEGIN_DT',\n",
       " 'ACTION_PLAN_END_DT',\n",
       " 'ACTION_RESOLVED_DESC',\n",
       " 'ACTION_DURATION_ASSIGNED',\n",
       " 'ACTION_DURATION_ACTUAL',\n",
       " 'ISS',\n",
       " 'OSS',\n",
       " 'REFERRAL',\n",
       " 'EXPULSION',\n",
       " 'DISTRICT_NAME']"
      ]
     },
     "execution_count": 28,
     "metadata": {},
     "output_type": "execute_result"
    }
   ],
   "source": [
    "# Looking at each column and inferring if we want that in our final df or not.\n",
    "data.columns.to_list()"
   ]
  },
  {
   "cell_type": "code",
   "execution_count": 40,
   "metadata": {},
   "outputs": [
    {
     "name": "stdout",
     "output_type": "stream",
     "text": [
      "dType: object\n",
      "\n",
      "Categories If any? ['Offender']\n",
      "\n",
      "Missing Values?: 0\n"
     ]
    }
   ],
   "source": [
    "# 'INCIDENT_CATEGORY'\n",
    "print(f'dType: {data.INCIDENT_CATEGORY.dtype}\\n')\n",
    "print(f'Categories If any? {data.INCIDENT_CATEGORY.unique()}\\n')\n",
    "print(f'Missing Values?: {data.INCIDENT_CATEGORY.isnull().sum()}')"
   ]
  },
  {
   "cell_type": "markdown",
   "metadata": {},
   "source": [
    "The whole column is of 'Offenders' and doesn't make any difference here, but this may be needed when we merge with actual attendance df. This column can be label encoded with offenders as '1' and non offenders as '0'. This as feature in finalDF may have a good impact on model to learn that if offender the probability of being absent is high."
   ]
  },
  {
   "cell_type": "code",
   "execution_count": 75,
   "metadata": {},
   "outputs": [
    {
     "name": "stdout",
     "output_type": "stream",
     "text": [
      "dType: float64\n",
      "\n",
      "Categories If any? \n",
      "[260322. 260372. 260454. 260449. 260446. 260365. 260358. 260368. 260413.\n",
      " 260383. 260401. 260455. 260369. 260326. 260408. 260440. 260318. 260321.\n",
      " 260325. 260412. 260374. 260424. 260414. 260306. 260336. 260402. 260452.\n",
      " 260425. 260338. 260428. 260419. 260386. 260427. 260417. 260359. 260354.\n",
      " 260410. 260403. 260406. 260380. 260396. 260342. 260373. 260362. 260310.\n",
      " 260459. 260430. 260415. 260418. 260367. 260352. 260404. 260426. 260363.\n",
      " 260434. 260450. 260348. 260370. 260366. 260361. 260407. 260411. 260340.\n",
      " 260357. 260398. 260375. 260371. 260382. 260316. 260397. 260388. 260347.\n",
      " 260320. 260302. 260364. 260344. 260356. 260332. 260308. 260400. 260444.\n",
      " 260312. 260448. 260405. 260432. 260416. 260700. 260456.     nan]\n",
      "\n",
      "Missing Values?: 373\n"
     ]
    }
   ],
   "source": [
    "# SCHOOL_NUMBER\n",
    "print(f'dType: {data.SCHOOL_NUMBER.dtype}\\n')\n",
    "print(f'Categories If any? \\n{data.SCHOOL_NUMBER.unique()}\\n')\n",
    "print(f'Missing Values?: {data.SCHOOL_NUMBER.isnull().sum()}')"
   ]
  },
  {
   "cell_type": "code",
   "execution_count": 77,
   "metadata": {},
   "outputs": [
    {
     "name": "stdout",
     "output_type": "stream",
     "text": [
      "dType: object\n",
      "\n",
      "Categories If any? \n",
      "['Fighting/Disruptive Behavior' 'Bus Misbehavior'\n",
      " 'Insubordination | Fighting' ...\n",
      " 'Class II ( Disruptive Behavior & Disorderly Conduct) Class I '\n",
      " '1 ISS Day' 'Inappropriate Language/ Disrespect, Disruptive Behavior w ']\n",
      "\n",
      "Num of Categories \n",
      "18763\n",
      "\n",
      "Missing Values?: 83\n"
     ]
    }
   ],
   "source": [
    "# INCIDENT_TITLE\n",
    "print(f'dType: {data.INCIDENT_TITLE.dtype}\\n')\n",
    "print(f'Categories If any? \\n{data.INCIDENT_TITLE.unique()}\\n')\n",
    "print(f'Num of Categories \\n{data.INCIDENT_TITLE.nunique()}\\n')\n",
    "print(f'Missing Values?: {data.INCIDENT_TITLE.isnull().sum()}')"
   ]
  },
  {
   "cell_type": "markdown",
   "metadata": {},
   "source": [
    "The type of Incident Title may direct to number of days suspended, which can lead to num of days absent.\n",
    "We may take a look at INCIDENT_ID and INCIDENT_TITLE, if ID can give a insight on number of days suspended then we can skip the title which (actually/may) correspond to respective ID"
   ]
  },
  {
   "cell_type": "code",
   "execution_count": 90,
   "metadata": {},
   "outputs": [
    {
     "name": "stdout",
     "output_type": "stream",
     "text": [
      "dType: int64\n",
      "\n",
      "Categories If any? \n",
      "[205050 202841 204331 ... 205729 205025 205033]\n",
      "\n",
      "Num of Categories \n",
      "194279\n",
      "\n",
      "value counts: \n",
      "85838     361\n",
      "148431    288\n",
      "285742    279\n",
      "143809    196\n",
      "139068    169\n",
      "         ... \n",
      "16543       1\n",
      "16551       1\n",
      "16582       1\n",
      "16584       1\n",
      "205033      1\n",
      "Name: INCIDENT_ID, Length: 194279, dtype: int64\n",
      "\n",
      "Missing Values?: 0\n"
     ]
    }
   ],
   "source": [
    "# INCIDENT_ID\n",
    "print(f'dType: {data.INCIDENT_ID.dtype}\\n')\n",
    "print(f'Categories If any? \\n{data.INCIDENT_ID.unique()}\\n')\n",
    "print(f'Num of Categories \\n{data.INCIDENT_ID.nunique()}\\n')\n",
    "print(f'value counts: \\n{data.INCIDENT_ID.value_counts()}\\n')\n",
    "print(f'Missing Values?: {data.INCIDENT_ID.isnull().sum()}')"
   ]
  },
  {
   "cell_type": "markdown",
   "metadata": {},
   "source": [
    "There are many categories of Incidents with ID '85838' being max which is Bus Misbehaviour, but number of suspension days ranges from 1 to 30. So this might not be a good idea get insight on Incident ID and Title. We can actually skip these cols"
   ]
  },
  {
   "cell_type": "code",
   "execution_count": 105,
   "metadata": {},
   "outputs": [
    {
     "name": "stdout",
     "output_type": "stream",
     "text": [
      "dType: object\n",
      "\n",
      "Categories If any? \n",
      "['2017-02-22 00:00:00.000' nan '2017-02-28 00:00:00.000' ...\n",
      " '2016-10-11 00:00:00.000' '2016-10-12 00:00:00.000'\n",
      " '2017-01-30 00:00:00.000']\n",
      "\n",
      "Num of Categories \n",
      "3120\n",
      "\n",
      "Missing Values?: 142339\n"
     ]
    }
   ],
   "source": [
    "# ACTION_PLAN_BEGIN_DT\n",
    "print(f'dType: {data.ACTION_PLAN_BEGIN_DT.dtype}\\n')\n",
    "print(f'Categories If any? \\n{data.ACTION_PLAN_BEGIN_DT.unique()}\\n')\n",
    "print(f'Num of Categories \\n{data.ACTION_PLAN_BEGIN_DT.nunique()}\\n')\n",
    "print(f'Missing Values?: {data.ACTION_PLAN_BEGIN_DT.isnull().sum()}')"
   ]
  },
  {
   "cell_type": "code",
   "execution_count": 106,
   "metadata": {},
   "outputs": [
    {
     "name": "stdout",
     "output_type": "stream",
     "text": [
      "dType: object\n",
      "\n",
      "Categories If any? \n",
      "['2017-02-24 00:00:00.000' nan '2017-02-28 00:00:00.000' ...\n",
      " '2016-10-13 00:00:00.000' '2016-10-14 00:00:00.000'\n",
      " '2017-01-30 00:00:00.000']\n",
      "\n",
      "Num of Categories \n",
      "3144\n",
      "\n",
      "Missing Values?: 142437\n"
     ]
    }
   ],
   "source": [
    "# ACTION_PLAN_END_DT\n",
    "print(f'dType: {data.ACTION_PLAN_END_DT.dtype}\\n')\n",
    "print(f'Categories If any? \\n{data.ACTION_PLAN_END_DT.unique()}\\n')\n",
    "print(f'Num of Categories \\n{data.ACTION_PLAN_END_DT.nunique()}\\n')\n",
    "print(f'Missing Values?: {data.ACTION_PLAN_END_DT.isnull().sum()}')"
   ]
  },
  {
   "cell_type": "markdown",
   "metadata": {},
   "source": [
    "Both the above cols Action plan begin and end dates have lots of missing cols and can be dropped, the data here is also just the occurance date and end date. If we subtract we can get num of days suspended(absent), but since it has lot of NaN's and for now can be dropped."
   ]
  },
  {
   "cell_type": "code",
   "execution_count": 107,
   "metadata": {},
   "outputs": [
    {
     "name": "stdout",
     "output_type": "stream",
     "text": [
      "dType: object\n",
      "\n",
      "Categories If any? \n",
      "['OSS' 'conference setup with parent'\n",
      " 'ISS  (student was suspended and returned to school with a parent conference)'\n",
      " ... '3 days suspended OSS.'\n",
      " '3 days of ISS for 2nd period only: 2/24, 2/27, 2/28'\n",
      " 'HJearing set with parent']\n",
      "\n",
      "Num of Categories \n",
      "26053\n",
      "\n",
      "value counts: \n",
      "OSS                                                                                                                 6430\n",
      "ISS                                                                                                                 3666\n",
      "2 days ISS                                                                                                          1834\n",
      "Student was coached on their behavior and improvement moving forward.                                               1761\n",
      "Suspended                                                                                                           1699\n",
      "                                                                                                                    ... \n",
      "ISS given for 3 days                                                                                                   1\n",
      "Assigned to Pauline Jones MS until the end of the 1st semester                                                         1\n",
      "student was given a warning and bus suspension will result result if behavior does not improve                         1\n",
      "Conferenced with student about bus expectations and further inappropriate behavior will result in bus suspension       1\n",
      "HJearing set with parent                                                                                               1\n",
      "Name: ACTION_RESOLVED_DESC, Length: 26053, dtype: int64\n",
      "\n",
      "Missing Values?: 218671\n"
     ]
    }
   ],
   "source": [
    "# ACTION_RESOLVED_DESC\n",
    "print(f'dType: {data.ACTION_RESOLVED_DESC.dtype}\\n')\n",
    "print(f'Categories If any? \\n{data.ACTION_RESOLVED_DESC.unique()}\\n')\n",
    "print(f'Num of Categories \\n{data.ACTION_RESOLVED_DESC.nunique()}\\n')\n",
    "print(f'value counts: \\n{data.ACTION_RESOLVED_DESC.value_counts()}\\n')\n",
    "print(f'Missing Values?: {data.ACTION_RESOLVED_DESC.isnull().sum()}')"
   ]
  },
  {
   "cell_type": "markdown",
   "metadata": {},
   "source": [
    "This Col basically gives the description of the Incident, Has more than half NaN's and when we refine down there are 3 types of desc [ISS, OSS, Reference]. These 3 are present as separate cols in the dataset(just like ont hot encodings of the 3 desc), so If desc is not important then we can drop this col and use the next 3 cols."
   ]
  },
  {
   "cell_type": "code",
   "execution_count": 135,
   "metadata": {},
   "outputs": [
    {
     "name": "stdout",
     "output_type": "stream",
     "text": [
      "dType: int64\n",
      "\n",
      "Categories If any? \n",
      "[0 1]\n",
      "\n",
      "Num of Categories \n",
      "2\n",
      "\n",
      "value counts: \n",
      "0    292173\n",
      "1     19769\n",
      "Name: ISS, dtype: int64\n",
      "\n",
      "Missing Values?: 0\n"
     ]
    }
   ],
   "source": [
    "# ISS\n",
    "print(f'dType: {data.ISS.dtype}\\n')\n",
    "print(f'Categories If any? \\n{data.ISS.unique()}\\n')\n",
    "print(f'Num of Categories \\n{data.ISS.nunique()}\\n')\n",
    "print(f'value counts: \\n{data.ISS.value_counts()}\\n')\n",
    "print(f'Missing Values?: {data.ISS.isnull().sum()}')"
   ]
  },
  {
   "cell_type": "code",
   "execution_count": 134,
   "metadata": {},
   "outputs": [
    {
     "name": "stdout",
     "output_type": "stream",
     "text": [
      "dType: int64\n",
      "\n",
      "Categories If any? \n",
      "[1 0]\n",
      "\n",
      "Num of Categories \n",
      "2\n",
      "\n",
      "value counts: \n",
      "0    296876\n",
      "1     15066\n",
      "Name: OSS, dtype: int64\n",
      "\n",
      "Missing Values?: 0\n"
     ]
    }
   ],
   "source": [
    "# OSS\n",
    "print(f'dType: {data.OSS.dtype}\\n')\n",
    "print(f'Categories If any? \\n{data.OSS.unique()}\\n')\n",
    "print(f'Num of Categories \\n{data.OSS.nunique()}\\n')\n",
    "print(f'value counts: \\n{data.OSS.value_counts()}\\n')\n",
    "print(f'Missing Values?: {data.OSS.isnull().sum()}')"
   ]
  },
  {
   "cell_type": "code",
   "execution_count": 124,
   "metadata": {},
   "outputs": [
    {
     "name": "stdout",
     "output_type": "stream",
     "text": [
      "dType: int64\n",
      "\n",
      "Categories If any? \n",
      "[0 1]\n",
      "\n",
      "Num of Categories \n",
      "2\n",
      "\n",
      "value counts: \n",
      "0    311938\n",
      "1         4\n",
      "Name: EXPULSION, dtype: int64\n",
      "\n",
      "Missing Values?: 0\n"
     ]
    }
   ],
   "source": [
    "# EXPULSION\n",
    "print(f'dType: {data.EXPULSION.dtype}\\n')\n",
    "print(f'Categories If any? \\n{data.EXPULSION.unique()}\\n')\n",
    "print(f'Num of Categories \\n{data.EXPULSION.nunique()}\\n')\n",
    "print(f'value counts: \\n{data.EXPULSION.value_counts()}\\n')\n",
    "print(f'Missing Values?: {data.EXPULSION.isnull().sum()}')"
   ]
  },
  {
   "cell_type": "code",
   "execution_count": 127,
   "metadata": {},
   "outputs": [
    {
     "data": {
      "text/plain": [
       "(array([  6476,  35001, 103694, 269026], dtype=int64),)"
      ]
     },
     "execution_count": 127,
     "metadata": {},
     "output_type": "execute_result"
    }
   ],
   "source": [
    "np.where(data.EXPULSION == 1)"
   ]
  },
  {
   "cell_type": "code",
   "execution_count": 133,
   "metadata": {},
   "outputs": [
    {
     "data": {
      "text/plain": [
       "STUDENTID                                                               68537\n",
       "INCIDENT_ID                                                            157379\n",
       "INCIDENT_CATEGORY                                                    Offender\n",
       "OFFENSE_DATE                                                       2016-02-19\n",
       "SCHOOL_NUMBER                                                        260449.0\n",
       "STUDENT_NUMBER                                                         305239\n",
       "INCIDENT_TITLE              Class III - Assault on School Personnel / Comm...\n",
       "ACTION_PLAN_BEGIN_DT                                  2016-02-19 00:00:00.000\n",
       "ACTION_PLAN_END_DT                                    2016-06-08 00:00:00.000\n",
       "ACTION_RESOLVED_DESC        5 Day OSS ( 2/19 - 2/25). Mr. Pinkney will spe...\n",
       "ACTION_DURATION_ASSIGNED                                                 72.0\n",
       "ACTION_DURATION_ACTUAL                                                   72.0\n",
       "ISS                                                                         0\n",
       "OSS                                                                         1\n",
       "REFERRAL                                                                    0\n",
       "EXPULSION                                                                   1\n",
       "DISTRICT_NAME                                                      Cumberland\n",
       "Name: 269026, dtype: object"
      ]
     },
     "execution_count": 133,
     "metadata": {},
     "output_type": "execute_result"
    }
   ],
   "source": [
    "data.iloc[269026]"
   ]
  },
  {
   "cell_type": "code",
   "execution_count": 138,
   "metadata": {},
   "outputs": [
    {
     "name": "stdout",
     "output_type": "stream",
     "text": [
      "dType: float64\n",
      "\n",
      "Num of Categories \n",
      "178\n",
      "\n",
      "value counts: \n",
      "2.0      59409\n",
      "3.0      40759\n",
      "1.0      37821\n",
      "5.0      10304\n",
      "10.0      7454\n",
      "         ...  \n",
      "1.1          1\n",
      "155.0        1\n",
      "80.0         1\n",
      "121.0        1\n",
      "168.0        1\n",
      "Name: ACTION_DURATION_ASSIGNED, Length: 178, dtype: int64\n",
      "\n",
      "Missing Values?: 142741\n"
     ]
    }
   ],
   "source": [
    "# ACTION_DURATION_ASSIGNED \n",
    "print(f'dType: {data.ACTION_DURATION_ASSIGNED .dtype}\\n')\n",
    "# print(f'Categories If any? \\n{data.ACTION_DURATION_ASSIGNED .unique()}\\n')\n",
    "print(f'Num of Categories \\n{data.ACTION_DURATION_ASSIGNED .nunique()}\\n')\n",
    "print(f'value counts: \\n{data.ACTION_DURATION_ASSIGNED .value_counts()}\\n')\n",
    "print(f'Missing Values?: {data.ACTION_DURATION_ASSIGNED .isnull().sum()}')"
   ]
  },
  {
   "cell_type": "code",
   "execution_count": 137,
   "metadata": {},
   "outputs": [
    {
     "name": "stdout",
     "output_type": "stream",
     "text": [
      "dType: float64\n",
      "\n",
      "Num of Categories \n",
      "178\n",
      "\n",
      "value counts: \n",
      "2.0      59003\n",
      "3.0      40554\n",
      "1.0      37795\n",
      "5.0      10500\n",
      "10.0      7684\n",
      "         ...  \n",
      "180.0        1\n",
      "82.0         1\n",
      "1.1          1\n",
      "147.0        1\n",
      "168.0        1\n",
      "Name: ACTION_DURATION_ACTUAL, Length: 178, dtype: int64\n",
      "\n",
      "Missing Values?: 142739\n"
     ]
    }
   ],
   "source": [
    "# ACTION_DURATION_ACTUAL\n",
    "print(f'dType: {data.ACTION_DURATION_ACTUAL.dtype}\\n')\n",
    "# print(f'Categories If any? \\n{data.ACTION_DURATION_ACTUAL.unique()}\\n')\n",
    "print(f'Num of Categories \\n{data.ACTION_DURATION_ACTUAL.nunique()}\\n')\n",
    "print(f'value counts: \\n{data.ACTION_DURATION_ACTUAL.value_counts()}\\n')\n",
    "print(f'Missing Values?: {data.ACTION_DURATION_ACTUAL.isnull().sum()}')"
   ]
  },
  {
   "cell_type": "markdown",
   "metadata": {},
   "source": [
    "The above two cols ACTION_DURATION_ASSIGNED and ACTION_DURATION_ACTUAL, gives info on number of days suspended and actual number of days suspension was served. The actual suspension gives a good idea on number of days absent when an incident is reported. So instead of using Assigned we can consider the ACTION_DURATION_ACTUAL col which gives number of days absent. But has almost ~50% NaNs."
   ]
  },
  {
   "cell_type": "markdown",
   "metadata": {},
   "source": [
    "### Cols In dataset\n",
    "'STUDENTID', 'INCIDENT_ID', 'INCIDENT_CATEGORY', 'OFFENSE_DATE', 'SCHOOL_NUMBER', 'STUDENT_NUMBER', 'INCIDENT_TITLE', 'ACTION_PLAN_BEGIN_DT', 'ACTION_PLAN_END_DT', 'ACTION_RESOLVED_DESC', 'ACTION_DURATION_ASSIGNED', 'ACTION_DURATION_ACTUAL', 'ISS', 'OSS', 'REFERRAL', 'EXPULSION', 'DISTRICT_NAME'\n",
    "\n",
    "### Cols needed for further analysis\n",
    "'STUDENTID', 'OFFENSE_DATE', 'ACTION_DURATION_ACTUAL', 'ISS', 'OSS', 'REFERRAL'\n",
    "\n",
    "### Cols can be dropped?\n",
    "'INCIDENT_ID', 'INCIDENT_CATEGORY', 'SCHOOL_NUMBER', 'STUDENT_NUMBER', 'INCIDENT_TITLE', 'ACTION_PLAN_BEGIN_DT', 'ACTION_PLAN_END_DT', 'ACTION_RESOLVED_DESC', 'ACTION_DURATION_ASSIGNED', 'EXPULSION', 'DISTRICT_NAME'"
   ]
  },
  {
   "cell_type": "code",
   "execution_count": 149,
   "metadata": {},
   "outputs": [
    {
     "name": "stdout",
     "output_type": "stream",
     "text": [
      "Shape of dataset: (311942, 6)\n",
      "\n",
      "Missing values in dataset: \n",
      "STUDENTID                      0\n",
      "OFFENSE_DATE                   0\n",
      "ACTION_DURATION_ACTUAL    142739\n",
      "ISS                            0\n",
      "OSS                            0\n",
      "REFERRAL                       0\n",
      "dtype: int64\n",
      "\n"
     ]
    },
    {
     "data": {
      "text/html": [
       "<div>\n",
       "<style scoped>\n",
       "    .dataframe tbody tr th:only-of-type {\n",
       "        vertical-align: middle;\n",
       "    }\n",
       "\n",
       "    .dataframe tbody tr th {\n",
       "        vertical-align: top;\n",
       "    }\n",
       "\n",
       "    .dataframe thead th {\n",
       "        text-align: right;\n",
       "    }\n",
       "</style>\n",
       "<table border=\"1\" class=\"dataframe\">\n",
       "  <thead>\n",
       "    <tr style=\"text-align: right;\">\n",
       "      <th></th>\n",
       "      <th>STUDENTID</th>\n",
       "      <th>OFFENSE_DATE</th>\n",
       "      <th>ACTION_DURATION_ACTUAL</th>\n",
       "      <th>ISS</th>\n",
       "      <th>OSS</th>\n",
       "      <th>REFERRAL</th>\n",
       "    </tr>\n",
       "  </thead>\n",
       "  <tbody>\n",
       "    <tr>\n",
       "      <th>0</th>\n",
       "      <td>143624</td>\n",
       "      <td>2017-02-21</td>\n",
       "      <td>3.0</td>\n",
       "      <td>0</td>\n",
       "      <td>1</td>\n",
       "      <td>0</td>\n",
       "    </tr>\n",
       "    <tr>\n",
       "      <th>1</th>\n",
       "      <td>143624</td>\n",
       "      <td>2017-02-21</td>\n",
       "      <td>NaN</td>\n",
       "      <td>0</td>\n",
       "      <td>0</td>\n",
       "      <td>1</td>\n",
       "    </tr>\n",
       "    <tr>\n",
       "      <th>2</th>\n",
       "      <td>143624</td>\n",
       "      <td>2017-02-21</td>\n",
       "      <td>NaN</td>\n",
       "      <td>0</td>\n",
       "      <td>0</td>\n",
       "      <td>1</td>\n",
       "    </tr>\n",
       "    <tr>\n",
       "      <th>3</th>\n",
       "      <td>143624</td>\n",
       "      <td>2017-02-21</td>\n",
       "      <td>3.0</td>\n",
       "      <td>0</td>\n",
       "      <td>1</td>\n",
       "      <td>0</td>\n",
       "    </tr>\n",
       "    <tr>\n",
       "      <th>4</th>\n",
       "      <td>143624</td>\n",
       "      <td>2017-02-21</td>\n",
       "      <td>1.0</td>\n",
       "      <td>1</td>\n",
       "      <td>0</td>\n",
       "      <td>1</td>\n",
       "    </tr>\n",
       "    <tr>\n",
       "      <th>5</th>\n",
       "      <td>68649</td>\n",
       "      <td>2017-02-21</td>\n",
       "      <td>3.0</td>\n",
       "      <td>0</td>\n",
       "      <td>1</td>\n",
       "      <td>0</td>\n",
       "    </tr>\n",
       "    <tr>\n",
       "      <th>6</th>\n",
       "      <td>68649</td>\n",
       "      <td>2017-02-21</td>\n",
       "      <td>NaN</td>\n",
       "      <td>0</td>\n",
       "      <td>0</td>\n",
       "      <td>1</td>\n",
       "    </tr>\n",
       "    <tr>\n",
       "      <th>7</th>\n",
       "      <td>68649</td>\n",
       "      <td>2017-02-21</td>\n",
       "      <td>NaN</td>\n",
       "      <td>0</td>\n",
       "      <td>0</td>\n",
       "      <td>1</td>\n",
       "    </tr>\n",
       "    <tr>\n",
       "      <th>8</th>\n",
       "      <td>68649</td>\n",
       "      <td>2017-02-21</td>\n",
       "      <td>3.0</td>\n",
       "      <td>0</td>\n",
       "      <td>1</td>\n",
       "      <td>0</td>\n",
       "    </tr>\n",
       "    <tr>\n",
       "      <th>9</th>\n",
       "      <td>68649</td>\n",
       "      <td>2017-02-21</td>\n",
       "      <td>1.0</td>\n",
       "      <td>1</td>\n",
       "      <td>0</td>\n",
       "      <td>1</td>\n",
       "    </tr>\n",
       "  </tbody>\n",
       "</table>\n",
       "</div>"
      ],
      "text/plain": [
       "   STUDENTID OFFENSE_DATE  ACTION_DURATION_ACTUAL  ISS  OSS  REFERRAL\n",
       "0     143624   2017-02-21                     3.0    0    1         0\n",
       "1     143624   2017-02-21                     NaN    0    0         1\n",
       "2     143624   2017-02-21                     NaN    0    0         1\n",
       "3     143624   2017-02-21                     3.0    0    1         0\n",
       "4     143624   2017-02-21                     1.0    1    0         1\n",
       "5      68649   2017-02-21                     3.0    0    1         0\n",
       "6      68649   2017-02-21                     NaN    0    0         1\n",
       "7      68649   2017-02-21                     NaN    0    0         1\n",
       "8      68649   2017-02-21                     3.0    0    1         0\n",
       "9      68649   2017-02-21                     1.0    1    0         1"
      ]
     },
     "execution_count": 149,
     "metadata": {},
     "output_type": "execute_result"
    }
   ],
   "source": [
    "# New df for further analysis\n",
    "disc_df = data[['STUDENTID', 'OFFENSE_DATE', 'ACTION_DURATION_ACTUAL', 'ISS', 'OSS', 'REFERRAL']]\n",
    "print(f'Shape of dataset: {disc_df.shape}\\n')\n",
    "print(f'Missing values in dataset: \\n{disc_df.isnull().sum()}\\n')\n",
    "disc_df.head(10)"
   ]
  },
  {
   "cell_type": "code",
   "execution_count": 152,
   "metadata": {},
   "outputs": [],
   "source": [
    "# Save this df to csv\n",
    "disc_df.to_csv('new_discipline.csv', sep=',', index=False)"
   ]
  },
  {
   "cell_type": "code",
   "execution_count": null,
   "metadata": {},
   "outputs": [],
   "source": []
  }
 ],
 "metadata": {
  "kernelspec": {
   "display_name": "Python 3.9.7 ('base')",
   "language": "python",
   "name": "python3"
  },
  "language_info": {
   "codemirror_mode": {
    "name": "ipython",
    "version": 3
   },
   "file_extension": ".py",
   "mimetype": "text/x-python",
   "name": "python",
   "nbconvert_exporter": "python",
   "pygments_lexer": "ipython3",
   "version": "3.9.7"
  },
  "orig_nbformat": 4,
  "vscode": {
   "interpreter": {
    "hash": "10c4d5e3e59449d76f72563cbdc1a70e5b77851502e7893fcbb9649d12950c06"
   }
  }
 },
 "nbformat": 4,
 "nbformat_minor": 2
}
